{
    "metadata": {
        "kernelspec": {
            "name": "SQL",
            "display_name": "SQL",
            "language": "sql"
        },
        "language_info": {
            "name": "sql",
            "version": ""
        }
    },
    "nbformat_minor": 2,
    "nbformat": 4,
    "cells": [
        {
            "cell_type": "markdown",
            "source": [
                "### **Alex Osterbuhr**\n",
                "\n",
                "SQL Assignment 1"
            ],
            "metadata": {
                "azdata_cell_guid": "db0889a0-bd9b-4d6b-9073-2391453c0b5d"
            },
            "attachments": {}
        },
        {
            "cell_type": "markdown",
            "source": [
                "  \n",
                "\n",
                "<span style=\"font-size: 12pt; font-family: &quot;Times New Roman&quot;; color: rgb(0, 0, 0); background-color: transparent; font-weight: 700; font-variant-numeric: normal; font-variant-east-asian: normal; text-decoration-line: underline; text-decoration-skip-ink: none; vertical-align: baseline; white-space: pre-wrap;\">Problem 1</span>\n",
                "\n",
                "<span style=\"font-size: 12pt; font-family: &quot;Times New Roman&quot;; color: rgb(0, 0, 0); background-color: transparent; font-variant-numeric: normal; font-variant-east-asian: normal; vertical-align: baseline; white-space: pre-wrap;\">You are a business analyst at AdventureWorks and are assisting the Human Resources team with a succession planning exercise.&nbsp; They would like to project upcoming retirements to get a sense of how many positions will need to be filled in the coming years.</span>\n",
                "\n",
                "  \n",
                "\n",
                "<span style=\"font-size: 12pt; font-family: &quot;Times New Roman&quot;; color: rgb(0, 0, 0); background-color: transparent; font-variant-numeric: normal; font-variant-east-asian: normal; vertical-align: baseline; white-space: pre-wrap;\">There are five parts to this problem.&nbsp; You should be able to answer all five parts using only the information in the HumanResources.Employee table.</span>\n",
                "\n",
                "<span style=\"font-size: 12pt; font-family: &quot;Times New Roman&quot;; color: rgb(0, 0, 0); background-color: transparent; font-variant-numeric: normal; font-variant-east-asian: normal; vertical-align: baseline; white-space: pre-wrap;\"><br></span>"
            ],
            "metadata": {
                "azdata_cell_guid": "d6704bb4-4c55-43ae-8698-68a0ba1b32df"
            },
            "attachments": {}
        },
        {
            "cell_type": "markdown",
            "source": [
                "<span style=\"font-size: 12pt; font-family: &quot;Times New Roman&quot;; color: rgb(0, 0, 0); background-color: transparent; font-variant-numeric: normal; font-variant-east-asian: normal; text-decoration-line: underline; text-decoration-skip-ink: none; vertical-align: baseline; white-space: pre-wrap;\">Part A</span>\n",
                "\n",
                "<span style=\"font-size: 12pt; font-family: &quot;Times New Roman&quot;; color: rgb(0, 0, 0); background-color: transparent; font-variant-numeric: normal; font-variant-east-asian: normal; vertical-align: baseline; white-space: pre-wrap;\">The first step in the succession planning exercise is to come up with a list of all of the job titles of employees in the company.&nbsp; Produce a list of unique job titles, sorted in alphabetical order.</span>\n",
                "\n",
                "<span style=\"font-size: 12pt; font-family: &quot;Times New Roman&quot;; color: rgb(0, 0, 0); background-color: transparent; font-variant-numeric: normal; font-variant-east-asian: normal; vertical-align: baseline; white-space: pre-wrap;\"><br></span>"
            ],
            "metadata": {
                "azdata_cell_guid": "cec9762f-26fb-4df3-b63d-6bd74ccc6b33"
            },
            "attachments": {}
        },
        {
            "cell_type": "code",
            "source": [
                "Select Distinct JobTitle\r\n",
                "FROM HumanResources.Employee"
            ],
            "metadata": {
                "azdata_cell_guid": "0484acfb-1659-46cc-9bba-5b6e059652a5",
                "language": "sql",
                "tags": []
            },
            "outputs": [
                {
                    "output_type": "display_data",
                    "data": {
                        "text/html": "(67 rows affected)"
                    },
                    "metadata": {}
                },
                {
                    "output_type": "display_data",
                    "data": {
                        "text/html": "Total execution time: 00:00:00.056"
                    },
                    "metadata": {}
                },
                {
                    "output_type": "execute_result",
                    "metadata": {},
                    "execution_count": 244,
                    "data": {
                        "application/vnd.dataresource+json": {
                            "schema": {
                                "fields": [
                                    {
                                        "name": "JobTitle"
                                    }
                                ]
                            },
                            "data": [
                                {
                                    "0": "Accountant"
                                },
                                {
                                    "0": "Accounts Manager"
                                },
                                {
                                    "0": "Accounts Payable Specialist"
                                },
                                {
                                    "0": "Accounts Receivable Specialist"
                                },
                                {
                                    "0": "Application Specialist"
                                },
                                {
                                    "0": "Assistant to the Chief Financial Officer"
                                },
                                {
                                    "0": "Benefits Specialist"
                                },
                                {
                                    "0": "Buyer"
                                },
                                {
                                    "0": "Chief Executive Officer"
                                },
                                {
                                    "0": "Chief Financial Officer"
                                },
                                {
                                    "0": "Control Specialist"
                                },
                                {
                                    "0": "Database Administrator"
                                },
                                {
                                    "0": "Design Engineer"
                                },
                                {
                                    "0": "Document Control Assistant"
                                },
                                {
                                    "0": "Document Control Manager"
                                },
                                {
                                    "0": "Engineering Manager"
                                },
                                {
                                    "0": "European Sales Manager"
                                },
                                {
                                    "0": "Facilities Administrative Assistant"
                                },
                                {
                                    "0": "Facilities Manager"
                                },
                                {
                                    "0": "Finance Manager"
                                },
                                {
                                    "0": "Human Resources Administrative Assistant"
                                },
                                {
                                    "0": "Human Resources Manager"
                                },
                                {
                                    "0": "Information Services Manager"
                                },
                                {
                                    "0": "Janitor"
                                },
                                {
                                    "0": "Maintenance Supervisor"
                                },
                                {
                                    "0": "Marketing Assistant"
                                },
                                {
                                    "0": "Marketing Manager"
                                },
                                {
                                    "0": "Marketing Specialist"
                                },
                                {
                                    "0": "Master Scheduler"
                                },
                                {
                                    "0": "Network Administrator"
                                },
                                {
                                    "0": "Network Manager"
                                },
                                {
                                    "0": "North American Sales Manager"
                                },
                                {
                                    "0": "Pacific Sales Manager"
                                },
                                {
                                    "0": "Production Control Manager"
                                },
                                {
                                    "0": "Production Supervisor - WC10"
                                },
                                {
                                    "0": "Production Supervisor - WC20"
                                },
                                {
                                    "0": "Production Supervisor - WC30"
                                },
                                {
                                    "0": "Production Supervisor - WC40"
                                },
                                {
                                    "0": "Production Supervisor - WC45"
                                },
                                {
                                    "0": "Production Supervisor - WC50"
                                },
                                {
                                    "0": "Production Supervisor - WC60"
                                },
                                {
                                    "0": "Production Technician - WC10"
                                },
                                {
                                    "0": "Production Technician - WC20"
                                },
                                {
                                    "0": "Production Technician - WC30"
                                },
                                {
                                    "0": "Production Technician - WC40"
                                },
                                {
                                    "0": "Production Technician - WC45"
                                },
                                {
                                    "0": "Production Technician - WC50"
                                },
                                {
                                    "0": "Production Technician - WC60"
                                },
                                {
                                    "0": "Purchasing Assistant"
                                },
                                {
                                    "0": "Purchasing Manager"
                                },
                                {
                                    "0": "Quality Assurance Manager"
                                },
                                {
                                    "0": "Quality Assurance Supervisor"
                                },
                                {
                                    "0": "Quality Assurance Technician"
                                },
                                {
                                    "0": "Recruiter"
                                },
                                {
                                    "0": "Research and Development Engineer"
                                },
                                {
                                    "0": "Research and Development Manager"
                                },
                                {
                                    "0": "Sales Representative"
                                },
                                {
                                    "0": "Scheduling Assistant"
                                },
                                {
                                    "0": "Senior Design Engineer"
                                },
                                {
                                    "0": "Senior Tool Designer"
                                },
                                {
                                    "0": "Shipping and Receiving Clerk"
                                },
                                {
                                    "0": "Shipping and Receiving Supervisor"
                                },
                                {
                                    "0": "Stocker"
                                },
                                {
                                    "0": "Tool Designer"
                                },
                                {
                                    "0": "Vice President of Engineering"
                                },
                                {
                                    "0": "Vice President of Production"
                                },
                                {
                                    "0": "Vice President of Sales"
                                }
                            ]
                        },
                        "text/html": [
                            "<table>",
                            "<tr><th>JobTitle</th></tr>",
                            "<tr><td>Accountant</td></tr>",
                            "<tr><td>Accounts Manager</td></tr>",
                            "<tr><td>Accounts Payable Specialist</td></tr>",
                            "<tr><td>Accounts Receivable Specialist</td></tr>",
                            "<tr><td>Application Specialist</td></tr>",
                            "<tr><td>Assistant to the Chief Financial Officer</td></tr>",
                            "<tr><td>Benefits Specialist</td></tr>",
                            "<tr><td>Buyer</td></tr>",
                            "<tr><td>Chief Executive Officer</td></tr>",
                            "<tr><td>Chief Financial Officer</td></tr>",
                            "<tr><td>Control Specialist</td></tr>",
                            "<tr><td>Database Administrator</td></tr>",
                            "<tr><td>Design Engineer</td></tr>",
                            "<tr><td>Document Control Assistant</td></tr>",
                            "<tr><td>Document Control Manager</td></tr>",
                            "<tr><td>Engineering Manager</td></tr>",
                            "<tr><td>European Sales Manager</td></tr>",
                            "<tr><td>Facilities Administrative Assistant</td></tr>",
                            "<tr><td>Facilities Manager</td></tr>",
                            "<tr><td>Finance Manager</td></tr>",
                            "<tr><td>Human Resources Administrative Assistant</td></tr>",
                            "<tr><td>Human Resources Manager</td></tr>",
                            "<tr><td>Information Services Manager</td></tr>",
                            "<tr><td>Janitor</td></tr>",
                            "<tr><td>Maintenance Supervisor</td></tr>",
                            "<tr><td>Marketing Assistant</td></tr>",
                            "<tr><td>Marketing Manager</td></tr>",
                            "<tr><td>Marketing Specialist</td></tr>",
                            "<tr><td>Master Scheduler</td></tr>",
                            "<tr><td>Network Administrator</td></tr>",
                            "<tr><td>Network Manager</td></tr>",
                            "<tr><td>North American Sales Manager</td></tr>",
                            "<tr><td>Pacific Sales Manager</td></tr>",
                            "<tr><td>Production Control Manager</td></tr>",
                            "<tr><td>Production Supervisor - WC10</td></tr>",
                            "<tr><td>Production Supervisor - WC20</td></tr>",
                            "<tr><td>Production Supervisor - WC30</td></tr>",
                            "<tr><td>Production Supervisor - WC40</td></tr>",
                            "<tr><td>Production Supervisor - WC45</td></tr>",
                            "<tr><td>Production Supervisor - WC50</td></tr>",
                            "<tr><td>Production Supervisor - WC60</td></tr>",
                            "<tr><td>Production Technician - WC10</td></tr>",
                            "<tr><td>Production Technician - WC20</td></tr>",
                            "<tr><td>Production Technician - WC30</td></tr>",
                            "<tr><td>Production Technician - WC40</td></tr>",
                            "<tr><td>Production Technician - WC45</td></tr>",
                            "<tr><td>Production Technician - WC50</td></tr>",
                            "<tr><td>Production Technician - WC60</td></tr>",
                            "<tr><td>Purchasing Assistant</td></tr>",
                            "<tr><td>Purchasing Manager</td></tr>",
                            "<tr><td>Quality Assurance Manager</td></tr>",
                            "<tr><td>Quality Assurance Supervisor</td></tr>",
                            "<tr><td>Quality Assurance Technician</td></tr>",
                            "<tr><td>Recruiter</td></tr>",
                            "<tr><td>Research and Development Engineer</td></tr>",
                            "<tr><td>Research and Development Manager</td></tr>",
                            "<tr><td>Sales Representative</td></tr>",
                            "<tr><td>Scheduling Assistant</td></tr>",
                            "<tr><td>Senior Design Engineer</td></tr>",
                            "<tr><td>Senior Tool Designer</td></tr>",
                            "<tr><td>Shipping and Receiving Clerk</td></tr>",
                            "<tr><td>Shipping and Receiving Supervisor</td></tr>",
                            "<tr><td>Stocker</td></tr>",
                            "<tr><td>Tool Designer</td></tr>",
                            "<tr><td>Vice President of Engineering</td></tr>",
                            "<tr><td>Vice President of Production</td></tr>",
                            "<tr><td>Vice President of Sales</td></tr>",
                            "</table>"
                        ]
                    }
                }
            ],
            "execution_count": 244
        },
        {
            "cell_type": "markdown",
            "source": [
                "<span style=\"font-size: 12pt; font-family: &quot;Times New Roman&quot;; color: rgb(0, 0, 0); background-color: transparent; font-variant-numeric: normal; font-variant-east-asian: normal; text-decoration-line: underline; text-decoration-skip-ink: none; vertical-align: baseline; white-space: pre-wrap;\">Part B</span>\n",
                "\n",
                "<span style=\"font-size: 12pt; font-family: &quot;Times New Roman&quot;; color: rgb(0, 0, 0); background-color: transparent; font-variant-numeric: normal; font-variant-east-asian: normal; vertical-align: baseline; white-space: pre-wrap;\">The Human Resources team would like to identify all of the job titles of employees who are in management roles.&nbsp; Revise your query from Part A to limit the results to those employees who have the word “Manager”, “Supervisor”, “Chief”, or “Vice President” in their titles.&nbsp; Be careful that your results only include employees who are in management roles.&nbsp; As with the previous query, you should produce a list of unique job titles, sorted in alphabetical order.</span>\n",
                "\n",
                "<span style=\"font-size: 12pt; font-family: &quot;Times New Roman&quot;; color: rgb(0, 0, 0); background-color: transparent; font-variant-numeric: normal; font-variant-east-asian: normal; vertical-align: baseline; white-space: pre-wrap;\"><br></span>"
            ],
            "metadata": {
                "azdata_cell_guid": "908c1007-28ca-45fd-951e-3c48671269ea"
            },
            "attachments": {}
        },
        {
            "cell_type": "code",
            "source": [
                "Select Distinct JobTitle\r\n",
                "From HumanResources.Employee\r\n",
                "Where (JobTitle like '%Manager%' \r\n",
                "or JobTitle like '%Supervisor%'\r\n",
                "or JobTitle like 'Chief%'\r\n",
                "or JobTitle like 'Vice President%')"
            ],
            "metadata": {
                "azdata_cell_guid": "5cef301a-ae88-4439-82c3-03b3b9227d03",
                "language": "sql"
            },
            "outputs": [
                {
                    "output_type": "display_data",
                    "data": {
                        "text/html": "(31 rows affected)"
                    },
                    "metadata": {}
                },
                {
                    "output_type": "display_data",
                    "data": {
                        "text/html": "Total execution time: 00:00:00.053"
                    },
                    "metadata": {}
                },
                {
                    "output_type": "execute_result",
                    "execution_count": 24,
                    "data": {
                        "application/vnd.dataresource+json": {
                            "schema": {
                                "fields": [
                                    {
                                        "name": "JobTitle"
                                    }
                                ]
                            },
                            "data": [
                                {
                                    "0": "Accounts Manager"
                                },
                                {
                                    "0": "Chief Executive Officer"
                                },
                                {
                                    "0": "Chief Financial Officer"
                                },
                                {
                                    "0": "Document Control Manager"
                                },
                                {
                                    "0": "Engineering Manager"
                                },
                                {
                                    "0": "European Sales Manager"
                                },
                                {
                                    "0": "Facilities Manager"
                                },
                                {
                                    "0": "Finance Manager"
                                },
                                {
                                    "0": "Human Resources Manager"
                                },
                                {
                                    "0": "Information Services Manager"
                                },
                                {
                                    "0": "Maintenance Supervisor"
                                },
                                {
                                    "0": "Marketing Manager"
                                },
                                {
                                    "0": "Network Manager"
                                },
                                {
                                    "0": "North American Sales Manager"
                                },
                                {
                                    "0": "Pacific Sales Manager"
                                },
                                {
                                    "0": "Production Control Manager"
                                },
                                {
                                    "0": "Production Supervisor - WC10"
                                },
                                {
                                    "0": "Production Supervisor - WC20"
                                },
                                {
                                    "0": "Production Supervisor - WC30"
                                },
                                {
                                    "0": "Production Supervisor - WC40"
                                },
                                {
                                    "0": "Production Supervisor - WC45"
                                },
                                {
                                    "0": "Production Supervisor - WC50"
                                },
                                {
                                    "0": "Production Supervisor - WC60"
                                },
                                {
                                    "0": "Purchasing Manager"
                                },
                                {
                                    "0": "Quality Assurance Manager"
                                },
                                {
                                    "0": "Quality Assurance Supervisor"
                                },
                                {
                                    "0": "Research and Development Manager"
                                },
                                {
                                    "0": "Shipping and Receiving Supervisor"
                                },
                                {
                                    "0": "Vice President of Engineering"
                                },
                                {
                                    "0": "Vice President of Production"
                                },
                                {
                                    "0": "Vice President of Sales"
                                }
                            ]
                        },
                        "text/html": "<table><tr><th>JobTitle</th></tr><tr><td>Accounts Manager</td></tr><tr><td>Chief Executive Officer</td></tr><tr><td>Chief Financial Officer</td></tr><tr><td>Document Control Manager</td></tr><tr><td>Engineering Manager</td></tr><tr><td>European Sales Manager</td></tr><tr><td>Facilities Manager</td></tr><tr><td>Finance Manager</td></tr><tr><td>Human Resources Manager</td></tr><tr><td>Information Services Manager</td></tr><tr><td>Maintenance Supervisor</td></tr><tr><td>Marketing Manager</td></tr><tr><td>Network Manager</td></tr><tr><td>North American Sales Manager</td></tr><tr><td>Pacific Sales Manager</td></tr><tr><td>Production Control Manager</td></tr><tr><td>Production Supervisor - WC10</td></tr><tr><td>Production Supervisor - WC20</td></tr><tr><td>Production Supervisor - WC30</td></tr><tr><td>Production Supervisor - WC40</td></tr><tr><td>Production Supervisor - WC45</td></tr><tr><td>Production Supervisor - WC50</td></tr><tr><td>Production Supervisor - WC60</td></tr><tr><td>Purchasing Manager</td></tr><tr><td>Quality Assurance Manager</td></tr><tr><td>Quality Assurance Supervisor</td></tr><tr><td>Research and Development Manager</td></tr><tr><td>Shipping and Receiving Supervisor</td></tr><tr><td>Vice President of Engineering</td></tr><tr><td>Vice President of Production</td></tr><tr><td>Vice President of Sales</td></tr></table>"
                    },
                    "metadata": {}
                }
            ],
            "execution_count": 24
        },
        {
            "cell_type": "markdown",
            "source": [
                "<span style=\"font-size: 12pt; font-family: &quot;Times New Roman&quot;; color: rgb(0, 0, 0); background-color: transparent; font-variant-numeric: normal; font-variant-east-asian: normal; text-decoration-line: underline; text-decoration-skip-ink: none; vertical-align: baseline; white-space: pre-wrap;\">Part C</span>\n",
                "\n",
                "<span style=\"font-size: 12pt; font-family: &quot;Times New Roman&quot;; color: rgb(0, 0, 0); background-color: transparent; font-variant-numeric: normal; font-variant-east-asian: normal; vertical-align: baseline; white-space: pre-wrap;\">Now the Human Resources team would like to know how many employees are in management roles (using the same four job titles as in Part B).&nbsp; Modify your query from Part B to return only the number of employees in those roles.&nbsp; Name the result “Managers”.</span>\n",
                "\n",
                "<span style=\"font-size: 12pt; font-family: &quot;Times New Roman&quot;; color: rgb(0, 0, 0); background-color: transparent; font-variant-numeric: normal; font-variant-east-asian: normal; vertical-align: baseline; white-space: pre-wrap;\"><br></span>"
            ],
            "metadata": {
                "azdata_cell_guid": "971b3eb3-4af9-4fa2-b5be-f492289ae5f0"
            },
            "attachments": {}
        },
        {
            "cell_type": "code",
            "source": [
                "Select Count(*) as 'Managers'\r\n",
                "From HumanResources.Employee\r\n",
                "Where (JobTitle like '%Manager%' \r\n",
                "or JobTitle like '%Supervisor%'\r\n",
                "or JobTitle like 'Chief%'\r\n",
                "or JobTitle like 'Vice President%')"
            ],
            "metadata": {
                "azdata_cell_guid": "ff633ad5-92b1-4002-ba57-b61510488d03",
                "language": "sql"
            },
            "outputs": [
                {
                    "output_type": "display_data",
                    "data": {
                        "text/html": "(1 row affected)"
                    },
                    "metadata": {}
                },
                {
                    "output_type": "display_data",
                    "data": {
                        "text/html": "Total execution time: 00:00:00.284"
                    },
                    "metadata": {}
                },
                {
                    "output_type": "execute_result",
                    "execution_count": 30,
                    "data": {
                        "application/vnd.dataresource+json": {
                            "schema": {
                                "fields": [
                                    {
                                        "name": "Managers"
                                    }
                                ]
                            },
                            "data": [
                                {
                                    "0": "46"
                                }
                            ]
                        },
                        "text/html": "<table><tr><th>Managers</th></tr><tr><td>46</td></tr></table>"
                    },
                    "metadata": {}
                }
            ],
            "execution_count": 30
        },
        {
            "cell_type": "markdown",
            "source": [
                "<span style=\"font-size: 12pt; font-family: &quot;Times New Roman&quot;; color: rgb(0, 0, 0); background-color: transparent; font-variant-numeric: normal; font-variant-east-asian: normal; text-decoration-line: underline; text-decoration-skip-ink: none; vertical-align: baseline; white-space: pre-wrap;\">Part D</span>\n",
                "\n",
                "<span style=\"font-size: 12pt; font-family: &quot;Times New Roman&quot;; color: rgb(0, 0, 0); background-color: transparent; font-variant-numeric: normal; font-variant-east-asian: normal; vertical-align: baseline; white-space: pre-wrap;\">Using a single SQL query, produce a list of </span> <span style=\"font-size: 12pt; font-family: &quot;Times New Roman&quot;; color: rgb(0, 0, 0); background-color: transparent; font-variant-numeric: normal; font-variant-east-asian: normal; text-decoration-line: underline; text-decoration-skip-ink: none; vertical-align: baseline; white-space: pre-wrap;\">current</span> <span style=\"font-size: 12pt; font-family: &quot;Times New Roman&quot;; color: rgb(0, 0, 0); background-color: transparent; font-variant-numeric: normal; font-variant-east-asian: normal; vertical-align: baseline; white-space: pre-wrap;\"> employees at AdventureWorks who are at least 60 years old.&nbsp; The result of your query should be a table of BusinessEntityID (rename this as “EmployeeID”), JobTitle, and BirthDate.&nbsp; Sort this table so that the youngest relevant employee appears at the top of the list.</span>"
            ],
            "metadata": {
                "azdata_cell_guid": "b977d6a9-a1e5-4509-af12-bc8c6609bb47"
            },
            "attachments": {}
        },
        {
            "cell_type": "code",
            "source": [
                "select BusinessEntityID as 'EmployeeID', JobTitle, BirthDate\r\n",
                "From HumanResources.Employee \r\n",
                "Where CurrentFlag=1\r\n",
                "and DATEADD(yy,60,BirthDate) <= cast(Getdate() as date)\r\n",
                "Order By BirthDate desc"
            ],
            "metadata": {
                "azdata_cell_guid": "f7854637-49e0-447f-a156-4a08a871e6cb",
                "language": "sql",
                "tags": []
            },
            "outputs": [
                {
                    "output_type": "display_data",
                    "data": {
                        "text/html": "(24 rows affected)"
                    },
                    "metadata": {}
                },
                {
                    "output_type": "display_data",
                    "data": {
                        "text/html": "Total execution time: 00:00:00.045"
                    },
                    "metadata": {}
                },
                {
                    "output_type": "execute_result",
                    "metadata": {},
                    "execution_count": 211,
                    "data": {
                        "application/vnd.dataresource+json": {
                            "schema": {
                                "fields": [
                                    {
                                        "name": "EmployeeID"
                                    },
                                    {
                                        "name": "JobTitle"
                                    },
                                    {
                                        "name": "BirthDate"
                                    }
                                ]
                            },
                            "data": [
                                {
                                    "0": "23",
                                    "1": "Marketing Specialist",
                                    "2": "1962-09-13"
                                },
                                {
                                    "0": "206",
                                    "1": "Production Technician - WC45",
                                    "2": "1962-09-13"
                                },
                                {
                                    "0": "277",
                                    "1": "Sales Representative",
                                    "2": "1962-08-29"
                                },
                                {
                                    "0": "15",
                                    "1": "Design Engineer",
                                    "2": "1961-05-02"
                                },
                                {
                                    "0": "12",
                                    "1": "Tool Designer",
                                    "2": "1959-07-29"
                                },
                                {
                                    "0": "6",
                                    "1": "Design Engineer",
                                    "2": "1959-03-11"
                                },
                                {
                                    "0": "287",
                                    "1": "European Sales Manager",
                                    "2": "1957-09-20"
                                },
                                {
                                    "0": "27",
                                    "1": "Production Supervisor - WC60",
                                    "2": "1956-10-08"
                                },
                                {
                                    "0": "50",
                                    "1": "Production Technician - WC10",
                                    "2": "1956-08-30"
                                },
                                {
                                    "0": "62",
                                    "1": "Production Supervisor - WC60",
                                    "2": "1956-08-07"
                                },
                                {
                                    "0": "51",
                                    "1": "Production Technician - WC10",
                                    "2": "1956-07-11"
                                },
                                {
                                    "0": "48",
                                    "1": "Production Technician - WC10",
                                    "2": "1956-06-04"
                                },
                                {
                                    "0": "52",
                                    "1": "Production Technician - WC10",
                                    "2": "1956-04-04"
                                },
                                {
                                    "0": "55",
                                    "1": "Production Supervisor - WC50",
                                    "2": "1956-04-01"
                                },
                                {
                                    "0": "53",
                                    "1": "Production Technician - WC10",
                                    "2": "1956-03-29"
                                },
                                {
                                    "0": "49",
                                    "1": "Production Technician - WC10",
                                    "2": "1956-03-26"
                                },
                                {
                                    "0": "40",
                                    "1": "Production Supervisor - WC60",
                                    "2": "1956-01-16"
                                },
                                {
                                    "0": "63",
                                    "1": "Production Technician - WC60",
                                    "2": "1955-01-30"
                                },
                                {
                                    "0": "231",
                                    "1": "Janitor",
                                    "2": "1954-04-24"
                                },
                                {
                                    "0": "140",
                                    "1": "Production Technician - WC20",
                                    "2": "1953-04-30"
                                },
                                {
                                    "0": "5",
                                    "1": "Design Engineer",
                                    "2": "1952-09-27"
                                },
                                {
                                    "0": "256",
                                    "1": "Buyer",
                                    "2": "1952-05-12"
                                },
                                {
                                    "0": "84",
                                    "1": "Production Technician - WC40",
                                    "2": "1952-03-02"
                                },
                                {
                                    "0": "274",
                                    "1": "North American Sales Manager",
                                    "2": "1951-10-17"
                                }
                            ]
                        },
                        "text/html": [
                            "<table>",
                            "<tr><th>EmployeeID</th><th>JobTitle</th><th>BirthDate</th></tr>",
                            "<tr><td>23</td><td>Marketing Specialist</td><td>1962-09-13</td></tr>",
                            "<tr><td>206</td><td>Production Technician - WC45</td><td>1962-09-13</td></tr>",
                            "<tr><td>277</td><td>Sales Representative</td><td>1962-08-29</td></tr>",
                            "<tr><td>15</td><td>Design Engineer</td><td>1961-05-02</td></tr>",
                            "<tr><td>12</td><td>Tool Designer</td><td>1959-07-29</td></tr>",
                            "<tr><td>6</td><td>Design Engineer</td><td>1959-03-11</td></tr>",
                            "<tr><td>287</td><td>European Sales Manager</td><td>1957-09-20</td></tr>",
                            "<tr><td>27</td><td>Production Supervisor - WC60</td><td>1956-10-08</td></tr>",
                            "<tr><td>50</td><td>Production Technician - WC10</td><td>1956-08-30</td></tr>",
                            "<tr><td>62</td><td>Production Supervisor - WC60</td><td>1956-08-07</td></tr>",
                            "<tr><td>51</td><td>Production Technician - WC10</td><td>1956-07-11</td></tr>",
                            "<tr><td>48</td><td>Production Technician - WC10</td><td>1956-06-04</td></tr>",
                            "<tr><td>52</td><td>Production Technician - WC10</td><td>1956-04-04</td></tr>",
                            "<tr><td>55</td><td>Production Supervisor - WC50</td><td>1956-04-01</td></tr>",
                            "<tr><td>53</td><td>Production Technician - WC10</td><td>1956-03-29</td></tr>",
                            "<tr><td>49</td><td>Production Technician - WC10</td><td>1956-03-26</td></tr>",
                            "<tr><td>40</td><td>Production Supervisor - WC60</td><td>1956-01-16</td></tr>",
                            "<tr><td>63</td><td>Production Technician - WC60</td><td>1955-01-30</td></tr>",
                            "<tr><td>231</td><td>Janitor</td><td>1954-04-24</td></tr>",
                            "<tr><td>140</td><td>Production Technician - WC20</td><td>1953-04-30</td></tr>",
                            "<tr><td>5</td><td>Design Engineer</td><td>1952-09-27</td></tr>",
                            "<tr><td>256</td><td>Buyer</td><td>1952-05-12</td></tr>",
                            "<tr><td>84</td><td>Production Technician - WC40</td><td>1952-03-02</td></tr>",
                            "<tr><td>274</td><td>North American Sales Manager</td><td>1951-10-17</td></tr>",
                            "</table>"
                        ]
                    }
                }
            ],
            "execution_count": 211
        },
        {
            "cell_type": "markdown",
            "source": [
                "<span style=\"font-size: 12pt; font-family: &quot;Times New Roman&quot;; color: rgb(0, 0, 0); background-color: transparent; font-variant-numeric: normal; font-variant-east-asian: normal; text-decoration-line: underline; text-decoration-skip-ink: none; vertical-align: baseline; white-space: pre-wrap;\">Part E</span>\n",
                "\n",
                "<span style=\"font-size: 12pt; font-family: &quot;Times New Roman&quot;; color: rgb(0, 0, 0); background-color: transparent; font-variant-numeric: normal; font-variant-east-asian: normal; vertical-align: baseline; white-space: pre-wrap;\">A consultant working with the HR team determined that employees with less than seven years of employment are much less likely to leave the company when they become eligible for retirement.&nbsp; Start with the list of employees who are at least 60 years old from Part D and revise your query to show the employee’s HireDate and the number of full years of employment (call this column EmploymentYears).&nbsp; Filter the results to only show those employees who have at least seven full years of employment.&nbsp; This time, sort the table so that it shows the relevant employees with the most service first.</span>\n",
                "\n",
                "<span style=\"font-size: 12pt; font-family: &quot;Times New Roman&quot;; color: rgb(0, 0, 0); background-color: transparent; font-variant-numeric: normal; font-variant-east-asian: normal; vertical-align: baseline; white-space: pre-wrap;\"><br></span>"
            ],
            "metadata": {
                "azdata_cell_guid": "eff54b58-552f-498d-a2d4-ae2d10c682db"
            },
            "attachments": {}
        },
        {
            "cell_type": "code",
            "source": [
                "select BusinessEntityID as 'EmployeeID', JobTitle, BirthDate, HireDate, \r\n",
                "cast(DATEDIFF(day, HireDate, GETDATE())/ 365.25 as int) as 'EmploymentYears'\r\n",
                "From HumanResources.Employee \r\n",
                "Where CurrentFlag=1\r\n",
                "and DATEADD(yy,07,HireDate) <= cast(Getdate() as date)\r\n",
                "and DATEADD(yy,60,BirthDate) <= cast(getdate() as date)\r\n",
                "Order By HireDate"
            ],
            "metadata": {
                "azdata_cell_guid": "cfd89d92-c06a-4573-b746-a854db0c76da",
                "language": "sql"
            },
            "outputs": [
                {
                    "output_type": "display_data",
                    "data": {
                        "text/html": "(24 rows affected)"
                    },
                    "metadata": {}
                },
                {
                    "output_type": "display_data",
                    "data": {
                        "text/html": "Total execution time: 00:00:00.056"
                    },
                    "metadata": {}
                },
                {
                    "output_type": "execute_result",
                    "metadata": {},
                    "execution_count": 240,
                    "data": {
                        "application/vnd.dataresource+json": {
                            "schema": {
                                "fields": [
                                    {
                                        "name": "EmployeeID"
                                    },
                                    {
                                        "name": "JobTitle"
                                    },
                                    {
                                        "name": "BirthDate"
                                    },
                                    {
                                        "name": "HireDate"
                                    },
                                    {
                                        "name": "EmploymentYears"
                                    }
                                ]
                            },
                            "data": [
                                {
                                    "0": "12",
                                    "1": "Tool Designer",
                                    "2": "1959-07-29",
                                    "3": "2007-12-11",
                                    "4": "15"
                                },
                                {
                                    "0": "40",
                                    "1": "Production Supervisor - WC60",
                                    "2": "1956-01-16",
                                    "3": "2007-12-26",
                                    "4": "15"
                                },
                                {
                                    "0": "48",
                                    "1": "Production Technician - WC10",
                                    "2": "1956-06-04",
                                    "3": "2008-01-06",
                                    "4": "15"
                                },
                                {
                                    "0": "5",
                                    "1": "Design Engineer",
                                    "2": "1952-09-27",
                                    "3": "2008-01-06",
                                    "4": "15"
                                },
                                {
                                    "0": "49",
                                    "1": "Production Technician - WC10",
                                    "2": "1956-03-26",
                                    "3": "2008-01-07",
                                    "4": "15"
                                },
                                {
                                    "0": "6",
                                    "1": "Design Engineer",
                                    "2": "1959-03-11",
                                    "3": "2008-01-24",
                                    "4": "14"
                                },
                                {
                                    "0": "50",
                                    "1": "Production Technician - WC10",
                                    "2": "1956-08-30",
                                    "3": "2008-02-02",
                                    "4": "14"
                                },
                                {
                                    "0": "55",
                                    "1": "Production Supervisor - WC50",
                                    "2": "1956-04-01",
                                    "3": "2008-02-08",
                                    "4": "14"
                                },
                                {
                                    "0": "51",
                                    "1": "Production Technician - WC10",
                                    "2": "1956-07-11",
                                    "3": "2008-02-20",
                                    "4": "14"
                                },
                                {
                                    "0": "27",
                                    "1": "Production Supervisor - WC60",
                                    "2": "1956-10-08",
                                    "3": "2008-02-27",
                                    "4": "14"
                                },
                                {
                                    "0": "52",
                                    "1": "Production Technician - WC10",
                                    "2": "1956-04-04",
                                    "3": "2008-03-10",
                                    "4": "14"
                                },
                                {
                                    "0": "62",
                                    "1": "Production Supervisor - WC60",
                                    "2": "1956-08-07",
                                    "3": "2008-03-17",
                                    "4": "14"
                                },
                                {
                                    "0": "53",
                                    "1": "Production Technician - WC10",
                                    "2": "1956-03-29",
                                    "3": "2008-03-28",
                                    "4": "14"
                                },
                                {
                                    "0": "206",
                                    "1": "Production Technician - WC45",
                                    "2": "1962-09-13",
                                    "3": "2008-12-02",
                                    "4": "14"
                                },
                                {
                                    "0": "23",
                                    "1": "Marketing Specialist",
                                    "2": "1962-09-13",
                                    "3": "2009-01-12",
                                    "4": "14"
                                },
                                {
                                    "0": "140",
                                    "1": "Production Technician - WC20",
                                    "2": "1953-04-30",
                                    "3": "2010-01-22",
                                    "4": "12"
                                },
                                {
                                    "0": "256",
                                    "1": "Buyer",
                                    "2": "1952-05-12",
                                    "3": "2010-01-23",
                                    "4": "12"
                                },
                                {
                                    "0": "63",
                                    "1": "Production Technician - WC60",
                                    "2": "1955-01-30",
                                    "3": "2010-01-29",
                                    "4": "12"
                                },
                                {
                                    "0": "84",
                                    "1": "Production Technician - WC40",
                                    "2": "1952-03-02",
                                    "3": "2010-02-05",
                                    "4": "12"
                                },
                                {
                                    "0": "231",
                                    "1": "Janitor",
                                    "2": "1954-04-24",
                                    "3": "2010-03-07",
                                    "4": "12"
                                },
                                {
                                    "0": "274",
                                    "1": "North American Sales Manager",
                                    "2": "1951-10-17",
                                    "3": "2011-01-04",
                                    "4": "12"
                                },
                                {
                                    "0": "15",
                                    "1": "Design Engineer",
                                    "2": "1961-05-02",
                                    "3": "2011-01-18",
                                    "4": "11"
                                },
                                {
                                    "0": "277",
                                    "1": "Sales Representative",
                                    "2": "1962-08-29",
                                    "3": "2011-05-31",
                                    "4": "11"
                                },
                                {
                                    "0": "287",
                                    "1": "European Sales Manager",
                                    "2": "1957-09-20",
                                    "3": "2012-04-16",
                                    "4": "10"
                                }
                            ]
                        },
                        "text/html": [
                            "<table>",
                            "<tr><th>EmployeeID</th><th>JobTitle</th><th>BirthDate</th><th>HireDate</th><th>EmploymentYears</th></tr>",
                            "<tr><td>12</td><td>Tool Designer</td><td>1959-07-29</td><td>2007-12-11</td><td>15</td></tr>",
                            "<tr><td>40</td><td>Production Supervisor - WC60</td><td>1956-01-16</td><td>2007-12-26</td><td>15</td></tr>",
                            "<tr><td>48</td><td>Production Technician - WC10</td><td>1956-06-04</td><td>2008-01-06</td><td>15</td></tr>",
                            "<tr><td>5</td><td>Design Engineer</td><td>1952-09-27</td><td>2008-01-06</td><td>15</td></tr>",
                            "<tr><td>49</td><td>Production Technician - WC10</td><td>1956-03-26</td><td>2008-01-07</td><td>15</td></tr>",
                            "<tr><td>6</td><td>Design Engineer</td><td>1959-03-11</td><td>2008-01-24</td><td>14</td></tr>",
                            "<tr><td>50</td><td>Production Technician - WC10</td><td>1956-08-30</td><td>2008-02-02</td><td>14</td></tr>",
                            "<tr><td>55</td><td>Production Supervisor - WC50</td><td>1956-04-01</td><td>2008-02-08</td><td>14</td></tr>",
                            "<tr><td>51</td><td>Production Technician - WC10</td><td>1956-07-11</td><td>2008-02-20</td><td>14</td></tr>",
                            "<tr><td>27</td><td>Production Supervisor - WC60</td><td>1956-10-08</td><td>2008-02-27</td><td>14</td></tr>",
                            "<tr><td>52</td><td>Production Technician - WC10</td><td>1956-04-04</td><td>2008-03-10</td><td>14</td></tr>",
                            "<tr><td>62</td><td>Production Supervisor - WC60</td><td>1956-08-07</td><td>2008-03-17</td><td>14</td></tr>",
                            "<tr><td>53</td><td>Production Technician - WC10</td><td>1956-03-29</td><td>2008-03-28</td><td>14</td></tr>",
                            "<tr><td>206</td><td>Production Technician - WC45</td><td>1962-09-13</td><td>2008-12-02</td><td>14</td></tr>",
                            "<tr><td>23</td><td>Marketing Specialist</td><td>1962-09-13</td><td>2009-01-12</td><td>14</td></tr>",
                            "<tr><td>140</td><td>Production Technician - WC20</td><td>1953-04-30</td><td>2010-01-22</td><td>12</td></tr>",
                            "<tr><td>256</td><td>Buyer</td><td>1952-05-12</td><td>2010-01-23</td><td>12</td></tr>",
                            "<tr><td>63</td><td>Production Technician - WC60</td><td>1955-01-30</td><td>2010-01-29</td><td>12</td></tr>",
                            "<tr><td>84</td><td>Production Technician - WC40</td><td>1952-03-02</td><td>2010-02-05</td><td>12</td></tr>",
                            "<tr><td>231</td><td>Janitor</td><td>1954-04-24</td><td>2010-03-07</td><td>12</td></tr>",
                            "<tr><td>274</td><td>North American Sales Manager</td><td>1951-10-17</td><td>2011-01-04</td><td>12</td></tr>",
                            "<tr><td>15</td><td>Design Engineer</td><td>1961-05-02</td><td>2011-01-18</td><td>11</td></tr>",
                            "<tr><td>277</td><td>Sales Representative</td><td>1962-08-29</td><td>2011-05-31</td><td>11</td></tr>",
                            "<tr><td>287</td><td>European Sales Manager</td><td>1957-09-20</td><td>2012-04-16</td><td>10</td></tr>",
                            "</table>"
                        ]
                    }
                }
            ],
            "execution_count": 240
        },
        {
            "cell_type": "markdown",
            "source": [
                "<span style=\"font-size: 12pt; font-family: &quot;Times New Roman&quot;; color: rgb(0, 0, 0); background-color: transparent; font-weight: 700; font-variant-numeric: normal; font-variant-east-asian: normal; text-decoration-line: underline; text-decoration-skip-ink: none; vertical-align: baseline; white-space: pre-wrap;\">Problem 2</span>\n",
                "\n",
                "<span style=\"font-size: 12pt; font-family: &quot;Times New Roman&quot;; color: rgb(0, 0, 0); background-color: transparent; font-variant-numeric: normal; font-variant-east-asian: normal; vertical-align: baseline; white-space: pre-wrap;\">After completing your assignment with the Human Resources team, your supervisor next asks you to assist the Product Management team with obtaining some information about current products.&nbsp;&nbsp;</span>  \n",
                "\n",
                "  \n",
                "\n",
                "<span style=\"font-size: 12pt; font-family: &quot;Times New Roman&quot;; color: rgb(0, 0, 0); background-color: transparent; font-variant-numeric: normal; font-variant-east-asian: normal; vertical-align: baseline; white-space: pre-wrap;\">There are four parts to this problem.&nbsp; You should be able to answer all four parts using only the information found in the Production.Products table.</span>\n",
                "\n",
                "<span style=\"font-size: 12pt; font-family: &quot;Times New Roman&quot;; color: rgb(0, 0, 0); background-color: transparent; font-variant-numeric: normal; font-variant-east-asian: normal; vertical-align: baseline; white-space: pre-wrap;\"><br></span>"
            ],
            "metadata": {
                "azdata_cell_guid": "b65a8868-0d7f-4db5-a536-8a6ac1492b2e"
            },
            "attachments": {}
        },
        {
            "cell_type": "markdown",
            "source": [
                "<span style=\"font-size: 12pt; font-family: &quot;Times New Roman&quot;; color: rgb(0, 0, 0); background-color: transparent; font-variant-numeric: normal; font-variant-east-asian: normal; text-decoration-line: underline; text-decoration-skip-ink: none; vertical-align: baseline; white-space: pre-wrap;\">Part A</span>\n",
                "\n",
                "<span style=\"font-size: 12pt; font-family: &quot;Times New Roman&quot;; color: rgb(0, 0, 0); background-color: transparent; font-variant-numeric: normal; font-variant-east-asian: normal; vertical-align: baseline; white-space: pre-wrap;\">The product management team would like to provide the warehouse manager with a listing of all of the products that are currently offered for sale and the minimum inventory level for each product.&nbsp; This minimum inventory is known as the safety stock level.&nbsp; To determine whether a product is currently offered for sale, check both the FinishedGoodsFlag and the SellEndDate.</span>\n",
                "\n",
                "  \n",
                "\n",
                "<span style=\"font-size: 12pt; font-family: &quot;Times New Roman&quot;; color: rgb(0, 0, 0); background-color: transparent; font-variant-numeric: normal; font-variant-east-asian: normal; vertical-align: baseline; white-space: pre-wrap;\">Create a table containing, for all relevant products, the product name, list price, and safety stock level.&nbsp; Sort the table so that it shows the products with the lowest safety stock levels first.&nbsp; Products with the same safety stock level should then be alphabetized by name.</span>\n",
                "\n",
                "<span style=\"font-size: 12pt; font-family: &quot;Times New Roman&quot;; color: rgb(0, 0, 0); background-color: transparent; font-variant-numeric: normal; font-variant-east-asian: normal; vertical-align: baseline; white-space: pre-wrap;\"><br></span>"
            ],
            "metadata": {
                "azdata_cell_guid": "4394fdb4-c3cb-4d3a-b186-2b266f0c3b20"
            },
            "attachments": {}
        },
        {
            "cell_type": "code",
            "source": [
                "Select Name, ListPrice, SafetyStockLevel\r\n",
                "From Production.Product\r\n",
                "WHERE FinishedGoodsFlag =1\r\n",
                "and SellEndDate is NULL\r\n",
                "ORDER BY SafetyStockLevel, Name"
            ],
            "metadata": {
                "azdata_cell_guid": "bd97f778-cf33-40dc-9d71-eb70046528db",
                "language": "sql",
                "tags": []
            },
            "outputs": [
                {
                    "output_type": "display_data",
                    "data": {
                        "text/html": "(197 rows affected)"
                    },
                    "metadata": {}
                },
                {
                    "output_type": "display_data",
                    "data": {
                        "text/html": "Total execution time: 00:00:00.052"
                    },
                    "metadata": {}
                },
                {
                    "output_type": "execute_result",
                    "metadata": {},
                    "execution_count": 243,
                    "data": {
                        "application/vnd.dataresource+json": {
                            "schema": {
                                "fields": [
                                    {
                                        "name": "Name"
                                    },
                                    {
                                        "name": "ListPrice"
                                    },
                                    {
                                        "name": "SafetyStockLevel"
                                    }
                                ]
                            },
                            "data": [
                                {
                                    "0": "All-Purpose Bike Stand",
                                    "1": "159.00",
                                    "2": "4"
                                },
                                {
                                    "0": "AWC Logo Cap",
                                    "1": "8.99",
                                    "2": "4"
                                },
                                {
                                    "0": "Bike Wash - Dissolver",
                                    "1": "7.95",
                                    "2": "4"
                                },
                                {
                                    "0": "Classic Vest, L",
                                    "1": "63.50",
                                    "2": "4"
                                },
                                {
                                    "0": "Classic Vest, M",
                                    "1": "63.50",
                                    "2": "4"
                                },
                                {
                                    "0": "Classic Vest, S",
                                    "1": "63.50",
                                    "2": "4"
                                },
                                {
                                    "0": "Fender Set - Mountain",
                                    "1": "21.98",
                                    "2": "4"
                                },
                                {
                                    "0": "Half-Finger Gloves, L",
                                    "1": "24.49",
                                    "2": "4"
                                },
                                {
                                    "0": "Half-Finger Gloves, M",
                                    "1": "24.49",
                                    "2": "4"
                                },
                                {
                                    "0": "Half-Finger Gloves, S",
                                    "1": "24.49",
                                    "2": "4"
                                },
                                {
                                    "0": "Hitch Rack - 4-Bike",
                                    "1": "120.00",
                                    "2": "4"
                                },
                                {
                                    "0": "Hydration Pack - 70 oz.",
                                    "1": "54.99",
                                    "2": "4"
                                },
                                {
                                    "0": "Long-Sleeve Logo Jersey, L",
                                    "1": "49.99",
                                    "2": "4"
                                },
                                {
                                    "0": "Long-Sleeve Logo Jersey, M",
                                    "1": "49.99",
                                    "2": "4"
                                },
                                {
                                    "0": "Long-Sleeve Logo Jersey, S",
                                    "1": "49.99",
                                    "2": "4"
                                },
                                {
                                    "0": "Long-Sleeve Logo Jersey, XL",
                                    "1": "49.99",
                                    "2": "4"
                                },
                                {
                                    "0": "Mountain Bottle Cage",
                                    "1": "9.99",
                                    "2": "4"
                                },
                                {
                                    "0": "Patch Kit/8 Patches",
                                    "1": "2.29",
                                    "2": "4"
                                },
                                {
                                    "0": "Racing Socks, L",
                                    "1": "8.99",
                                    "2": "4"
                                },
                                {
                                    "0": "Racing Socks, M",
                                    "1": "8.99",
                                    "2": "4"
                                },
                                {
                                    "0": "Road Bottle Cage",
                                    "1": "8.99",
                                    "2": "4"
                                },
                                {
                                    "0": "Short-Sleeve Classic Jersey, L",
                                    "1": "53.99",
                                    "2": "4"
                                },
                                {
                                    "0": "Short-Sleeve Classic Jersey, M",
                                    "1": "53.99",
                                    "2": "4"
                                },
                                {
                                    "0": "Short-Sleeve Classic Jersey, S",
                                    "1": "53.99",
                                    "2": "4"
                                },
                                {
                                    "0": "Short-Sleeve Classic Jersey, XL",
                                    "1": "53.99",
                                    "2": "4"
                                },
                                {
                                    "0": "Sport-100 Helmet, Black",
                                    "1": "34.99",
                                    "2": "4"
                                },
                                {
                                    "0": "Sport-100 Helmet, Blue",
                                    "1": "34.99",
                                    "2": "4"
                                },
                                {
                                    "0": "Sport-100 Helmet, Red",
                                    "1": "34.99",
                                    "2": "4"
                                },
                                {
                                    "0": "Water Bottle - 30 oz.",
                                    "1": "4.99",
                                    "2": "4"
                                },
                                {
                                    "0": "Women's Mountain Shorts, L",
                                    "1": "69.99",
                                    "2": "4"
                                },
                                {
                                    "0": "Women's Mountain Shorts, M",
                                    "1": "69.99",
                                    "2": "4"
                                },
                                {
                                    "0": "Women's Mountain Shorts, S",
                                    "1": "69.99",
                                    "2": "4"
                                },
                                {
                                    "0": "Mountain-200 Black, 38",
                                    "1": "2294.99",
                                    "2": "100"
                                },
                                {
                                    "0": "Mountain-200 Black, 42",
                                    "1": "2294.99",
                                    "2": "100"
                                },
                                {
                                    "0": "Mountain-200 Black, 46",
                                    "1": "2294.99",
                                    "2": "100"
                                },
                                {
                                    "0": "Mountain-200 Silver, 38",
                                    "1": "2319.99",
                                    "2": "100"
                                },
                                {
                                    "0": "Mountain-200 Silver, 42",
                                    "1": "2319.99",
                                    "2": "100"
                                },
                                {
                                    "0": "Mountain-200 Silver, 46",
                                    "1": "2319.99",
                                    "2": "100"
                                },
                                {
                                    "0": "Mountain-400-W Silver, 38",
                                    "1": "769.49",
                                    "2": "100"
                                },
                                {
                                    "0": "Mountain-400-W Silver, 40",
                                    "1": "769.49",
                                    "2": "100"
                                },
                                {
                                    "0": "Mountain-400-W Silver, 42",
                                    "1": "769.49",
                                    "2": "100"
                                },
                                {
                                    "0": "Mountain-400-W Silver, 46",
                                    "1": "769.49",
                                    "2": "100"
                                },
                                {
                                    "0": "Mountain-500 Black, 40",
                                    "1": "539.99",
                                    "2": "100"
                                },
                                {
                                    "0": "Mountain-500 Black, 42",
                                    "1": "539.99",
                                    "2": "100"
                                },
                                {
                                    "0": "Mountain-500 Black, 44",
                                    "1": "539.99",
                                    "2": "100"
                                },
                                {
                                    "0": "Mountain-500 Black, 48",
                                    "1": "539.99",
                                    "2": "100"
                                },
                                {
                                    "0": "Mountain-500 Black, 52",
                                    "1": "539.99",
                                    "2": "100"
                                },
                                {
                                    "0": "Mountain-500 Silver, 40",
                                    "1": "564.99",
                                    "2": "100"
                                },
                                {
                                    "0": "Mountain-500 Silver, 42",
                                    "1": "564.99",
                                    "2": "100"
                                },
                                {
                                    "0": "Mountain-500 Silver, 44",
                                    "1": "564.99",
                                    "2": "100"
                                },
                                {
                                    "0": "Mountain-500 Silver, 48",
                                    "1": "564.99",
                                    "2": "100"
                                },
                                {
                                    "0": "Mountain-500 Silver, 52",
                                    "1": "564.99",
                                    "2": "100"
                                },
                                {
                                    "0": "Road-250 Black, 44",
                                    "1": "2443.35",
                                    "2": "100"
                                },
                                {
                                    "0": "Road-250 Black, 48",
                                    "1": "2443.35",
                                    "2": "100"
                                },
                                {
                                    "0": "Road-250 Black, 52",
                                    "1": "2443.35",
                                    "2": "100"
                                },
                                {
                                    "0": "Road-250 Black, 58",
                                    "1": "2443.35",
                                    "2": "100"
                                },
                                {
                                    "0": "Road-250 Red, 58",
                                    "1": "2443.35",
                                    "2": "100"
                                },
                                {
                                    "0": "Road-350-W Yellow, 40",
                                    "1": "1700.99",
                                    "2": "100"
                                },
                                {
                                    "0": "Road-350-W Yellow, 42",
                                    "1": "1700.99",
                                    "2": "100"
                                },
                                {
                                    "0": "Road-350-W Yellow, 44",
                                    "1": "1700.99",
                                    "2": "100"
                                },
                                {
                                    "0": "Road-350-W Yellow, 48",
                                    "1": "1700.99",
                                    "2": "100"
                                },
                                {
                                    "0": "Road-550-W Yellow, 38",
                                    "1": "1120.49",
                                    "2": "100"
                                },
                                {
                                    "0": "Road-550-W Yellow, 40",
                                    "1": "1120.49",
                                    "2": "100"
                                },
                                {
                                    "0": "Road-550-W Yellow, 42",
                                    "1": "1120.49",
                                    "2": "100"
                                },
                                {
                                    "0": "Road-550-W Yellow, 44",
                                    "1": "1120.49",
                                    "2": "100"
                                },
                                {
                                    "0": "Road-550-W Yellow, 48",
                                    "1": "1120.49",
                                    "2": "100"
                                },
                                {
                                    "0": "Road-750 Black, 44",
                                    "1": "539.99",
                                    "2": "100"
                                },
                                {
                                    "0": "Road-750 Black, 48",
                                    "1": "539.99",
                                    "2": "100"
                                },
                                {
                                    "0": "Road-750 Black, 52",
                                    "1": "539.99",
                                    "2": "100"
                                },
                                {
                                    "0": "Road-750 Black, 58",
                                    "1": "539.99",
                                    "2": "100"
                                },
                                {
                                    "0": "Touring-1000 Blue, 46",
                                    "1": "2384.07",
                                    "2": "100"
                                },
                                {
                                    "0": "Touring-1000 Blue, 50",
                                    "1": "2384.07",
                                    "2": "100"
                                },
                                {
                                    "0": "Touring-1000 Blue, 54",
                                    "1": "2384.07",
                                    "2": "100"
                                },
                                {
                                    "0": "Touring-1000 Blue, 60",
                                    "1": "2384.07",
                                    "2": "100"
                                },
                                {
                                    "0": "Touring-1000 Yellow, 46",
                                    "1": "2384.07",
                                    "2": "100"
                                },
                                {
                                    "0": "Touring-1000 Yellow, 50",
                                    "1": "2384.07",
                                    "2": "100"
                                },
                                {
                                    "0": "Touring-1000 Yellow, 54",
                                    "1": "2384.07",
                                    "2": "100"
                                },
                                {
                                    "0": "Touring-1000 Yellow, 60",
                                    "1": "2384.07",
                                    "2": "100"
                                },
                                {
                                    "0": "Touring-2000 Blue, 46",
                                    "1": "1214.85",
                                    "2": "100"
                                },
                                {
                                    "0": "Touring-2000 Blue, 50",
                                    "1": "1214.85",
                                    "2": "100"
                                },
                                {
                                    "0": "Touring-2000 Blue, 54",
                                    "1": "1214.85",
                                    "2": "100"
                                },
                                {
                                    "0": "Touring-2000 Blue, 60",
                                    "1": "1214.85",
                                    "2": "100"
                                },
                                {
                                    "0": "Touring-3000 Blue, 44",
                                    "1": "742.35",
                                    "2": "100"
                                },
                                {
                                    "0": "Touring-3000 Blue, 50",
                                    "1": "742.35",
                                    "2": "100"
                                },
                                {
                                    "0": "Touring-3000 Blue, 54",
                                    "1": "742.35",
                                    "2": "100"
                                },
                                {
                                    "0": "Touring-3000 Blue, 58",
                                    "1": "742.35",
                                    "2": "100"
                                },
                                {
                                    "0": "Touring-3000 Blue, 62",
                                    "1": "742.35",
                                    "2": "100"
                                },
                                {
                                    "0": "Touring-3000 Yellow, 44",
                                    "1": "742.35",
                                    "2": "100"
                                },
                                {
                                    "0": "Touring-3000 Yellow, 50",
                                    "1": "742.35",
                                    "2": "100"
                                },
                                {
                                    "0": "Touring-3000 Yellow, 54",
                                    "1": "742.35",
                                    "2": "100"
                                },
                                {
                                    "0": "Touring-3000 Yellow, 58",
                                    "1": "742.35",
                                    "2": "100"
                                },
                                {
                                    "0": "Touring-3000 Yellow, 62",
                                    "1": "742.35",
                                    "2": "100"
                                },
                                {
                                    "0": "Chain",
                                    "1": "20.24",
                                    "2": "500"
                                },
                                {
                                    "0": "Front Brakes",
                                    "1": "106.50",
                                    "2": "500"
                                },
                                {
                                    "0": "Front Derailleur",
                                    "1": "91.49",
                                    "2": "500"
                                },
                                {
                                    "0": "HL Bottom Bracket",
                                    "1": "121.49",
                                    "2": "500"
                                },
                                {
                                    "0": "HL Crankset",
                                    "1": "404.99",
                                    "2": "500"
                                },
                                {
                                    "0": "HL Mountain Frame - Black, 38",
                                    "1": "1349.60",
                                    "2": "500"
                                },
                                {
                                    "0": "HL Mountain Frame - Black, 42",
                                    "1": "1349.60",
                                    "2": "500"
                                },
                                {
                                    "0": "HL Mountain Frame - Black, 46",
                                    "1": "1349.60",
                                    "2": "500"
                                },
                                {
                                    "0": "HL Mountain Frame - Silver, 38",
                                    "1": "1364.50",
                                    "2": "500"
                                },
                                {
                                    "0": "HL Mountain Frame - Silver, 42",
                                    "1": "1364.50",
                                    "2": "500"
                                },
                                {
                                    "0": "HL Mountain Frame - Silver, 46",
                                    "1": "1364.50",
                                    "2": "500"
                                },
                                {
                                    "0": "HL Mountain Handlebars",
                                    "1": "120.27",
                                    "2": "500"
                                },
                                {
                                    "0": "HL Mountain Pedal",
                                    "1": "80.99",
                                    "2": "500"
                                },
                                {
                                    "0": "HL Mountain Seat/Saddle",
                                    "1": "52.64",
                                    "2": "500"
                                },
                                {
                                    "0": "HL Mountain Tire",
                                    "1": "35.00",
                                    "2": "500"
                                },
                                {
                                    "0": "HL Road Frame - Black, 44",
                                    "1": "1431.50",
                                    "2": "500"
                                },
                                {
                                    "0": "HL Road Frame - Black, 48",
                                    "1": "1431.50",
                                    "2": "500"
                                },
                                {
                                    "0": "HL Road Frame - Black, 52",
                                    "1": "1431.50",
                                    "2": "500"
                                },
                                {
                                    "0": "HL Road Frame - Black, 58",
                                    "1": "1431.50",
                                    "2": "500"
                                },
                                {
                                    "0": "HL Road Frame - Black, 62",
                                    "1": "1431.50",
                                    "2": "500"
                                },
                                {
                                    "0": "HL Road Frame - Red, 44",
                                    "1": "1431.50",
                                    "2": "500"
                                },
                                {
                                    "0": "HL Road Frame - Red, 48",
                                    "1": "1431.50",
                                    "2": "500"
                                },
                                {
                                    "0": "HL Road Frame - Red, 52",
                                    "1": "1431.50",
                                    "2": "500"
                                },
                                {
                                    "0": "HL Road Frame - Red, 56",
                                    "1": "1431.50",
                                    "2": "500"
                                },
                                {
                                    "0": "HL Road Frame - Red, 58",
                                    "1": "1431.50",
                                    "2": "500"
                                },
                                {
                                    "0": "HL Road Frame - Red, 62",
                                    "1": "1431.50",
                                    "2": "500"
                                },
                                {
                                    "0": "HL Road Handlebars",
                                    "1": "120.27",
                                    "2": "500"
                                },
                                {
                                    "0": "HL Road Pedal",
                                    "1": "80.99",
                                    "2": "500"
                                },
                                {
                                    "0": "HL Road Seat/Saddle",
                                    "1": "52.64",
                                    "2": "500"
                                },
                                {
                                    "0": "HL Road Tire",
                                    "1": "32.60",
                                    "2": "500"
                                },
                                {
                                    "0": "HL Touring Frame - Blue, 46",
                                    "1": "1003.91",
                                    "2": "500"
                                },
                                {
                                    "0": "HL Touring Frame - Blue, 50",
                                    "1": "1003.91",
                                    "2": "500"
                                },
                                {
                                    "0": "HL Touring Frame - Blue, 54",
                                    "1": "1003.91",
                                    "2": "500"
                                },
                                {
                                    "0": "HL Touring Frame - Blue, 60",
                                    "1": "1003.91",
                                    "2": "500"
                                },
                                {
                                    "0": "HL Touring Frame - Yellow, 46",
                                    "1": "1003.91",
                                    "2": "500"
                                },
                                {
                                    "0": "HL Touring Frame - Yellow, 50",
                                    "1": "1003.91",
                                    "2": "500"
                                },
                                {
                                    "0": "HL Touring Frame - Yellow, 54",
                                    "1": "1003.91",
                                    "2": "500"
                                },
                                {
                                    "0": "HL Touring Frame - Yellow, 60",
                                    "1": "1003.91",
                                    "2": "500"
                                },
                                {
                                    "0": "HL Touring Handlebars",
                                    "1": "91.57",
                                    "2": "500"
                                },
                                {
                                    "0": "HL Touring Seat/Saddle",
                                    "1": "52.64",
                                    "2": "500"
                                },
                                {
                                    "0": "LL Bottom Bracket",
                                    "1": "53.99",
                                    "2": "500"
                                },
                                {
                                    "0": "LL Crankset",
                                    "1": "175.49",
                                    "2": "500"
                                },
                                {
                                    "0": "LL Mountain Frame - Black, 40",
                                    "1": "249.79",
                                    "2": "500"
                                },
                                {
                                    "0": "LL Mountain Frame - Black, 42",
                                    "1": "249.79",
                                    "2": "500"
                                },
                                {
                                    "0": "LL Mountain Frame - Black, 44",
                                    "1": "249.79",
                                    "2": "500"
                                },
                                {
                                    "0": "LL Mountain Frame - Black, 48",
                                    "1": "249.79",
                                    "2": "500"
                                },
                                {
                                    "0": "LL Mountain Frame - Black, 52",
                                    "1": "249.79",
                                    "2": "500"
                                },
                                {
                                    "0": "LL Mountain Frame - Silver, 40",
                                    "1": "264.05",
                                    "2": "500"
                                },
                                {
                                    "0": "LL Mountain Frame - Silver, 42",
                                    "1": "264.05",
                                    "2": "500"
                                },
                                {
                                    "0": "LL Mountain Frame - Silver, 44",
                                    "1": "264.05",
                                    "2": "500"
                                },
                                {
                                    "0": "LL Mountain Frame - Silver, 48",
                                    "1": "264.05",
                                    "2": "500"
                                },
                                {
                                    "0": "LL Mountain Frame - Silver, 52",
                                    "1": "264.05",
                                    "2": "500"
                                },
                                {
                                    "0": "LL Mountain Handlebars",
                                    "1": "44.54",
                                    "2": "500"
                                },
                                {
                                    "0": "LL Mountain Pedal",
                                    "1": "40.49",
                                    "2": "500"
                                },
                                {
                                    "0": "LL Mountain Seat/Saddle",
                                    "1": "27.12",
                                    "2": "500"
                                },
                                {
                                    "0": "LL Mountain Tire",
                                    "1": "24.99",
                                    "2": "500"
                                },
                                {
                                    "0": "LL Road Frame - Black, 44",
                                    "1": "337.22",
                                    "2": "500"
                                },
                                {
                                    "0": "LL Road Frame - Black, 48",
                                    "1": "337.22",
                                    "2": "500"
                                },
                                {
                                    "0": "LL Road Frame - Black, 52",
                                    "1": "337.22",
                                    "2": "500"
                                },
                                {
                                    "0": "LL Road Frame - Black, 58",
                                    "1": "337.22",
                                    "2": "500"
                                },
                                {
                                    "0": "LL Road Frame - Black, 60",
                                    "1": "337.22",
                                    "2": "500"
                                },
                                {
                                    "0": "LL Road Frame - Black, 62",
                                    "1": "337.22",
                                    "2": "500"
                                },
                                {
                                    "0": "LL Road Handlebars",
                                    "1": "44.54",
                                    "2": "500"
                                },
                                {
                                    "0": "LL Road Pedal",
                                    "1": "40.49",
                                    "2": "500"
                                },
                                {
                                    "0": "LL Road Seat/Saddle",
                                    "1": "27.12",
                                    "2": "500"
                                },
                                {
                                    "0": "LL Road Tire",
                                    "1": "21.49",
                                    "2": "500"
                                },
                                {
                                    "0": "LL Touring Frame - Blue, 44",
                                    "1": "333.42",
                                    "2": "500"
                                },
                                {
                                    "0": "LL Touring Frame - Blue, 50",
                                    "1": "333.42",
                                    "2": "500"
                                },
                                {
                                    "0": "LL Touring Frame - Blue, 54",
                                    "1": "333.42",
                                    "2": "500"
                                },
                                {
                                    "0": "LL Touring Frame - Blue, 58",
                                    "1": "333.42",
                                    "2": "500"
                                },
                                {
                                    "0": "LL Touring Frame - Blue, 62",
                                    "1": "333.42",
                                    "2": "500"
                                },
                                {
                                    "0": "LL Touring Frame - Yellow, 44",
                                    "1": "333.42",
                                    "2": "500"
                                },
                                {
                                    "0": "LL Touring Frame - Yellow, 50",
                                    "1": "333.42",
                                    "2": "500"
                                },
                                {
                                    "0": "LL Touring Frame - Yellow, 54",
                                    "1": "333.42",
                                    "2": "500"
                                },
                                {
                                    "0": "LL Touring Frame - Yellow, 58",
                                    "1": "333.42",
                                    "2": "500"
                                },
                                {
                                    "0": "LL Touring Frame - Yellow, 62",
                                    "1": "333.42",
                                    "2": "500"
                                },
                                {
                                    "0": "LL Touring Handlebars",
                                    "1": "46.09",
                                    "2": "500"
                                },
                                {
                                    "0": "LL Touring Seat/Saddle",
                                    "1": "27.12",
                                    "2": "500"
                                },
                                {
                                    "0": "ML Bottom Bracket",
                                    "1": "101.24",
                                    "2": "500"
                                },
                                {
                                    "0": "ML Crankset",
                                    "1": "256.49",
                                    "2": "500"
                                },
                                {
                                    "0": "ML Mountain Frame-W - Silver, 38",
                                    "1": "364.09",
                                    "2": "500"
                                },
                                {
                                    "0": "ML Mountain Frame-W - Silver, 40",
                                    "1": "364.09",
                                    "2": "500"
                                },
                                {
                                    "0": "ML Mountain Frame-W - Silver, 42",
                                    "1": "364.09",
                                    "2": "500"
                                },
                                {
                                    "0": "ML Mountain Frame-W - Silver, 46",
                                    "1": "364.09",
                                    "2": "500"
                                },
                                {
                                    "0": "ML Mountain Handlebars",
                                    "1": "61.92",
                                    "2": "500"
                                },
                                {
                                    "0": "ML Mountain Pedal",
                                    "1": "62.09",
                                    "2": "500"
                                },
                                {
                                    "0": "ML Mountain Seat/Saddle",
                                    "1": "39.14",
                                    "2": "500"
                                },
                                {
                                    "0": "ML Mountain Tire",
                                    "1": "29.99",
                                    "2": "500"
                                },
                                {
                                    "0": "ML Road Frame-W - Yellow, 38",
                                    "1": "594.83",
                                    "2": "500"
                                },
                                {
                                    "0": "ML Road Frame-W - Yellow, 40",
                                    "1": "594.83",
                                    "2": "500"
                                },
                                {
                                    "0": "ML Road Frame-W - Yellow, 42",
                                    "1": "594.83",
                                    "2": "500"
                                },
                                {
                                    "0": "ML Road Frame-W - Yellow, 44",
                                    "1": "594.83",
                                    "2": "500"
                                },
                                {
                                    "0": "ML Road Frame-W - Yellow, 48",
                                    "1": "594.83",
                                    "2": "500"
                                },
                                {
                                    "0": "ML Road Handlebars",
                                    "1": "61.92",
                                    "2": "500"
                                },
                                {
                                    "0": "ML Road Pedal",
                                    "1": "62.09",
                                    "2": "500"
                                },
                                {
                                    "0": "ML Road Seat/Saddle",
                                    "1": "39.14",
                                    "2": "500"
                                },
                                {
                                    "0": "ML Road Tire",
                                    "1": "24.99",
                                    "2": "500"
                                },
                                {
                                    "0": "ML Touring Seat/Saddle",
                                    "1": "39.14",
                                    "2": "500"
                                },
                                {
                                    "0": "Mountain Tire Tube",
                                    "1": "4.99",
                                    "2": "500"
                                },
                                {
                                    "0": "Rear Brakes",
                                    "1": "106.50",
                                    "2": "500"
                                },
                                {
                                    "0": "Rear Derailleur",
                                    "1": "121.46",
                                    "2": "500"
                                },
                                {
                                    "0": "Road Tire Tube",
                                    "1": "3.99",
                                    "2": "500"
                                },
                                {
                                    "0": "Touring Pedal",
                                    "1": "80.99",
                                    "2": "500"
                                },
                                {
                                    "0": "Touring Tire",
                                    "1": "28.99",
                                    "2": "500"
                                },
                                {
                                    "0": "Touring Tire Tube",
                                    "1": "4.99",
                                    "2": "500"
                                }
                            ]
                        },
                        "text/html": [
                            "<table>",
                            "<tr><th>Name</th><th>ListPrice</th><th>SafetyStockLevel</th></tr>",
                            "<tr><td>All-Purpose Bike Stand</td><td>159.00</td><td>4</td></tr>",
                            "<tr><td>AWC Logo Cap</td><td>8.99</td><td>4</td></tr>",
                            "<tr><td>Bike Wash - Dissolver</td><td>7.95</td><td>4</td></tr>",
                            "<tr><td>Classic Vest, L</td><td>63.50</td><td>4</td></tr>",
                            "<tr><td>Classic Vest, M</td><td>63.50</td><td>4</td></tr>",
                            "<tr><td>Classic Vest, S</td><td>63.50</td><td>4</td></tr>",
                            "<tr><td>Fender Set - Mountain</td><td>21.98</td><td>4</td></tr>",
                            "<tr><td>Half-Finger Gloves, L</td><td>24.49</td><td>4</td></tr>",
                            "<tr><td>Half-Finger Gloves, M</td><td>24.49</td><td>4</td></tr>",
                            "<tr><td>Half-Finger Gloves, S</td><td>24.49</td><td>4</td></tr>",
                            "<tr><td>Hitch Rack - 4-Bike</td><td>120.00</td><td>4</td></tr>",
                            "<tr><td>Hydration Pack - 70 oz.</td><td>54.99</td><td>4</td></tr>",
                            "<tr><td>Long-Sleeve Logo Jersey, L</td><td>49.99</td><td>4</td></tr>",
                            "<tr><td>Long-Sleeve Logo Jersey, M</td><td>49.99</td><td>4</td></tr>",
                            "<tr><td>Long-Sleeve Logo Jersey, S</td><td>49.99</td><td>4</td></tr>",
                            "<tr><td>Long-Sleeve Logo Jersey, XL</td><td>49.99</td><td>4</td></tr>",
                            "<tr><td>Mountain Bottle Cage</td><td>9.99</td><td>4</td></tr>",
                            "<tr><td>Patch Kit/8 Patches</td><td>2.29</td><td>4</td></tr>",
                            "<tr><td>Racing Socks, L</td><td>8.99</td><td>4</td></tr>",
                            "<tr><td>Racing Socks, M</td><td>8.99</td><td>4</td></tr>",
                            "<tr><td>Road Bottle Cage</td><td>8.99</td><td>4</td></tr>",
                            "<tr><td>Short-Sleeve Classic Jersey, L</td><td>53.99</td><td>4</td></tr>",
                            "<tr><td>Short-Sleeve Classic Jersey, M</td><td>53.99</td><td>4</td></tr>",
                            "<tr><td>Short-Sleeve Classic Jersey, S</td><td>53.99</td><td>4</td></tr>",
                            "<tr><td>Short-Sleeve Classic Jersey, XL</td><td>53.99</td><td>4</td></tr>",
                            "<tr><td>Sport-100 Helmet, Black</td><td>34.99</td><td>4</td></tr>",
                            "<tr><td>Sport-100 Helmet, Blue</td><td>34.99</td><td>4</td></tr>",
                            "<tr><td>Sport-100 Helmet, Red</td><td>34.99</td><td>4</td></tr>",
                            "<tr><td>Water Bottle - 30 oz.</td><td>4.99</td><td>4</td></tr>",
                            "<tr><td>Women's Mountain Shorts, L</td><td>69.99</td><td>4</td></tr>",
                            "<tr><td>Women's Mountain Shorts, M</td><td>69.99</td><td>4</td></tr>",
                            "<tr><td>Women's Mountain Shorts, S</td><td>69.99</td><td>4</td></tr>",
                            "<tr><td>Mountain-200 Black, 38</td><td>2294.99</td><td>100</td></tr>",
                            "<tr><td>Mountain-200 Black, 42</td><td>2294.99</td><td>100</td></tr>",
                            "<tr><td>Mountain-200 Black, 46</td><td>2294.99</td><td>100</td></tr>",
                            "<tr><td>Mountain-200 Silver, 38</td><td>2319.99</td><td>100</td></tr>",
                            "<tr><td>Mountain-200 Silver, 42</td><td>2319.99</td><td>100</td></tr>",
                            "<tr><td>Mountain-200 Silver, 46</td><td>2319.99</td><td>100</td></tr>",
                            "<tr><td>Mountain-400-W Silver, 38</td><td>769.49</td><td>100</td></tr>",
                            "<tr><td>Mountain-400-W Silver, 40</td><td>769.49</td><td>100</td></tr>",
                            "<tr><td>Mountain-400-W Silver, 42</td><td>769.49</td><td>100</td></tr>",
                            "<tr><td>Mountain-400-W Silver, 46</td><td>769.49</td><td>100</td></tr>",
                            "<tr><td>Mountain-500 Black, 40</td><td>539.99</td><td>100</td></tr>",
                            "<tr><td>Mountain-500 Black, 42</td><td>539.99</td><td>100</td></tr>",
                            "<tr><td>Mountain-500 Black, 44</td><td>539.99</td><td>100</td></tr>",
                            "<tr><td>Mountain-500 Black, 48</td><td>539.99</td><td>100</td></tr>",
                            "<tr><td>Mountain-500 Black, 52</td><td>539.99</td><td>100</td></tr>",
                            "<tr><td>Mountain-500 Silver, 40</td><td>564.99</td><td>100</td></tr>",
                            "<tr><td>Mountain-500 Silver, 42</td><td>564.99</td><td>100</td></tr>",
                            "<tr><td>Mountain-500 Silver, 44</td><td>564.99</td><td>100</td></tr>",
                            "<tr><td>Mountain-500 Silver, 48</td><td>564.99</td><td>100</td></tr>",
                            "<tr><td>Mountain-500 Silver, 52</td><td>564.99</td><td>100</td></tr>",
                            "<tr><td>Road-250 Black, 44</td><td>2443.35</td><td>100</td></tr>",
                            "<tr><td>Road-250 Black, 48</td><td>2443.35</td><td>100</td></tr>",
                            "<tr><td>Road-250 Black, 52</td><td>2443.35</td><td>100</td></tr>",
                            "<tr><td>Road-250 Black, 58</td><td>2443.35</td><td>100</td></tr>",
                            "<tr><td>Road-250 Red, 58</td><td>2443.35</td><td>100</td></tr>",
                            "<tr><td>Road-350-W Yellow, 40</td><td>1700.99</td><td>100</td></tr>",
                            "<tr><td>Road-350-W Yellow, 42</td><td>1700.99</td><td>100</td></tr>",
                            "<tr><td>Road-350-W Yellow, 44</td><td>1700.99</td><td>100</td></tr>",
                            "<tr><td>Road-350-W Yellow, 48</td><td>1700.99</td><td>100</td></tr>",
                            "<tr><td>Road-550-W Yellow, 38</td><td>1120.49</td><td>100</td></tr>",
                            "<tr><td>Road-550-W Yellow, 40</td><td>1120.49</td><td>100</td></tr>",
                            "<tr><td>Road-550-W Yellow, 42</td><td>1120.49</td><td>100</td></tr>",
                            "<tr><td>Road-550-W Yellow, 44</td><td>1120.49</td><td>100</td></tr>",
                            "<tr><td>Road-550-W Yellow, 48</td><td>1120.49</td><td>100</td></tr>",
                            "<tr><td>Road-750 Black, 44</td><td>539.99</td><td>100</td></tr>",
                            "<tr><td>Road-750 Black, 48</td><td>539.99</td><td>100</td></tr>",
                            "<tr><td>Road-750 Black, 52</td><td>539.99</td><td>100</td></tr>",
                            "<tr><td>Road-750 Black, 58</td><td>539.99</td><td>100</td></tr>",
                            "<tr><td>Touring-1000 Blue, 46</td><td>2384.07</td><td>100</td></tr>",
                            "<tr><td>Touring-1000 Blue, 50</td><td>2384.07</td><td>100</td></tr>",
                            "<tr><td>Touring-1000 Blue, 54</td><td>2384.07</td><td>100</td></tr>",
                            "<tr><td>Touring-1000 Blue, 60</td><td>2384.07</td><td>100</td></tr>",
                            "<tr><td>Touring-1000 Yellow, 46</td><td>2384.07</td><td>100</td></tr>",
                            "<tr><td>Touring-1000 Yellow, 50</td><td>2384.07</td><td>100</td></tr>",
                            "<tr><td>Touring-1000 Yellow, 54</td><td>2384.07</td><td>100</td></tr>",
                            "<tr><td>Touring-1000 Yellow, 60</td><td>2384.07</td><td>100</td></tr>",
                            "<tr><td>Touring-2000 Blue, 46</td><td>1214.85</td><td>100</td></tr>",
                            "<tr><td>Touring-2000 Blue, 50</td><td>1214.85</td><td>100</td></tr>",
                            "<tr><td>Touring-2000 Blue, 54</td><td>1214.85</td><td>100</td></tr>",
                            "<tr><td>Touring-2000 Blue, 60</td><td>1214.85</td><td>100</td></tr>",
                            "<tr><td>Touring-3000 Blue, 44</td><td>742.35</td><td>100</td></tr>",
                            "<tr><td>Touring-3000 Blue, 50</td><td>742.35</td><td>100</td></tr>",
                            "<tr><td>Touring-3000 Blue, 54</td><td>742.35</td><td>100</td></tr>",
                            "<tr><td>Touring-3000 Blue, 58</td><td>742.35</td><td>100</td></tr>",
                            "<tr><td>Touring-3000 Blue, 62</td><td>742.35</td><td>100</td></tr>",
                            "<tr><td>Touring-3000 Yellow, 44</td><td>742.35</td><td>100</td></tr>",
                            "<tr><td>Touring-3000 Yellow, 50</td><td>742.35</td><td>100</td></tr>",
                            "<tr><td>Touring-3000 Yellow, 54</td><td>742.35</td><td>100</td></tr>",
                            "<tr><td>Touring-3000 Yellow, 58</td><td>742.35</td><td>100</td></tr>",
                            "<tr><td>Touring-3000 Yellow, 62</td><td>742.35</td><td>100</td></tr>",
                            "<tr><td>Chain</td><td>20.24</td><td>500</td></tr>",
                            "<tr><td>Front Brakes</td><td>106.50</td><td>500</td></tr>",
                            "<tr><td>Front Derailleur</td><td>91.49</td><td>500</td></tr>",
                            "<tr><td>HL Bottom Bracket</td><td>121.49</td><td>500</td></tr>",
                            "<tr><td>HL Crankset</td><td>404.99</td><td>500</td></tr>",
                            "<tr><td>HL Mountain Frame - Black, 38</td><td>1349.60</td><td>500</td></tr>",
                            "<tr><td>HL Mountain Frame - Black, 42</td><td>1349.60</td><td>500</td></tr>",
                            "<tr><td>HL Mountain Frame - Black, 46</td><td>1349.60</td><td>500</td></tr>",
                            "<tr><td>HL Mountain Frame - Silver, 38</td><td>1364.50</td><td>500</td></tr>",
                            "<tr><td>HL Mountain Frame - Silver, 42</td><td>1364.50</td><td>500</td></tr>",
                            "<tr><td>HL Mountain Frame - Silver, 46</td><td>1364.50</td><td>500</td></tr>",
                            "<tr><td>HL Mountain Handlebars</td><td>120.27</td><td>500</td></tr>",
                            "<tr><td>HL Mountain Pedal</td><td>80.99</td><td>500</td></tr>",
                            "<tr><td>HL Mountain Seat/Saddle</td><td>52.64</td><td>500</td></tr>",
                            "<tr><td>HL Mountain Tire</td><td>35.00</td><td>500</td></tr>",
                            "<tr><td>HL Road Frame - Black, 44</td><td>1431.50</td><td>500</td></tr>",
                            "<tr><td>HL Road Frame - Black, 48</td><td>1431.50</td><td>500</td></tr>",
                            "<tr><td>HL Road Frame - Black, 52</td><td>1431.50</td><td>500</td></tr>",
                            "<tr><td>HL Road Frame - Black, 58</td><td>1431.50</td><td>500</td></tr>",
                            "<tr><td>HL Road Frame - Black, 62</td><td>1431.50</td><td>500</td></tr>",
                            "<tr><td>HL Road Frame - Red, 44</td><td>1431.50</td><td>500</td></tr>",
                            "<tr><td>HL Road Frame - Red, 48</td><td>1431.50</td><td>500</td></tr>",
                            "<tr><td>HL Road Frame - Red, 52</td><td>1431.50</td><td>500</td></tr>",
                            "<tr><td>HL Road Frame - Red, 56</td><td>1431.50</td><td>500</td></tr>",
                            "<tr><td>HL Road Frame - Red, 58</td><td>1431.50</td><td>500</td></tr>",
                            "<tr><td>HL Road Frame - Red, 62</td><td>1431.50</td><td>500</td></tr>",
                            "<tr><td>HL Road Handlebars</td><td>120.27</td><td>500</td></tr>",
                            "<tr><td>HL Road Pedal</td><td>80.99</td><td>500</td></tr>",
                            "<tr><td>HL Road Seat/Saddle</td><td>52.64</td><td>500</td></tr>",
                            "<tr><td>HL Road Tire</td><td>32.60</td><td>500</td></tr>",
                            "<tr><td>HL Touring Frame - Blue, 46</td><td>1003.91</td><td>500</td></tr>",
                            "<tr><td>HL Touring Frame - Blue, 50</td><td>1003.91</td><td>500</td></tr>",
                            "<tr><td>HL Touring Frame - Blue, 54</td><td>1003.91</td><td>500</td></tr>",
                            "<tr><td>HL Touring Frame - Blue, 60</td><td>1003.91</td><td>500</td></tr>",
                            "<tr><td>HL Touring Frame - Yellow, 46</td><td>1003.91</td><td>500</td></tr>",
                            "<tr><td>HL Touring Frame - Yellow, 50</td><td>1003.91</td><td>500</td></tr>",
                            "<tr><td>HL Touring Frame - Yellow, 54</td><td>1003.91</td><td>500</td></tr>",
                            "<tr><td>HL Touring Frame - Yellow, 60</td><td>1003.91</td><td>500</td></tr>",
                            "<tr><td>HL Touring Handlebars</td><td>91.57</td><td>500</td></tr>",
                            "<tr><td>HL Touring Seat/Saddle</td><td>52.64</td><td>500</td></tr>",
                            "<tr><td>LL Bottom Bracket</td><td>53.99</td><td>500</td></tr>",
                            "<tr><td>LL Crankset</td><td>175.49</td><td>500</td></tr>",
                            "<tr><td>LL Mountain Frame - Black, 40</td><td>249.79</td><td>500</td></tr>",
                            "<tr><td>LL Mountain Frame - Black, 42</td><td>249.79</td><td>500</td></tr>",
                            "<tr><td>LL Mountain Frame - Black, 44</td><td>249.79</td><td>500</td></tr>",
                            "<tr><td>LL Mountain Frame - Black, 48</td><td>249.79</td><td>500</td></tr>",
                            "<tr><td>LL Mountain Frame - Black, 52</td><td>249.79</td><td>500</td></tr>",
                            "<tr><td>LL Mountain Frame - Silver, 40</td><td>264.05</td><td>500</td></tr>",
                            "<tr><td>LL Mountain Frame - Silver, 42</td><td>264.05</td><td>500</td></tr>",
                            "<tr><td>LL Mountain Frame - Silver, 44</td><td>264.05</td><td>500</td></tr>",
                            "<tr><td>LL Mountain Frame - Silver, 48</td><td>264.05</td><td>500</td></tr>",
                            "<tr><td>LL Mountain Frame - Silver, 52</td><td>264.05</td><td>500</td></tr>",
                            "<tr><td>LL Mountain Handlebars</td><td>44.54</td><td>500</td></tr>",
                            "<tr><td>LL Mountain Pedal</td><td>40.49</td><td>500</td></tr>",
                            "<tr><td>LL Mountain Seat/Saddle</td><td>27.12</td><td>500</td></tr>",
                            "<tr><td>LL Mountain Tire</td><td>24.99</td><td>500</td></tr>",
                            "<tr><td>LL Road Frame - Black, 44</td><td>337.22</td><td>500</td></tr>",
                            "<tr><td>LL Road Frame - Black, 48</td><td>337.22</td><td>500</td></tr>",
                            "<tr><td>LL Road Frame - Black, 52</td><td>337.22</td><td>500</td></tr>",
                            "<tr><td>LL Road Frame - Black, 58</td><td>337.22</td><td>500</td></tr>",
                            "<tr><td>LL Road Frame - Black, 60</td><td>337.22</td><td>500</td></tr>",
                            "<tr><td>LL Road Frame - Black, 62</td><td>337.22</td><td>500</td></tr>",
                            "<tr><td>LL Road Handlebars</td><td>44.54</td><td>500</td></tr>",
                            "<tr><td>LL Road Pedal</td><td>40.49</td><td>500</td></tr>",
                            "<tr><td>LL Road Seat/Saddle</td><td>27.12</td><td>500</td></tr>",
                            "<tr><td>LL Road Tire</td><td>21.49</td><td>500</td></tr>",
                            "<tr><td>LL Touring Frame - Blue, 44</td><td>333.42</td><td>500</td></tr>",
                            "<tr><td>LL Touring Frame - Blue, 50</td><td>333.42</td><td>500</td></tr>",
                            "<tr><td>LL Touring Frame - Blue, 54</td><td>333.42</td><td>500</td></tr>",
                            "<tr><td>LL Touring Frame - Blue, 58</td><td>333.42</td><td>500</td></tr>",
                            "<tr><td>LL Touring Frame - Blue, 62</td><td>333.42</td><td>500</td></tr>",
                            "<tr><td>LL Touring Frame - Yellow, 44</td><td>333.42</td><td>500</td></tr>",
                            "<tr><td>LL Touring Frame - Yellow, 50</td><td>333.42</td><td>500</td></tr>",
                            "<tr><td>LL Touring Frame - Yellow, 54</td><td>333.42</td><td>500</td></tr>",
                            "<tr><td>LL Touring Frame - Yellow, 58</td><td>333.42</td><td>500</td></tr>",
                            "<tr><td>LL Touring Frame - Yellow, 62</td><td>333.42</td><td>500</td></tr>",
                            "<tr><td>LL Touring Handlebars</td><td>46.09</td><td>500</td></tr>",
                            "<tr><td>LL Touring Seat/Saddle</td><td>27.12</td><td>500</td></tr>",
                            "<tr><td>ML Bottom Bracket</td><td>101.24</td><td>500</td></tr>",
                            "<tr><td>ML Crankset</td><td>256.49</td><td>500</td></tr>",
                            "<tr><td>ML Mountain Frame-W - Silver, 38</td><td>364.09</td><td>500</td></tr>",
                            "<tr><td>ML Mountain Frame-W - Silver, 40</td><td>364.09</td><td>500</td></tr>",
                            "<tr><td>ML Mountain Frame-W - Silver, 42</td><td>364.09</td><td>500</td></tr>",
                            "<tr><td>ML Mountain Frame-W - Silver, 46</td><td>364.09</td><td>500</td></tr>",
                            "<tr><td>ML Mountain Handlebars</td><td>61.92</td><td>500</td></tr>",
                            "<tr><td>ML Mountain Pedal</td><td>62.09</td><td>500</td></tr>",
                            "<tr><td>ML Mountain Seat/Saddle</td><td>39.14</td><td>500</td></tr>",
                            "<tr><td>ML Mountain Tire</td><td>29.99</td><td>500</td></tr>",
                            "<tr><td>ML Road Frame-W - Yellow, 38</td><td>594.83</td><td>500</td></tr>",
                            "<tr><td>ML Road Frame-W - Yellow, 40</td><td>594.83</td><td>500</td></tr>",
                            "<tr><td>ML Road Frame-W - Yellow, 42</td><td>594.83</td><td>500</td></tr>",
                            "<tr><td>ML Road Frame-W - Yellow, 44</td><td>594.83</td><td>500</td></tr>",
                            "<tr><td>ML Road Frame-W - Yellow, 48</td><td>594.83</td><td>500</td></tr>",
                            "<tr><td>ML Road Handlebars</td><td>61.92</td><td>500</td></tr>",
                            "<tr><td>ML Road Pedal</td><td>62.09</td><td>500</td></tr>",
                            "<tr><td>ML Road Seat/Saddle</td><td>39.14</td><td>500</td></tr>",
                            "<tr><td>ML Road Tire</td><td>24.99</td><td>500</td></tr>",
                            "<tr><td>ML Touring Seat/Saddle</td><td>39.14</td><td>500</td></tr>",
                            "<tr><td>Mountain Tire Tube</td><td>4.99</td><td>500</td></tr>",
                            "<tr><td>Rear Brakes</td><td>106.50</td><td>500</td></tr>",
                            "<tr><td>Rear Derailleur</td><td>121.46</td><td>500</td></tr>",
                            "<tr><td>Road Tire Tube</td><td>3.99</td><td>500</td></tr>",
                            "<tr><td>Touring Pedal</td><td>80.99</td><td>500</td></tr>",
                            "<tr><td>Touring Tire</td><td>28.99</td><td>500</td></tr>",
                            "<tr><td>Touring Tire Tube</td><td>4.99</td><td>500</td></tr>",
                            "</table>"
                        ]
                    }
                }
            ],
            "execution_count": 243
        },
        {
            "cell_type": "markdown",
            "source": [
                "<span style=\"font-size: 12pt; font-family: &quot;Times New Roman&quot;; color: rgb(0, 0, 0); background-color: transparent; font-variant-numeric: normal; font-variant-east-asian: normal; text-decoration-line: underline; text-decoration-skip-ink: none; vertical-align: baseline; white-space: pre-wrap;\">Part B</span>\n",
                "\n",
                "<span style=\"font-size: 12pt; font-family: &quot;Times New Roman&quot;; color: rgb(0, 0, 0); background-color: transparent; font-variant-numeric: normal; font-variant-east-asian: normal; vertical-align: baseline; white-space: pre-wrap;\">The product management team would like to verify that the colors of all products are listed correctly in the database.&nbsp; Write a SQL query that looks for any product in the database where the product name contains “yellow” and the color field is not set to “Yellow”.&nbsp; Return the name of the product and the color, sorted by product name in alphabetical order.&nbsp; (Remember, our database is case insensitive, so capitalization doesn’t matter.)</span>"
            ],
            "metadata": {
                "azdata_cell_guid": "2f9550f2-63b6-40b8-94ff-7347e71783bd"
            },
            "attachments": {}
        },
        {
            "cell_type": "code",
            "source": [
                "select Name as 'Product Name', Color \r\n",
                "From Production.Product\r\n",
                "Where name like '%yellow%' \r\n",
                "and (color not like 'Yellow' or Color is NULL)\r\n",
                "order by Name"
            ],
            "metadata": {
                "azdata_cell_guid": "804dd0f4-65ef-41ef-a502-a0a321507b28",
                "language": "sql",
                "tags": []
            },
            "outputs": [
                {
                    "output_type": "display_data",
                    "data": {
                        "text/html": "(2 rows affected)"
                    },
                    "metadata": {}
                },
                {
                    "output_type": "display_data",
                    "data": {
                        "text/html": "Total execution time: 00:00:00.050"
                    },
                    "metadata": {}
                },
                {
                    "output_type": "execute_result",
                    "metadata": {},
                    "execution_count": 163,
                    "data": {
                        "application/vnd.dataresource+json": {
                            "schema": {
                                "fields": [
                                    {
                                        "name": "Product Name"
                                    },
                                    {
                                        "name": "Color"
                                    }
                                ]
                            },
                            "data": [
                                {
                                    "0": "Paint - Yellow",
                                    "1": "NULL"
                                },
                                {
                                    "0": "Road-550-W Yellow, 40",
                                    "1": "Blue"
                                }
                            ]
                        },
                        "text/html": [
                            "<table>",
                            "<tr><th>Product Name</th><th>Color</th></tr>",
                            "<tr><td>Paint - Yellow</td><td>NULL</td></tr>",
                            "<tr><td>Road-550-W Yellow, 40</td><td>Blue</td></tr>",
                            "</table>"
                        ]
                    }
                }
            ],
            "execution_count": 163
        },
        {
            "cell_type": "markdown",
            "source": [
                "<span style=\"font-size: 12pt; font-family: &quot;Times New Roman&quot;; color: rgb(0, 0, 0); background-color: transparent; font-variant-numeric: normal; font-variant-east-asian: normal; text-decoration-line: underline; text-decoration-skip-ink: none; vertical-align: baseline; white-space: pre-wrap;\">Part C</span>\n",
                "\n",
                "<span style=\"font-size: 12pt; font-family: &quot;Times New Roman&quot;; color: rgb(0, 0, 0); background-color: transparent; font-variant-numeric: normal; font-variant-east-asian: normal; vertical-align: baseline; white-space: pre-wrap;\">As part of the product refresh cycle, the product managers would like to perform a review of all products that AdventureWorks began selling during the first five months of 2013.&nbsp; Create a list of those products including the product name and the date it was first made available for sale.&nbsp; Sort the list in alphabetical order by product name.</span>\n",
                "\n",
                "<span style=\"font-size: 12pt; font-family: &quot;Times New Roman&quot;; color: rgb(0, 0, 0); background-color: transparent; font-variant-numeric: normal; font-variant-east-asian: normal; vertical-align: baseline; white-space: pre-wrap;\"><br></span>"
            ],
            "metadata": {
                "azdata_cell_guid": "f9c09a99-8ddb-4728-9eeb-cf04cf82d129"
            },
            "attachments": {}
        },
        {
            "cell_type": "code",
            "source": [
                "Select Name as 'Product Name', SellStartDate as 'First made available'\r\n",
                "From Production.Product\r\n",
                "where year(SellStartDate) = 2013\r\n",
                "and month(SellStartDate) BETWEEN 01 and 05\r\n",
                "order by Name"
            ],
            "metadata": {
                "azdata_cell_guid": "3d75c81d-fb3f-467d-84dc-cd5320d557a7",
                "language": "sql"
            },
            "outputs": [
                {
                    "output_type": "display_data",
                    "data": {
                        "text/html": "(136 rows affected)"
                    },
                    "metadata": {}
                },
                {
                    "output_type": "display_data",
                    "data": {
                        "text/html": "Total execution time: 00:00:00.048"
                    },
                    "metadata": {}
                },
                {
                    "output_type": "execute_result",
                    "metadata": {},
                    "execution_count": 134,
                    "data": {
                        "application/vnd.dataresource+json": {
                            "schema": {
                                "fields": [
                                    {
                                        "name": "Product Name"
                                    },
                                    {
                                        "name": "First made available"
                                    }
                                ]
                            },
                            "data": [
                                {
                                    "0": "All-Purpose Bike Stand",
                                    "1": "2013-05-30 00:00:00.000"
                                },
                                {
                                    "0": "Bike Wash - Dissolver",
                                    "1": "2013-05-30 00:00:00.000"
                                },
                                {
                                    "0": "Chain",
                                    "1": "2013-05-30 00:00:00.000"
                                },
                                {
                                    "0": "Classic Vest, L",
                                    "1": "2013-05-30 00:00:00.000"
                                },
                                {
                                    "0": "Classic Vest, M",
                                    "1": "2013-05-30 00:00:00.000"
                                },
                                {
                                    "0": "Classic Vest, S",
                                    "1": "2013-05-30 00:00:00.000"
                                },
                                {
                                    "0": "Fender Set - Mountain",
                                    "1": "2013-05-30 00:00:00.000"
                                },
                                {
                                    "0": "Front Brakes",
                                    "1": "2013-05-30 00:00:00.000"
                                },
                                {
                                    "0": "Front Derailleur",
                                    "1": "2013-05-30 00:00:00.000"
                                },
                                {
                                    "0": "Hitch Rack - 4-Bike",
                                    "1": "2013-05-30 00:00:00.000"
                                },
                                {
                                    "0": "HL Bottom Bracket",
                                    "1": "2013-05-30 00:00:00.000"
                                },
                                {
                                    "0": "HL Crankset",
                                    "1": "2013-05-30 00:00:00.000"
                                },
                                {
                                    "0": "HL Mountain Pedal",
                                    "1": "2013-05-30 00:00:00.000"
                                },
                                {
                                    "0": "HL Mountain Seat/Saddle",
                                    "1": "2013-05-30 00:00:00.000"
                                },
                                {
                                    "0": "HL Mountain Tire",
                                    "1": "2013-05-30 00:00:00.000"
                                },
                                {
                                    "0": "HL Road Pedal",
                                    "1": "2013-05-30 00:00:00.000"
                                },
                                {
                                    "0": "HL Road Seat/Saddle",
                                    "1": "2013-05-30 00:00:00.000"
                                },
                                {
                                    "0": "HL Road Tire",
                                    "1": "2013-05-30 00:00:00.000"
                                },
                                {
                                    "0": "HL Touring Frame - Blue, 46",
                                    "1": "2013-05-30 00:00:00.000"
                                },
                                {
                                    "0": "HL Touring Frame - Blue, 50",
                                    "1": "2013-05-30 00:00:00.000"
                                },
                                {
                                    "0": "HL Touring Frame - Blue, 54",
                                    "1": "2013-05-30 00:00:00.000"
                                },
                                {
                                    "0": "HL Touring Frame - Blue, 60",
                                    "1": "2013-05-30 00:00:00.000"
                                },
                                {
                                    "0": "HL Touring Frame - Yellow, 46",
                                    "1": "2013-05-30 00:00:00.000"
                                },
                                {
                                    "0": "HL Touring Frame - Yellow, 50",
                                    "1": "2013-05-30 00:00:00.000"
                                },
                                {
                                    "0": "HL Touring Frame - Yellow, 54",
                                    "1": "2013-05-30 00:00:00.000"
                                },
                                {
                                    "0": "HL Touring Frame - Yellow, 60",
                                    "1": "2013-05-30 00:00:00.000"
                                },
                                {
                                    "0": "HL Touring Handlebars",
                                    "1": "2013-05-30 00:00:00.000"
                                },
                                {
                                    "0": "HL Touring Seat/Saddle",
                                    "1": "2013-05-30 00:00:00.000"
                                },
                                {
                                    "0": "Hydration Pack - 70 oz.",
                                    "1": "2013-05-30 00:00:00.000"
                                },
                                {
                                    "0": "LL Bottom Bracket",
                                    "1": "2013-05-30 00:00:00.000"
                                },
                                {
                                    "0": "LL Crankset",
                                    "1": "2013-05-30 00:00:00.000"
                                },
                                {
                                    "0": "LL Mountain Frame - Black, 40",
                                    "1": "2013-05-30 00:00:00.000"
                                },
                                {
                                    "0": "LL Mountain Frame - Black, 42",
                                    "1": "2013-05-30 00:00:00.000"
                                },
                                {
                                    "0": "LL Mountain Frame - Black, 44",
                                    "1": "2013-05-30 00:00:00.000"
                                },
                                {
                                    "0": "LL Mountain Frame - Black, 48",
                                    "1": "2013-05-30 00:00:00.000"
                                },
                                {
                                    "0": "LL Mountain Frame - Black, 52",
                                    "1": "2013-05-30 00:00:00.000"
                                },
                                {
                                    "0": "LL Mountain Frame - Silver, 40",
                                    "1": "2013-05-30 00:00:00.000"
                                },
                                {
                                    "0": "LL Mountain Frame - Silver, 42",
                                    "1": "2013-05-30 00:00:00.000"
                                },
                                {
                                    "0": "LL Mountain Frame - Silver, 44",
                                    "1": "2013-05-30 00:00:00.000"
                                },
                                {
                                    "0": "LL Mountain Frame - Silver, 48",
                                    "1": "2013-05-30 00:00:00.000"
                                },
                                {
                                    "0": "LL Mountain Frame - Silver, 52",
                                    "1": "2013-05-30 00:00:00.000"
                                },
                                {
                                    "0": "LL Mountain Pedal",
                                    "1": "2013-05-30 00:00:00.000"
                                },
                                {
                                    "0": "LL Mountain Seat/Saddle",
                                    "1": "2013-05-30 00:00:00.000"
                                },
                                {
                                    "0": "LL Mountain Tire",
                                    "1": "2013-05-30 00:00:00.000"
                                },
                                {
                                    "0": "LL Road Pedal",
                                    "1": "2013-05-30 00:00:00.000"
                                },
                                {
                                    "0": "LL Road Seat/Saddle",
                                    "1": "2013-05-30 00:00:00.000"
                                },
                                {
                                    "0": "LL Road Tire",
                                    "1": "2013-05-30 00:00:00.000"
                                },
                                {
                                    "0": "LL Touring Frame - Blue, 44",
                                    "1": "2013-05-30 00:00:00.000"
                                },
                                {
                                    "0": "LL Touring Frame - Blue, 50",
                                    "1": "2013-05-30 00:00:00.000"
                                },
                                {
                                    "0": "LL Touring Frame - Blue, 54",
                                    "1": "2013-05-30 00:00:00.000"
                                },
                                {
                                    "0": "LL Touring Frame - Blue, 58",
                                    "1": "2013-05-30 00:00:00.000"
                                },
                                {
                                    "0": "LL Touring Frame - Blue, 62",
                                    "1": "2013-05-30 00:00:00.000"
                                },
                                {
                                    "0": "LL Touring Frame - Yellow, 44",
                                    "1": "2013-05-30 00:00:00.000"
                                },
                                {
                                    "0": "LL Touring Frame - Yellow, 50",
                                    "1": "2013-05-30 00:00:00.000"
                                },
                                {
                                    "0": "LL Touring Frame - Yellow, 54",
                                    "1": "2013-05-30 00:00:00.000"
                                },
                                {
                                    "0": "LL Touring Frame - Yellow, 58",
                                    "1": "2013-05-30 00:00:00.000"
                                },
                                {
                                    "0": "LL Touring Frame - Yellow, 62",
                                    "1": "2013-05-30 00:00:00.000"
                                },
                                {
                                    "0": "LL Touring Handlebars",
                                    "1": "2013-05-30 00:00:00.000"
                                },
                                {
                                    "0": "LL Touring Seat/Saddle",
                                    "1": "2013-05-30 00:00:00.000"
                                },
                                {
                                    "0": "ML Bottom Bracket",
                                    "1": "2013-05-30 00:00:00.000"
                                },
                                {
                                    "0": "ML Crankset",
                                    "1": "2013-05-30 00:00:00.000"
                                },
                                {
                                    "0": "ML Mountain Frame-W - Silver, 38",
                                    "1": "2013-05-30 00:00:00.000"
                                },
                                {
                                    "0": "ML Mountain Frame-W - Silver, 40",
                                    "1": "2013-05-30 00:00:00.000"
                                },
                                {
                                    "0": "ML Mountain Frame-W - Silver, 42",
                                    "1": "2013-05-30 00:00:00.000"
                                },
                                {
                                    "0": "ML Mountain Frame-W - Silver, 46",
                                    "1": "2013-05-30 00:00:00.000"
                                },
                                {
                                    "0": "ML Mountain Pedal",
                                    "1": "2013-05-30 00:00:00.000"
                                },
                                {
                                    "0": "ML Mountain Seat/Saddle",
                                    "1": "2013-05-30 00:00:00.000"
                                },
                                {
                                    "0": "ML Mountain Tire",
                                    "1": "2013-05-30 00:00:00.000"
                                },
                                {
                                    "0": "ML Road Pedal",
                                    "1": "2013-05-30 00:00:00.000"
                                },
                                {
                                    "0": "ML Road Seat/Saddle",
                                    "1": "2013-05-30 00:00:00.000"
                                },
                                {
                                    "0": "ML Road Tire",
                                    "1": "2013-05-30 00:00:00.000"
                                },
                                {
                                    "0": "ML Touring Seat/Saddle",
                                    "1": "2013-05-30 00:00:00.000"
                                },
                                {
                                    "0": "Mountain Bottle Cage",
                                    "1": "2013-05-30 00:00:00.000"
                                },
                                {
                                    "0": "Mountain Tire Tube",
                                    "1": "2013-05-30 00:00:00.000"
                                },
                                {
                                    "0": "Mountain-400-W Silver, 38",
                                    "1": "2013-05-30 00:00:00.000"
                                },
                                {
                                    "0": "Mountain-400-W Silver, 40",
                                    "1": "2013-05-30 00:00:00.000"
                                },
                                {
                                    "0": "Mountain-400-W Silver, 42",
                                    "1": "2013-05-30 00:00:00.000"
                                },
                                {
                                    "0": "Mountain-400-W Silver, 46",
                                    "1": "2013-05-30 00:00:00.000"
                                },
                                {
                                    "0": "Mountain-500 Black, 40",
                                    "1": "2013-05-30 00:00:00.000"
                                },
                                {
                                    "0": "Mountain-500 Black, 42",
                                    "1": "2013-05-30 00:00:00.000"
                                },
                                {
                                    "0": "Mountain-500 Black, 44",
                                    "1": "2013-05-30 00:00:00.000"
                                },
                                {
                                    "0": "Mountain-500 Black, 48",
                                    "1": "2013-05-30 00:00:00.000"
                                },
                                {
                                    "0": "Mountain-500 Black, 52",
                                    "1": "2013-05-30 00:00:00.000"
                                },
                                {
                                    "0": "Mountain-500 Silver, 40",
                                    "1": "2013-05-30 00:00:00.000"
                                },
                                {
                                    "0": "Mountain-500 Silver, 42",
                                    "1": "2013-05-30 00:00:00.000"
                                },
                                {
                                    "0": "Mountain-500 Silver, 44",
                                    "1": "2013-05-30 00:00:00.000"
                                },
                                {
                                    "0": "Mountain-500 Silver, 48",
                                    "1": "2013-05-30 00:00:00.000"
                                },
                                {
                                    "0": "Mountain-500 Silver, 52",
                                    "1": "2013-05-30 00:00:00.000"
                                },
                                {
                                    "0": "Patch Kit/8 Patches",
                                    "1": "2013-05-30 00:00:00.000"
                                },
                                {
                                    "0": "Racing Socks, L",
                                    "1": "2013-05-30 00:00:00.000"
                                },
                                {
                                    "0": "Racing Socks, M",
                                    "1": "2013-05-30 00:00:00.000"
                                },
                                {
                                    "0": "Rear Brakes",
                                    "1": "2013-05-30 00:00:00.000"
                                },
                                {
                                    "0": "Rear Derailleur",
                                    "1": "2013-05-30 00:00:00.000"
                                },
                                {
                                    "0": "Road Bottle Cage",
                                    "1": "2013-05-30 00:00:00.000"
                                },
                                {
                                    "0": "Road Tire Tube",
                                    "1": "2013-05-30 00:00:00.000"
                                },
                                {
                                    "0": "Road-350-W Yellow, 40",
                                    "1": "2013-05-30 00:00:00.000"
                                },
                                {
                                    "0": "Road-350-W Yellow, 42",
                                    "1": "2013-05-30 00:00:00.000"
                                },
                                {
                                    "0": "Road-350-W Yellow, 44",
                                    "1": "2013-05-30 00:00:00.000"
                                },
                                {
                                    "0": "Road-350-W Yellow, 48",
                                    "1": "2013-05-30 00:00:00.000"
                                },
                                {
                                    "0": "Road-750 Black, 44",
                                    "1": "2013-05-30 00:00:00.000"
                                },
                                {
                                    "0": "Road-750 Black, 48",
                                    "1": "2013-05-30 00:00:00.000"
                                },
                                {
                                    "0": "Road-750 Black, 52",
                                    "1": "2013-05-30 00:00:00.000"
                                },
                                {
                                    "0": "Road-750 Black, 58",
                                    "1": "2013-05-30 00:00:00.000"
                                },
                                {
                                    "0": "Short-Sleeve Classic Jersey, L",
                                    "1": "2013-05-30 00:00:00.000"
                                },
                                {
                                    "0": "Short-Sleeve Classic Jersey, M",
                                    "1": "2013-05-30 00:00:00.000"
                                },
                                {
                                    "0": "Short-Sleeve Classic Jersey, S",
                                    "1": "2013-05-30 00:00:00.000"
                                },
                                {
                                    "0": "Short-Sleeve Classic Jersey, XL",
                                    "1": "2013-05-30 00:00:00.000"
                                },
                                {
                                    "0": "Touring Pedal",
                                    "1": "2013-05-30 00:00:00.000"
                                },
                                {
                                    "0": "Touring Tire",
                                    "1": "2013-05-30 00:00:00.000"
                                },
                                {
                                    "0": "Touring Tire Tube",
                                    "1": "2013-05-30 00:00:00.000"
                                },
                                {
                                    "0": "Touring-1000 Blue, 46",
                                    "1": "2013-05-30 00:00:00.000"
                                },
                                {
                                    "0": "Touring-1000 Blue, 50",
                                    "1": "2013-05-30 00:00:00.000"
                                },
                                {
                                    "0": "Touring-1000 Blue, 54",
                                    "1": "2013-05-30 00:00:00.000"
                                },
                                {
                                    "0": "Touring-1000 Blue, 60",
                                    "1": "2013-05-30 00:00:00.000"
                                },
                                {
                                    "0": "Touring-1000 Yellow, 46",
                                    "1": "2013-05-30 00:00:00.000"
                                },
                                {
                                    "0": "Touring-1000 Yellow, 50",
                                    "1": "2013-05-30 00:00:00.000"
                                },
                                {
                                    "0": "Touring-1000 Yellow, 54",
                                    "1": "2013-05-30 00:00:00.000"
                                },
                                {
                                    "0": "Touring-1000 Yellow, 60",
                                    "1": "2013-05-30 00:00:00.000"
                                },
                                {
                                    "0": "Touring-2000 Blue, 46",
                                    "1": "2013-05-30 00:00:00.000"
                                },
                                {
                                    "0": "Touring-2000 Blue, 50",
                                    "1": "2013-05-30 00:00:00.000"
                                },
                                {
                                    "0": "Touring-2000 Blue, 54",
                                    "1": "2013-05-30 00:00:00.000"
                                },
                                {
                                    "0": "Touring-2000 Blue, 60",
                                    "1": "2013-05-30 00:00:00.000"
                                },
                                {
                                    "0": "Touring-3000 Blue, 44",
                                    "1": "2013-05-30 00:00:00.000"
                                },
                                {
                                    "0": "Touring-3000 Blue, 50",
                                    "1": "2013-05-30 00:00:00.000"
                                },
                                {
                                    "0": "Touring-3000 Blue, 54",
                                    "1": "2013-05-30 00:00:00.000"
                                },
                                {
                                    "0": "Touring-3000 Blue, 58",
                                    "1": "2013-05-30 00:00:00.000"
                                },
                                {
                                    "0": "Touring-3000 Blue, 62",
                                    "1": "2013-05-30 00:00:00.000"
                                },
                                {
                                    "0": "Touring-3000 Yellow, 44",
                                    "1": "2013-05-30 00:00:00.000"
                                },
                                {
                                    "0": "Touring-3000 Yellow, 50",
                                    "1": "2013-05-30 00:00:00.000"
                                },
                                {
                                    "0": "Touring-3000 Yellow, 54",
                                    "1": "2013-05-30 00:00:00.000"
                                },
                                {
                                    "0": "Touring-3000 Yellow, 58",
                                    "1": "2013-05-30 00:00:00.000"
                                },
                                {
                                    "0": "Touring-3000 Yellow, 62",
                                    "1": "2013-05-30 00:00:00.000"
                                },
                                {
                                    "0": "Water Bottle - 30 oz.",
                                    "1": "2013-05-30 00:00:00.000"
                                },
                                {
                                    "0": "Women's Mountain Shorts, L",
                                    "1": "2013-05-30 00:00:00.000"
                                },
                                {
                                    "0": "Women's Mountain Shorts, M",
                                    "1": "2013-05-30 00:00:00.000"
                                },
                                {
                                    "0": "Women's Mountain Shorts, S",
                                    "1": "2013-05-30 00:00:00.000"
                                }
                            ]
                        },
                        "text/html": [
                            "<table>",
                            "<tr><th>Product Name</th><th>First made available</th></tr>",
                            "<tr><td>All-Purpose Bike Stand</td><td>2013-05-30 00:00:00.000</td></tr>",
                            "<tr><td>Bike Wash - Dissolver</td><td>2013-05-30 00:00:00.000</td></tr>",
                            "<tr><td>Chain</td><td>2013-05-30 00:00:00.000</td></tr>",
                            "<tr><td>Classic Vest, L</td><td>2013-05-30 00:00:00.000</td></tr>",
                            "<tr><td>Classic Vest, M</td><td>2013-05-30 00:00:00.000</td></tr>",
                            "<tr><td>Classic Vest, S</td><td>2013-05-30 00:00:00.000</td></tr>",
                            "<tr><td>Fender Set - Mountain</td><td>2013-05-30 00:00:00.000</td></tr>",
                            "<tr><td>Front Brakes</td><td>2013-05-30 00:00:00.000</td></tr>",
                            "<tr><td>Front Derailleur</td><td>2013-05-30 00:00:00.000</td></tr>",
                            "<tr><td>Hitch Rack - 4-Bike</td><td>2013-05-30 00:00:00.000</td></tr>",
                            "<tr><td>HL Bottom Bracket</td><td>2013-05-30 00:00:00.000</td></tr>",
                            "<tr><td>HL Crankset</td><td>2013-05-30 00:00:00.000</td></tr>",
                            "<tr><td>HL Mountain Pedal</td><td>2013-05-30 00:00:00.000</td></tr>",
                            "<tr><td>HL Mountain Seat/Saddle</td><td>2013-05-30 00:00:00.000</td></tr>",
                            "<tr><td>HL Mountain Tire</td><td>2013-05-30 00:00:00.000</td></tr>",
                            "<tr><td>HL Road Pedal</td><td>2013-05-30 00:00:00.000</td></tr>",
                            "<tr><td>HL Road Seat/Saddle</td><td>2013-05-30 00:00:00.000</td></tr>",
                            "<tr><td>HL Road Tire</td><td>2013-05-30 00:00:00.000</td></tr>",
                            "<tr><td>HL Touring Frame - Blue, 46</td><td>2013-05-30 00:00:00.000</td></tr>",
                            "<tr><td>HL Touring Frame - Blue, 50</td><td>2013-05-30 00:00:00.000</td></tr>",
                            "<tr><td>HL Touring Frame - Blue, 54</td><td>2013-05-30 00:00:00.000</td></tr>",
                            "<tr><td>HL Touring Frame - Blue, 60</td><td>2013-05-30 00:00:00.000</td></tr>",
                            "<tr><td>HL Touring Frame - Yellow, 46</td><td>2013-05-30 00:00:00.000</td></tr>",
                            "<tr><td>HL Touring Frame - Yellow, 50</td><td>2013-05-30 00:00:00.000</td></tr>",
                            "<tr><td>HL Touring Frame - Yellow, 54</td><td>2013-05-30 00:00:00.000</td></tr>",
                            "<tr><td>HL Touring Frame - Yellow, 60</td><td>2013-05-30 00:00:00.000</td></tr>",
                            "<tr><td>HL Touring Handlebars</td><td>2013-05-30 00:00:00.000</td></tr>",
                            "<tr><td>HL Touring Seat/Saddle</td><td>2013-05-30 00:00:00.000</td></tr>",
                            "<tr><td>Hydration Pack - 70 oz.</td><td>2013-05-30 00:00:00.000</td></tr>",
                            "<tr><td>LL Bottom Bracket</td><td>2013-05-30 00:00:00.000</td></tr>",
                            "<tr><td>LL Crankset</td><td>2013-05-30 00:00:00.000</td></tr>",
                            "<tr><td>LL Mountain Frame - Black, 40</td><td>2013-05-30 00:00:00.000</td></tr>",
                            "<tr><td>LL Mountain Frame - Black, 42</td><td>2013-05-30 00:00:00.000</td></tr>",
                            "<tr><td>LL Mountain Frame - Black, 44</td><td>2013-05-30 00:00:00.000</td></tr>",
                            "<tr><td>LL Mountain Frame - Black, 48</td><td>2013-05-30 00:00:00.000</td></tr>",
                            "<tr><td>LL Mountain Frame - Black, 52</td><td>2013-05-30 00:00:00.000</td></tr>",
                            "<tr><td>LL Mountain Frame - Silver, 40</td><td>2013-05-30 00:00:00.000</td></tr>",
                            "<tr><td>LL Mountain Frame - Silver, 42</td><td>2013-05-30 00:00:00.000</td></tr>",
                            "<tr><td>LL Mountain Frame - Silver, 44</td><td>2013-05-30 00:00:00.000</td></tr>",
                            "<tr><td>LL Mountain Frame - Silver, 48</td><td>2013-05-30 00:00:00.000</td></tr>",
                            "<tr><td>LL Mountain Frame - Silver, 52</td><td>2013-05-30 00:00:00.000</td></tr>",
                            "<tr><td>LL Mountain Pedal</td><td>2013-05-30 00:00:00.000</td></tr>",
                            "<tr><td>LL Mountain Seat/Saddle</td><td>2013-05-30 00:00:00.000</td></tr>",
                            "<tr><td>LL Mountain Tire</td><td>2013-05-30 00:00:00.000</td></tr>",
                            "<tr><td>LL Road Pedal</td><td>2013-05-30 00:00:00.000</td></tr>",
                            "<tr><td>LL Road Seat/Saddle</td><td>2013-05-30 00:00:00.000</td></tr>",
                            "<tr><td>LL Road Tire</td><td>2013-05-30 00:00:00.000</td></tr>",
                            "<tr><td>LL Touring Frame - Blue, 44</td><td>2013-05-30 00:00:00.000</td></tr>",
                            "<tr><td>LL Touring Frame - Blue, 50</td><td>2013-05-30 00:00:00.000</td></tr>",
                            "<tr><td>LL Touring Frame - Blue, 54</td><td>2013-05-30 00:00:00.000</td></tr>",
                            "<tr><td>LL Touring Frame - Blue, 58</td><td>2013-05-30 00:00:00.000</td></tr>",
                            "<tr><td>LL Touring Frame - Blue, 62</td><td>2013-05-30 00:00:00.000</td></tr>",
                            "<tr><td>LL Touring Frame - Yellow, 44</td><td>2013-05-30 00:00:00.000</td></tr>",
                            "<tr><td>LL Touring Frame - Yellow, 50</td><td>2013-05-30 00:00:00.000</td></tr>",
                            "<tr><td>LL Touring Frame - Yellow, 54</td><td>2013-05-30 00:00:00.000</td></tr>",
                            "<tr><td>LL Touring Frame - Yellow, 58</td><td>2013-05-30 00:00:00.000</td></tr>",
                            "<tr><td>LL Touring Frame - Yellow, 62</td><td>2013-05-30 00:00:00.000</td></tr>",
                            "<tr><td>LL Touring Handlebars</td><td>2013-05-30 00:00:00.000</td></tr>",
                            "<tr><td>LL Touring Seat/Saddle</td><td>2013-05-30 00:00:00.000</td></tr>",
                            "<tr><td>ML Bottom Bracket</td><td>2013-05-30 00:00:00.000</td></tr>",
                            "<tr><td>ML Crankset</td><td>2013-05-30 00:00:00.000</td></tr>",
                            "<tr><td>ML Mountain Frame-W - Silver, 38</td><td>2013-05-30 00:00:00.000</td></tr>",
                            "<tr><td>ML Mountain Frame-W - Silver, 40</td><td>2013-05-30 00:00:00.000</td></tr>",
                            "<tr><td>ML Mountain Frame-W - Silver, 42</td><td>2013-05-30 00:00:00.000</td></tr>",
                            "<tr><td>ML Mountain Frame-W - Silver, 46</td><td>2013-05-30 00:00:00.000</td></tr>",
                            "<tr><td>ML Mountain Pedal</td><td>2013-05-30 00:00:00.000</td></tr>",
                            "<tr><td>ML Mountain Seat/Saddle</td><td>2013-05-30 00:00:00.000</td></tr>",
                            "<tr><td>ML Mountain Tire</td><td>2013-05-30 00:00:00.000</td></tr>",
                            "<tr><td>ML Road Pedal</td><td>2013-05-30 00:00:00.000</td></tr>",
                            "<tr><td>ML Road Seat/Saddle</td><td>2013-05-30 00:00:00.000</td></tr>",
                            "<tr><td>ML Road Tire</td><td>2013-05-30 00:00:00.000</td></tr>",
                            "<tr><td>ML Touring Seat/Saddle</td><td>2013-05-30 00:00:00.000</td></tr>",
                            "<tr><td>Mountain Bottle Cage</td><td>2013-05-30 00:00:00.000</td></tr>",
                            "<tr><td>Mountain Tire Tube</td><td>2013-05-30 00:00:00.000</td></tr>",
                            "<tr><td>Mountain-400-W Silver, 38</td><td>2013-05-30 00:00:00.000</td></tr>",
                            "<tr><td>Mountain-400-W Silver, 40</td><td>2013-05-30 00:00:00.000</td></tr>",
                            "<tr><td>Mountain-400-W Silver, 42</td><td>2013-05-30 00:00:00.000</td></tr>",
                            "<tr><td>Mountain-400-W Silver, 46</td><td>2013-05-30 00:00:00.000</td></tr>",
                            "<tr><td>Mountain-500 Black, 40</td><td>2013-05-30 00:00:00.000</td></tr>",
                            "<tr><td>Mountain-500 Black, 42</td><td>2013-05-30 00:00:00.000</td></tr>",
                            "<tr><td>Mountain-500 Black, 44</td><td>2013-05-30 00:00:00.000</td></tr>",
                            "<tr><td>Mountain-500 Black, 48</td><td>2013-05-30 00:00:00.000</td></tr>",
                            "<tr><td>Mountain-500 Black, 52</td><td>2013-05-30 00:00:00.000</td></tr>",
                            "<tr><td>Mountain-500 Silver, 40</td><td>2013-05-30 00:00:00.000</td></tr>",
                            "<tr><td>Mountain-500 Silver, 42</td><td>2013-05-30 00:00:00.000</td></tr>",
                            "<tr><td>Mountain-500 Silver, 44</td><td>2013-05-30 00:00:00.000</td></tr>",
                            "<tr><td>Mountain-500 Silver, 48</td><td>2013-05-30 00:00:00.000</td></tr>",
                            "<tr><td>Mountain-500 Silver, 52</td><td>2013-05-30 00:00:00.000</td></tr>",
                            "<tr><td>Patch Kit/8 Patches</td><td>2013-05-30 00:00:00.000</td></tr>",
                            "<tr><td>Racing Socks, L</td><td>2013-05-30 00:00:00.000</td></tr>",
                            "<tr><td>Racing Socks, M</td><td>2013-05-30 00:00:00.000</td></tr>",
                            "<tr><td>Rear Brakes</td><td>2013-05-30 00:00:00.000</td></tr>",
                            "<tr><td>Rear Derailleur</td><td>2013-05-30 00:00:00.000</td></tr>",
                            "<tr><td>Road Bottle Cage</td><td>2013-05-30 00:00:00.000</td></tr>",
                            "<tr><td>Road Tire Tube</td><td>2013-05-30 00:00:00.000</td></tr>",
                            "<tr><td>Road-350-W Yellow, 40</td><td>2013-05-30 00:00:00.000</td></tr>",
                            "<tr><td>Road-350-W Yellow, 42</td><td>2013-05-30 00:00:00.000</td></tr>",
                            "<tr><td>Road-350-W Yellow, 44</td><td>2013-05-30 00:00:00.000</td></tr>",
                            "<tr><td>Road-350-W Yellow, 48</td><td>2013-05-30 00:00:00.000</td></tr>",
                            "<tr><td>Road-750 Black, 44</td><td>2013-05-30 00:00:00.000</td></tr>",
                            "<tr><td>Road-750 Black, 48</td><td>2013-05-30 00:00:00.000</td></tr>",
                            "<tr><td>Road-750 Black, 52</td><td>2013-05-30 00:00:00.000</td></tr>",
                            "<tr><td>Road-750 Black, 58</td><td>2013-05-30 00:00:00.000</td></tr>",
                            "<tr><td>Short-Sleeve Classic Jersey, L</td><td>2013-05-30 00:00:00.000</td></tr>",
                            "<tr><td>Short-Sleeve Classic Jersey, M</td><td>2013-05-30 00:00:00.000</td></tr>",
                            "<tr><td>Short-Sleeve Classic Jersey, S</td><td>2013-05-30 00:00:00.000</td></tr>",
                            "<tr><td>Short-Sleeve Classic Jersey, XL</td><td>2013-05-30 00:00:00.000</td></tr>",
                            "<tr><td>Touring Pedal</td><td>2013-05-30 00:00:00.000</td></tr>",
                            "<tr><td>Touring Tire</td><td>2013-05-30 00:00:00.000</td></tr>",
                            "<tr><td>Touring Tire Tube</td><td>2013-05-30 00:00:00.000</td></tr>",
                            "<tr><td>Touring-1000 Blue, 46</td><td>2013-05-30 00:00:00.000</td></tr>",
                            "<tr><td>Touring-1000 Blue, 50</td><td>2013-05-30 00:00:00.000</td></tr>",
                            "<tr><td>Touring-1000 Blue, 54</td><td>2013-05-30 00:00:00.000</td></tr>",
                            "<tr><td>Touring-1000 Blue, 60</td><td>2013-05-30 00:00:00.000</td></tr>",
                            "<tr><td>Touring-1000 Yellow, 46</td><td>2013-05-30 00:00:00.000</td></tr>",
                            "<tr><td>Touring-1000 Yellow, 50</td><td>2013-05-30 00:00:00.000</td></tr>",
                            "<tr><td>Touring-1000 Yellow, 54</td><td>2013-05-30 00:00:00.000</td></tr>",
                            "<tr><td>Touring-1000 Yellow, 60</td><td>2013-05-30 00:00:00.000</td></tr>",
                            "<tr><td>Touring-2000 Blue, 46</td><td>2013-05-30 00:00:00.000</td></tr>",
                            "<tr><td>Touring-2000 Blue, 50</td><td>2013-05-30 00:00:00.000</td></tr>",
                            "<tr><td>Touring-2000 Blue, 54</td><td>2013-05-30 00:00:00.000</td></tr>",
                            "<tr><td>Touring-2000 Blue, 60</td><td>2013-05-30 00:00:00.000</td></tr>",
                            "<tr><td>Touring-3000 Blue, 44</td><td>2013-05-30 00:00:00.000</td></tr>",
                            "<tr><td>Touring-3000 Blue, 50</td><td>2013-05-30 00:00:00.000</td></tr>",
                            "<tr><td>Touring-3000 Blue, 54</td><td>2013-05-30 00:00:00.000</td></tr>",
                            "<tr><td>Touring-3000 Blue, 58</td><td>2013-05-30 00:00:00.000</td></tr>",
                            "<tr><td>Touring-3000 Blue, 62</td><td>2013-05-30 00:00:00.000</td></tr>",
                            "<tr><td>Touring-3000 Yellow, 44</td><td>2013-05-30 00:00:00.000</td></tr>",
                            "<tr><td>Touring-3000 Yellow, 50</td><td>2013-05-30 00:00:00.000</td></tr>",
                            "<tr><td>Touring-3000 Yellow, 54</td><td>2013-05-30 00:00:00.000</td></tr>",
                            "<tr><td>Touring-3000 Yellow, 58</td><td>2013-05-30 00:00:00.000</td></tr>",
                            "<tr><td>Touring-3000 Yellow, 62</td><td>2013-05-30 00:00:00.000</td></tr>",
                            "<tr><td>Water Bottle - 30 oz.</td><td>2013-05-30 00:00:00.000</td></tr>",
                            "<tr><td>Women's Mountain Shorts, L</td><td>2013-05-30 00:00:00.000</td></tr>",
                            "<tr><td>Women's Mountain Shorts, M</td><td>2013-05-30 00:00:00.000</td></tr>",
                            "<tr><td>Women's Mountain Shorts, S</td><td>2013-05-30 00:00:00.000</td></tr>",
                            "</table>"
                        ]
                    }
                }
            ],
            "execution_count": 134
        },
        {
            "cell_type": "markdown",
            "source": [
                "<span style=\"font-size: 12pt; font-family: &quot;Times New Roman&quot;; color: rgb(0, 0, 0); background-color: transparent; font-variant-numeric: normal; font-variant-east-asian: normal; text-decoration-line: underline; text-decoration-skip-ink: none; vertical-align: baseline; white-space: pre-wrap;\">Part D</span>\n",
                "\n",
                "<span style=\"font-size: 12pt; font-family: &quot;Times New Roman&quot;; color: rgb(0, 0, 0); background-color: transparent; font-variant-numeric: normal; font-variant-east-asian: normal; vertical-align: baseline; white-space: pre-wrap;\">The product management team would like to know which products had a sales launch (sales start date) that took place during the second half of the week.&nbsp; Produce a list of products that started sales on or after the Wednesday of their launch week.&nbsp; Include the product name, sales start date, and the day of the week.&nbsp; Sort the results by sales start date in ascending order, then by product name in alphabetical order.&nbsp; (NOTE: It is OK to simply provide the number of the weekday.&nbsp; For example, Sunday = 1, Monday = 2, etc.)&nbsp; (Hint: If you’re stuck on this, Google the DATEPART() function)</span>"
            ],
            "metadata": {
                "azdata_cell_guid": "de9d2dd6-ef16-4382-aa4f-9a873ff6994b"
            },
            "attachments": {}
        },
        {
            "cell_type": "code",
            "source": [
                "SELECT name as 'Product Name', SellStartDate, DATEPART(weekday, SellStartDate) as 'Day of the week'\r\n",
                "FROM Production.Product\r\n",
                "Where DATEPART(weekday, SellStartDate)>=4\r\n",
                "order by SellStartDate, Name"
            ],
            "metadata": {
                "azdata_cell_guid": "03ab764f-3b04-41a4-a614-989abbb98dd6",
                "language": "sql"
            },
            "outputs": [
                {
                    "output_type": "display_data",
                    "data": {
                        "text/html": "(432 rows affected)"
                    },
                    "metadata": {}
                },
                {
                    "output_type": "display_data",
                    "data": {
                        "text/html": "Total execution time: 00:00:00.047"
                    },
                    "metadata": {}
                },
                {
                    "output_type": "execute_result",
                    "metadata": {},
                    "execution_count": 148,
                    "data": {
                        "application/vnd.dataresource+json": {
                            "schema": {
                                "fields": [
                                    {
                                        "name": "Product Name"
                                    },
                                    {
                                        "name": "SellStartDate"
                                    },
                                    {
                                        "name": "Day of the week"
                                    }
                                ]
                            },
                            "data": [
                                {
                                    "0": "Adjustable Race",
                                    "1": "2008-04-30 00:00:00.000",
                                    "2": "4"
                                },
                                {
                                    "0": "BB Ball Bearing",
                                    "1": "2008-04-30 00:00:00.000",
                                    "2": "4"
                                },
                                {
                                    "0": "Bearing Ball",
                                    "1": "2008-04-30 00:00:00.000",
                                    "2": "4"
                                },
                                {
                                    "0": "Blade",
                                    "1": "2008-04-30 00:00:00.000",
                                    "2": "4"
                                },
                                {
                                    "0": "Chain Stays",
                                    "1": "2008-04-30 00:00:00.000",
                                    "2": "4"
                                },
                                {
                                    "0": "Chainring",
                                    "1": "2008-04-30 00:00:00.000",
                                    "2": "4"
                                },
                                {
                                    "0": "Chainring Bolts",
                                    "1": "2008-04-30 00:00:00.000",
                                    "2": "4"
                                },
                                {
                                    "0": "Chainring Nut",
                                    "1": "2008-04-30 00:00:00.000",
                                    "2": "4"
                                },
                                {
                                    "0": "Cone-Shaped Race",
                                    "1": "2008-04-30 00:00:00.000",
                                    "2": "4"
                                },
                                {
                                    "0": "Crown Race",
                                    "1": "2008-04-30 00:00:00.000",
                                    "2": "4"
                                },
                                {
                                    "0": "Cup-Shaped Race",
                                    "1": "2008-04-30 00:00:00.000",
                                    "2": "4"
                                },
                                {
                                    "0": "Decal 1",
                                    "1": "2008-04-30 00:00:00.000",
                                    "2": "4"
                                },
                                {
                                    "0": "Decal 2",
                                    "1": "2008-04-30 00:00:00.000",
                                    "2": "4"
                                },
                                {
                                    "0": "Down Tube",
                                    "1": "2008-04-30 00:00:00.000",
                                    "2": "4"
                                },
                                {
                                    "0": "External Lock Washer 1",
                                    "1": "2008-04-30 00:00:00.000",
                                    "2": "4"
                                },
                                {
                                    "0": "External Lock Washer 2",
                                    "1": "2008-04-30 00:00:00.000",
                                    "2": "4"
                                },
                                {
                                    "0": "External Lock Washer 3",
                                    "1": "2008-04-30 00:00:00.000",
                                    "2": "4"
                                },
                                {
                                    "0": "External Lock Washer 4",
                                    "1": "2008-04-30 00:00:00.000",
                                    "2": "4"
                                },
                                {
                                    "0": "External Lock Washer 5",
                                    "1": "2008-04-30 00:00:00.000",
                                    "2": "4"
                                },
                                {
                                    "0": "External Lock Washer 6",
                                    "1": "2008-04-30 00:00:00.000",
                                    "2": "4"
                                },
                                {
                                    "0": "External Lock Washer 7",
                                    "1": "2008-04-30 00:00:00.000",
                                    "2": "4"
                                },
                                {
                                    "0": "External Lock Washer 8",
                                    "1": "2008-04-30 00:00:00.000",
                                    "2": "4"
                                },
                                {
                                    "0": "External Lock Washer 9",
                                    "1": "2008-04-30 00:00:00.000",
                                    "2": "4"
                                },
                                {
                                    "0": "Flat Washer 1",
                                    "1": "2008-04-30 00:00:00.000",
                                    "2": "4"
                                },
                                {
                                    "0": "Flat Washer 2",
                                    "1": "2008-04-30 00:00:00.000",
                                    "2": "4"
                                },
                                {
                                    "0": "Flat Washer 3",
                                    "1": "2008-04-30 00:00:00.000",
                                    "2": "4"
                                },
                                {
                                    "0": "Flat Washer 4",
                                    "1": "2008-04-30 00:00:00.000",
                                    "2": "4"
                                },
                                {
                                    "0": "Flat Washer 5",
                                    "1": "2008-04-30 00:00:00.000",
                                    "2": "4"
                                },
                                {
                                    "0": "Flat Washer 6",
                                    "1": "2008-04-30 00:00:00.000",
                                    "2": "4"
                                },
                                {
                                    "0": "Flat Washer 7",
                                    "1": "2008-04-30 00:00:00.000",
                                    "2": "4"
                                },
                                {
                                    "0": "Flat Washer 8",
                                    "1": "2008-04-30 00:00:00.000",
                                    "2": "4"
                                },
                                {
                                    "0": "Flat Washer 9",
                                    "1": "2008-04-30 00:00:00.000",
                                    "2": "4"
                                },
                                {
                                    "0": "Fork Crown",
                                    "1": "2008-04-30 00:00:00.000",
                                    "2": "4"
                                },
                                {
                                    "0": "Fork End",
                                    "1": "2008-04-30 00:00:00.000",
                                    "2": "4"
                                },
                                {
                                    "0": "Freewheel",
                                    "1": "2008-04-30 00:00:00.000",
                                    "2": "4"
                                },
                                {
                                    "0": "Front Derailleur Cage",
                                    "1": "2008-04-30 00:00:00.000",
                                    "2": "4"
                                },
                                {
                                    "0": "Front Derailleur Linkage",
                                    "1": "2008-04-30 00:00:00.000",
                                    "2": "4"
                                },
                                {
                                    "0": "Guide Pulley",
                                    "1": "2008-04-30 00:00:00.000",
                                    "2": "4"
                                },
                                {
                                    "0": "Handlebar Tube",
                                    "1": "2008-04-30 00:00:00.000",
                                    "2": "4"
                                },
                                {
                                    "0": "Head Tube",
                                    "1": "2008-04-30 00:00:00.000",
                                    "2": "4"
                                },
                                {
                                    "0": "Headset Ball Bearings",
                                    "1": "2008-04-30 00:00:00.000",
                                    "2": "4"
                                },
                                {
                                    "0": "Hex Nut 1",
                                    "1": "2008-04-30 00:00:00.000",
                                    "2": "4"
                                },
                                {
                                    "0": "Hex Nut 10",
                                    "1": "2008-04-30 00:00:00.000",
                                    "2": "4"
                                },
                                {
                                    "0": "Hex Nut 11",
                                    "1": "2008-04-30 00:00:00.000",
                                    "2": "4"
                                },
                                {
                                    "0": "Hex Nut 12",
                                    "1": "2008-04-30 00:00:00.000",
                                    "2": "4"
                                },
                                {
                                    "0": "Hex Nut 13",
                                    "1": "2008-04-30 00:00:00.000",
                                    "2": "4"
                                },
                                {
                                    "0": "Hex Nut 14",
                                    "1": "2008-04-30 00:00:00.000",
                                    "2": "4"
                                },
                                {
                                    "0": "Hex Nut 15",
                                    "1": "2008-04-30 00:00:00.000",
                                    "2": "4"
                                },
                                {
                                    "0": "Hex Nut 16",
                                    "1": "2008-04-30 00:00:00.000",
                                    "2": "4"
                                },
                                {
                                    "0": "Hex Nut 17",
                                    "1": "2008-04-30 00:00:00.000",
                                    "2": "4"
                                },
                                {
                                    "0": "Hex Nut 18",
                                    "1": "2008-04-30 00:00:00.000",
                                    "2": "4"
                                },
                                {
                                    "0": "Hex Nut 19",
                                    "1": "2008-04-30 00:00:00.000",
                                    "2": "4"
                                },
                                {
                                    "0": "Hex Nut 2",
                                    "1": "2008-04-30 00:00:00.000",
                                    "2": "4"
                                },
                                {
                                    "0": "Hex Nut 20",
                                    "1": "2008-04-30 00:00:00.000",
                                    "2": "4"
                                },
                                {
                                    "0": "Hex Nut 21",
                                    "1": "2008-04-30 00:00:00.000",
                                    "2": "4"
                                },
                                {
                                    "0": "Hex Nut 22",
                                    "1": "2008-04-30 00:00:00.000",
                                    "2": "4"
                                },
                                {
                                    "0": "Hex Nut 23",
                                    "1": "2008-04-30 00:00:00.000",
                                    "2": "4"
                                },
                                {
                                    "0": "Hex Nut 3",
                                    "1": "2008-04-30 00:00:00.000",
                                    "2": "4"
                                },
                                {
                                    "0": "Hex Nut 4",
                                    "1": "2008-04-30 00:00:00.000",
                                    "2": "4"
                                },
                                {
                                    "0": "Hex Nut 5",
                                    "1": "2008-04-30 00:00:00.000",
                                    "2": "4"
                                },
                                {
                                    "0": "Hex Nut 6",
                                    "1": "2008-04-30 00:00:00.000",
                                    "2": "4"
                                },
                                {
                                    "0": "Hex Nut 7",
                                    "1": "2008-04-30 00:00:00.000",
                                    "2": "4"
                                },
                                {
                                    "0": "Hex Nut 8",
                                    "1": "2008-04-30 00:00:00.000",
                                    "2": "4"
                                },
                                {
                                    "0": "Hex Nut 9",
                                    "1": "2008-04-30 00:00:00.000",
                                    "2": "4"
                                },
                                {
                                    "0": "HL Crankarm",
                                    "1": "2008-04-30 00:00:00.000",
                                    "2": "4"
                                },
                                {
                                    "0": "HL Grip Tape",
                                    "1": "2008-04-30 00:00:00.000",
                                    "2": "4"
                                },
                                {
                                    "0": "HL Hub",
                                    "1": "2008-04-30 00:00:00.000",
                                    "2": "4"
                                },
                                {
                                    "0": "HL Mountain Rim",
                                    "1": "2008-04-30 00:00:00.000",
                                    "2": "4"
                                },
                                {
                                    "0": "HL Mountain Seat Assembly",
                                    "1": "2008-04-30 00:00:00.000",
                                    "2": "4"
                                },
                                {
                                    "0": "HL Nipple",
                                    "1": "2008-04-30 00:00:00.000",
                                    "2": "4"
                                },
                                {
                                    "0": "HL Road Frame - Black, 58",
                                    "1": "2008-04-30 00:00:00.000",
                                    "2": "4"
                                },
                                {
                                    "0": "HL Road Frame - Red, 58",
                                    "1": "2008-04-30 00:00:00.000",
                                    "2": "4"
                                },
                                {
                                    "0": "HL Road Rim",
                                    "1": "2008-04-30 00:00:00.000",
                                    "2": "4"
                                },
                                {
                                    "0": "HL Road Seat Assembly",
                                    "1": "2008-04-30 00:00:00.000",
                                    "2": "4"
                                },
                                {
                                    "0": "HL Shell",
                                    "1": "2008-04-30 00:00:00.000",
                                    "2": "4"
                                },
                                {
                                    "0": "HL Spindle/Axle",
                                    "1": "2008-04-30 00:00:00.000",
                                    "2": "4"
                                },
                                {
                                    "0": "HL Touring Seat Assembly",
                                    "1": "2008-04-30 00:00:00.000",
                                    "2": "4"
                                },
                                {
                                    "0": "Internal Lock Washer 1",
                                    "1": "2008-04-30 00:00:00.000",
                                    "2": "4"
                                },
                                {
                                    "0": "Internal Lock Washer 10",
                                    "1": "2008-04-30 00:00:00.000",
                                    "2": "4"
                                },
                                {
                                    "0": "Internal Lock Washer 2",
                                    "1": "2008-04-30 00:00:00.000",
                                    "2": "4"
                                },
                                {
                                    "0": "Internal Lock Washer 3",
                                    "1": "2008-04-30 00:00:00.000",
                                    "2": "4"
                                },
                                {
                                    "0": "Internal Lock Washer 4",
                                    "1": "2008-04-30 00:00:00.000",
                                    "2": "4"
                                },
                                {
                                    "0": "Internal Lock Washer 5",
                                    "1": "2008-04-30 00:00:00.000",
                                    "2": "4"
                                },
                                {
                                    "0": "Internal Lock Washer 6",
                                    "1": "2008-04-30 00:00:00.000",
                                    "2": "4"
                                },
                                {
                                    "0": "Internal Lock Washer 7",
                                    "1": "2008-04-30 00:00:00.000",
                                    "2": "4"
                                },
                                {
                                    "0": "Internal Lock Washer 8",
                                    "1": "2008-04-30 00:00:00.000",
                                    "2": "4"
                                },
                                {
                                    "0": "Internal Lock Washer 9",
                                    "1": "2008-04-30 00:00:00.000",
                                    "2": "4"
                                },
                                {
                                    "0": "Keyed Washer",
                                    "1": "2008-04-30 00:00:00.000",
                                    "2": "4"
                                },
                                {
                                    "0": "LL Crankarm",
                                    "1": "2008-04-30 00:00:00.000",
                                    "2": "4"
                                },
                                {
                                    "0": "LL Grip Tape",
                                    "1": "2008-04-30 00:00:00.000",
                                    "2": "4"
                                },
                                {
                                    "0": "LL Hub",
                                    "1": "2008-04-30 00:00:00.000",
                                    "2": "4"
                                },
                                {
                                    "0": "LL Mountain Rim",
                                    "1": "2008-04-30 00:00:00.000",
                                    "2": "4"
                                },
                                {
                                    "0": "LL Mountain Seat Assembly",
                                    "1": "2008-04-30 00:00:00.000",
                                    "2": "4"
                                },
                                {
                                    "0": "LL Nipple",
                                    "1": "2008-04-30 00:00:00.000",
                                    "2": "4"
                                },
                                {
                                    "0": "LL Road Rim",
                                    "1": "2008-04-30 00:00:00.000",
                                    "2": "4"
                                },
                                {
                                    "0": "LL Road Seat Assembly",
                                    "1": "2008-04-30 00:00:00.000",
                                    "2": "4"
                                },
                                {
                                    "0": "LL Shell",
                                    "1": "2008-04-30 00:00:00.000",
                                    "2": "4"
                                },
                                {
                                    "0": "LL Spindle/Axle",
                                    "1": "2008-04-30 00:00:00.000",
                                    "2": "4"
                                },
                                {
                                    "0": "LL Touring Seat Assembly",
                                    "1": "2008-04-30 00:00:00.000",
                                    "2": "4"
                                },
                                {
                                    "0": "Lock Nut 1",
                                    "1": "2008-04-30 00:00:00.000",
                                    "2": "4"
                                },
                                {
                                    "0": "Lock Nut 10",
                                    "1": "2008-04-30 00:00:00.000",
                                    "2": "4"
                                },
                                {
                                    "0": "Lock Nut 11",
                                    "1": "2008-04-30 00:00:00.000",
                                    "2": "4"
                                },
                                {
                                    "0": "Lock Nut 12",
                                    "1": "2008-04-30 00:00:00.000",
                                    "2": "4"
                                },
                                {
                                    "0": "Lock Nut 13",
                                    "1": "2008-04-30 00:00:00.000",
                                    "2": "4"
                                },
                                {
                                    "0": "Lock Nut 14",
                                    "1": "2008-04-30 00:00:00.000",
                                    "2": "4"
                                },
                                {
                                    "0": "Lock Nut 15",
                                    "1": "2008-04-30 00:00:00.000",
                                    "2": "4"
                                },
                                {
                                    "0": "Lock Nut 16",
                                    "1": "2008-04-30 00:00:00.000",
                                    "2": "4"
                                },
                                {
                                    "0": "Lock Nut 17",
                                    "1": "2008-04-30 00:00:00.000",
                                    "2": "4"
                                },
                                {
                                    "0": "Lock Nut 18",
                                    "1": "2008-04-30 00:00:00.000",
                                    "2": "4"
                                },
                                {
                                    "0": "Lock Nut 19",
                                    "1": "2008-04-30 00:00:00.000",
                                    "2": "4"
                                },
                                {
                                    "0": "Lock Nut 2",
                                    "1": "2008-04-30 00:00:00.000",
                                    "2": "4"
                                },
                                {
                                    "0": "Lock Nut 20",
                                    "1": "2008-04-30 00:00:00.000",
                                    "2": "4"
                                },
                                {
                                    "0": "Lock Nut 21",
                                    "1": "2008-04-30 00:00:00.000",
                                    "2": "4"
                                },
                                {
                                    "0": "Lock Nut 22",
                                    "1": "2008-04-30 00:00:00.000",
                                    "2": "4"
                                },
                                {
                                    "0": "Lock Nut 23",
                                    "1": "2008-04-30 00:00:00.000",
                                    "2": "4"
                                },
                                {
                                    "0": "Lock Nut 3",
                                    "1": "2008-04-30 00:00:00.000",
                                    "2": "4"
                                },
                                {
                                    "0": "Lock Nut 4",
                                    "1": "2008-04-30 00:00:00.000",
                                    "2": "4"
                                },
                                {
                                    "0": "Lock Nut 5",
                                    "1": "2008-04-30 00:00:00.000",
                                    "2": "4"
                                },
                                {
                                    "0": "Lock Nut 6",
                                    "1": "2008-04-30 00:00:00.000",
                                    "2": "4"
                                },
                                {
                                    "0": "Lock Nut 7",
                                    "1": "2008-04-30 00:00:00.000",
                                    "2": "4"
                                },
                                {
                                    "0": "Lock Nut 8",
                                    "1": "2008-04-30 00:00:00.000",
                                    "2": "4"
                                },
                                {
                                    "0": "Lock Nut 9",
                                    "1": "2008-04-30 00:00:00.000",
                                    "2": "4"
                                },
                                {
                                    "0": "Lock Ring",
                                    "1": "2008-04-30 00:00:00.000",
                                    "2": "4"
                                },
                                {
                                    "0": "Lock Washer 1",
                                    "1": "2008-04-30 00:00:00.000",
                                    "2": "4"
                                },
                                {
                                    "0": "Lock Washer 10",
                                    "1": "2008-04-30 00:00:00.000",
                                    "2": "4"
                                },
                                {
                                    "0": "Lock Washer 11",
                                    "1": "2008-04-30 00:00:00.000",
                                    "2": "4"
                                },
                                {
                                    "0": "Lock Washer 12",
                                    "1": "2008-04-30 00:00:00.000",
                                    "2": "4"
                                },
                                {
                                    "0": "Lock Washer 13",
                                    "1": "2008-04-30 00:00:00.000",
                                    "2": "4"
                                },
                                {
                                    "0": "Lock Washer 2",
                                    "1": "2008-04-30 00:00:00.000",
                                    "2": "4"
                                },
                                {
                                    "0": "Lock Washer 3",
                                    "1": "2008-04-30 00:00:00.000",
                                    "2": "4"
                                },
                                {
                                    "0": "Lock Washer 4",
                                    "1": "2008-04-30 00:00:00.000",
                                    "2": "4"
                                },
                                {
                                    "0": "Lock Washer 5",
                                    "1": "2008-04-30 00:00:00.000",
                                    "2": "4"
                                },
                                {
                                    "0": "Lock Washer 6",
                                    "1": "2008-04-30 00:00:00.000",
                                    "2": "4"
                                },
                                {
                                    "0": "Lock Washer 7",
                                    "1": "2008-04-30 00:00:00.000",
                                    "2": "4"
                                },
                                {
                                    "0": "Lock Washer 8",
                                    "1": "2008-04-30 00:00:00.000",
                                    "2": "4"
                                },
                                {
                                    "0": "Lock Washer 9",
                                    "1": "2008-04-30 00:00:00.000",
                                    "2": "4"
                                },
                                {
                                    "0": "Lower Head Race",
                                    "1": "2008-04-30 00:00:00.000",
                                    "2": "4"
                                },
                                {
                                    "0": "Metal Angle",
                                    "1": "2008-04-30 00:00:00.000",
                                    "2": "4"
                                },
                                {
                                    "0": "Metal Bar 1",
                                    "1": "2008-04-30 00:00:00.000",
                                    "2": "4"
                                },
                                {
                                    "0": "Metal Bar 2",
                                    "1": "2008-04-30 00:00:00.000",
                                    "2": "4"
                                },
                                {
                                    "0": "Metal Plate 1",
                                    "1": "2008-04-30 00:00:00.000",
                                    "2": "4"
                                },
                                {
                                    "0": "Metal Plate 2",
                                    "1": "2008-04-30 00:00:00.000",
                                    "2": "4"
                                },
                                {
                                    "0": "Metal Plate 3",
                                    "1": "2008-04-30 00:00:00.000",
                                    "2": "4"
                                },
                                {
                                    "0": "Metal Sheet 1",
                                    "1": "2008-04-30 00:00:00.000",
                                    "2": "4"
                                },
                                {
                                    "0": "Metal Sheet 2",
                                    "1": "2008-04-30 00:00:00.000",
                                    "2": "4"
                                },
                                {
                                    "0": "Metal Sheet 3",
                                    "1": "2008-04-30 00:00:00.000",
                                    "2": "4"
                                },
                                {
                                    "0": "Metal Sheet 4",
                                    "1": "2008-04-30 00:00:00.000",
                                    "2": "4"
                                },
                                {
                                    "0": "Metal Sheet 5",
                                    "1": "2008-04-30 00:00:00.000",
                                    "2": "4"
                                },
                                {
                                    "0": "Metal Sheet 6",
                                    "1": "2008-04-30 00:00:00.000",
                                    "2": "4"
                                },
                                {
                                    "0": "Metal Sheet 7",
                                    "1": "2008-04-30 00:00:00.000",
                                    "2": "4"
                                },
                                {
                                    "0": "Metal Tread Plate",
                                    "1": "2008-04-30 00:00:00.000",
                                    "2": "4"
                                },
                                {
                                    "0": "ML Crankarm",
                                    "1": "2008-04-30 00:00:00.000",
                                    "2": "4"
                                },
                                {
                                    "0": "ML Grip Tape",
                                    "1": "2008-04-30 00:00:00.000",
                                    "2": "4"
                                },
                                {
                                    "0": "ML Mountain Rim",
                                    "1": "2008-04-30 00:00:00.000",
                                    "2": "4"
                                },
                                {
                                    "0": "ML Mountain Seat Assembly",
                                    "1": "2008-04-30 00:00:00.000",
                                    "2": "4"
                                },
                                {
                                    "0": "ML Road Rim",
                                    "1": "2008-04-30 00:00:00.000",
                                    "2": "4"
                                },
                                {
                                    "0": "ML Road Seat Assembly",
                                    "1": "2008-04-30 00:00:00.000",
                                    "2": "4"
                                },
                                {
                                    "0": "ML Touring Seat Assembly",
                                    "1": "2008-04-30 00:00:00.000",
                                    "2": "4"
                                },
                                {
                                    "0": "Mountain End Caps",
                                    "1": "2008-04-30 00:00:00.000",
                                    "2": "4"
                                },
                                {
                                    "0": "Paint - Black",
                                    "1": "2008-04-30 00:00:00.000",
                                    "2": "4"
                                },
                                {
                                    "0": "Paint - Blue",
                                    "1": "2008-04-30 00:00:00.000",
                                    "2": "4"
                                },
                                {
                                    "0": "Paint - Red",
                                    "1": "2008-04-30 00:00:00.000",
                                    "2": "4"
                                },
                                {
                                    "0": "Paint - Silver",
                                    "1": "2008-04-30 00:00:00.000",
                                    "2": "4"
                                },
                                {
                                    "0": "Paint - Yellow",
                                    "1": "2008-04-30 00:00:00.000",
                                    "2": "4"
                                },
                                {
                                    "0": "Pinch Bolt",
                                    "1": "2008-04-30 00:00:00.000",
                                    "2": "4"
                                },
                                {
                                    "0": "Rear Derailleur Cage",
                                    "1": "2008-04-30 00:00:00.000",
                                    "2": "4"
                                },
                                {
                                    "0": "Reflector",
                                    "1": "2008-04-30 00:00:00.000",
                                    "2": "4"
                                },
                                {
                                    "0": "Road End Caps",
                                    "1": "2008-04-30 00:00:00.000",
                                    "2": "4"
                                },
                                {
                                    "0": "Seat Lug",
                                    "1": "2008-04-30 00:00:00.000",
                                    "2": "4"
                                },
                                {
                                    "0": "Seat Post",
                                    "1": "2008-04-30 00:00:00.000",
                                    "2": "4"
                                },
                                {
                                    "0": "Seat Stays",
                                    "1": "2008-04-30 00:00:00.000",
                                    "2": "4"
                                },
                                {
                                    "0": "Seat Tube",
                                    "1": "2008-04-30 00:00:00.000",
                                    "2": "4"
                                },
                                {
                                    "0": "Spokes",
                                    "1": "2008-04-30 00:00:00.000",
                                    "2": "4"
                                },
                                {
                                    "0": "Steerer",
                                    "1": "2008-04-30 00:00:00.000",
                                    "2": "4"
                                },
                                {
                                    "0": "Stem",
                                    "1": "2008-04-30 00:00:00.000",
                                    "2": "4"
                                },
                                {
                                    "0": "Tension Pulley",
                                    "1": "2008-04-30 00:00:00.000",
                                    "2": "4"
                                },
                                {
                                    "0": "Thin-Jam Hex Nut 1",
                                    "1": "2008-04-30 00:00:00.000",
                                    "2": "4"
                                },
                                {
                                    "0": "Thin-Jam Hex Nut 10",
                                    "1": "2008-04-30 00:00:00.000",
                                    "2": "4"
                                },
                                {
                                    "0": "Thin-Jam Hex Nut 11",
                                    "1": "2008-04-30 00:00:00.000",
                                    "2": "4"
                                },
                                {
                                    "0": "Thin-Jam Hex Nut 12",
                                    "1": "2008-04-30 00:00:00.000",
                                    "2": "4"
                                },
                                {
                                    "0": "Thin-Jam Hex Nut 13",
                                    "1": "2008-04-30 00:00:00.000",
                                    "2": "4"
                                },
                                {
                                    "0": "Thin-Jam Hex Nut 14",
                                    "1": "2008-04-30 00:00:00.000",
                                    "2": "4"
                                },
                                {
                                    "0": "Thin-Jam Hex Nut 15",
                                    "1": "2008-04-30 00:00:00.000",
                                    "2": "4"
                                },
                                {
                                    "0": "Thin-Jam Hex Nut 16",
                                    "1": "2008-04-30 00:00:00.000",
                                    "2": "4"
                                },
                                {
                                    "0": "Thin-Jam Hex Nut 2",
                                    "1": "2008-04-30 00:00:00.000",
                                    "2": "4"
                                },
                                {
                                    "0": "Thin-Jam Hex Nut 3",
                                    "1": "2008-04-30 00:00:00.000",
                                    "2": "4"
                                },
                                {
                                    "0": "Thin-Jam Hex Nut 4",
                                    "1": "2008-04-30 00:00:00.000",
                                    "2": "4"
                                },
                                {
                                    "0": "Thin-Jam Hex Nut 5",
                                    "1": "2008-04-30 00:00:00.000",
                                    "2": "4"
                                },
                                {
                                    "0": "Thin-Jam Hex Nut 6",
                                    "1": "2008-04-30 00:00:00.000",
                                    "2": "4"
                                },
                                {
                                    "0": "Thin-Jam Hex Nut 7",
                                    "1": "2008-04-30 00:00:00.000",
                                    "2": "4"
                                },
                                {
                                    "0": "Thin-Jam Hex Nut 8",
                                    "1": "2008-04-30 00:00:00.000",
                                    "2": "4"
                                },
                                {
                                    "0": "Thin-Jam Hex Nut 9",
                                    "1": "2008-04-30 00:00:00.000",
                                    "2": "4"
                                },
                                {
                                    "0": "Thin-Jam Lock Nut 1",
                                    "1": "2008-04-30 00:00:00.000",
                                    "2": "4"
                                },
                                {
                                    "0": "Thin-Jam Lock Nut 10",
                                    "1": "2008-04-30 00:00:00.000",
                                    "2": "4"
                                },
                                {
                                    "0": "Thin-Jam Lock Nut 11",
                                    "1": "2008-04-30 00:00:00.000",
                                    "2": "4"
                                },
                                {
                                    "0": "Thin-Jam Lock Nut 12",
                                    "1": "2008-04-30 00:00:00.000",
                                    "2": "4"
                                },
                                {
                                    "0": "Thin-Jam Lock Nut 13",
                                    "1": "2008-04-30 00:00:00.000",
                                    "2": "4"
                                },
                                {
                                    "0": "Thin-Jam Lock Nut 14",
                                    "1": "2008-04-30 00:00:00.000",
                                    "2": "4"
                                },
                                {
                                    "0": "Thin-Jam Lock Nut 15",
                                    "1": "2008-04-30 00:00:00.000",
                                    "2": "4"
                                },
                                {
                                    "0": "Thin-Jam Lock Nut 16",
                                    "1": "2008-04-30 00:00:00.000",
                                    "2": "4"
                                },
                                {
                                    "0": "Thin-Jam Lock Nut 2",
                                    "1": "2008-04-30 00:00:00.000",
                                    "2": "4"
                                },
                                {
                                    "0": "Thin-Jam Lock Nut 3",
                                    "1": "2008-04-30 00:00:00.000",
                                    "2": "4"
                                },
                                {
                                    "0": "Thin-Jam Lock Nut 4",
                                    "1": "2008-04-30 00:00:00.000",
                                    "2": "4"
                                },
                                {
                                    "0": "Thin-Jam Lock Nut 5",
                                    "1": "2008-04-30 00:00:00.000",
                                    "2": "4"
                                },
                                {
                                    "0": "Thin-Jam Lock Nut 6",
                                    "1": "2008-04-30 00:00:00.000",
                                    "2": "4"
                                },
                                {
                                    "0": "Thin-Jam Lock Nut 7",
                                    "1": "2008-04-30 00:00:00.000",
                                    "2": "4"
                                },
                                {
                                    "0": "Thin-Jam Lock Nut 8",
                                    "1": "2008-04-30 00:00:00.000",
                                    "2": "4"
                                },
                                {
                                    "0": "Thin-Jam Lock Nut 9",
                                    "1": "2008-04-30 00:00:00.000",
                                    "2": "4"
                                },
                                {
                                    "0": "Top Tube",
                                    "1": "2008-04-30 00:00:00.000",
                                    "2": "4"
                                },
                                {
                                    "0": "Touring End Caps",
                                    "1": "2008-04-30 00:00:00.000",
                                    "2": "4"
                                },
                                {
                                    "0": "Touring Rim",
                                    "1": "2008-04-30 00:00:00.000",
                                    "2": "4"
                                },
                                {
                                    "0": "Cable Lock",
                                    "1": "2012-05-30 00:00:00.000",
                                    "2": "4"
                                },
                                {
                                    "0": "Full-Finger Gloves, L",
                                    "1": "2012-05-30 00:00:00.000",
                                    "2": "4"
                                },
                                {
                                    "0": "Full-Finger Gloves, M",
                                    "1": "2012-05-30 00:00:00.000",
                                    "2": "4"
                                },
                                {
                                    "0": "Full-Finger Gloves, S",
                                    "1": "2012-05-30 00:00:00.000",
                                    "2": "4"
                                },
                                {
                                    "0": "Half-Finger Gloves, L",
                                    "1": "2012-05-30 00:00:00.000",
                                    "2": "4"
                                },
                                {
                                    "0": "Half-Finger Gloves, M",
                                    "1": "2012-05-30 00:00:00.000",
                                    "2": "4"
                                },
                                {
                                    "0": "Half-Finger Gloves, S",
                                    "1": "2012-05-30 00:00:00.000",
                                    "2": "4"
                                },
                                {
                                    "0": "Headlights - Dual-Beam",
                                    "1": "2012-05-30 00:00:00.000",
                                    "2": "4"
                                },
                                {
                                    "0": "Headlights - Weatherproof",
                                    "1": "2012-05-30 00:00:00.000",
                                    "2": "4"
                                },
                                {
                                    "0": "HL Fork",
                                    "1": "2012-05-30 00:00:00.000",
                                    "2": "4"
                                },
                                {
                                    "0": "HL Headset",
                                    "1": "2012-05-30 00:00:00.000",
                                    "2": "4"
                                },
                                {
                                    "0": "HL Mountain Front Wheel",
                                    "1": "2012-05-30 00:00:00.000",
                                    "2": "4"
                                },
                                {
                                    "0": "HL Mountain Handlebars",
                                    "1": "2012-05-30 00:00:00.000",
                                    "2": "4"
                                },
                                {
                                    "0": "HL Mountain Rear Wheel",
                                    "1": "2012-05-30 00:00:00.000",
                                    "2": "4"
                                },
                                {
                                    "0": "HL Road Frame - Black, 44",
                                    "1": "2012-05-30 00:00:00.000",
                                    "2": "4"
                                },
                                {
                                    "0": "HL Road Frame - Black, 48",
                                    "1": "2012-05-30 00:00:00.000",
                                    "2": "4"
                                },
                                {
                                    "0": "HL Road Frame - Black, 52",
                                    "1": "2012-05-30 00:00:00.000",
                                    "2": "4"
                                },
                                {
                                    "0": "HL Road Frame - Black, 62",
                                    "1": "2012-05-30 00:00:00.000",
                                    "2": "4"
                                },
                                {
                                    "0": "HL Road Front Wheel",
                                    "1": "2012-05-30 00:00:00.000",
                                    "2": "4"
                                },
                                {
                                    "0": "HL Road Handlebars",
                                    "1": "2012-05-30 00:00:00.000",
                                    "2": "4"
                                },
                                {
                                    "0": "HL Road Rear Wheel",
                                    "1": "2012-05-30 00:00:00.000",
                                    "2": "4"
                                },
                                {
                                    "0": "LL Fork",
                                    "1": "2012-05-30 00:00:00.000",
                                    "2": "4"
                                },
                                {
                                    "0": "LL Headset",
                                    "1": "2012-05-30 00:00:00.000",
                                    "2": "4"
                                },
                                {
                                    "0": "LL Mountain Front Wheel",
                                    "1": "2012-05-30 00:00:00.000",
                                    "2": "4"
                                },
                                {
                                    "0": "LL Mountain Handlebars",
                                    "1": "2012-05-30 00:00:00.000",
                                    "2": "4"
                                },
                                {
                                    "0": "LL Mountain Rear Wheel",
                                    "1": "2012-05-30 00:00:00.000",
                                    "2": "4"
                                },
                                {
                                    "0": "LL Road Front Wheel",
                                    "1": "2012-05-30 00:00:00.000",
                                    "2": "4"
                                },
                                {
                                    "0": "LL Road Handlebars",
                                    "1": "2012-05-30 00:00:00.000",
                                    "2": "4"
                                },
                                {
                                    "0": "LL Road Rear Wheel",
                                    "1": "2012-05-30 00:00:00.000",
                                    "2": "4"
                                },
                                {
                                    "0": "Men's Bib-Shorts, L",
                                    "1": "2012-05-30 00:00:00.000",
                                    "2": "4"
                                },
                                {
                                    "0": "Men's Bib-Shorts, M",
                                    "1": "2012-05-30 00:00:00.000",
                                    "2": "4"
                                },
                                {
                                    "0": "Men's Bib-Shorts, S",
                                    "1": "2012-05-30 00:00:00.000",
                                    "2": "4"
                                },
                                {
                                    "0": "Men's Sports Shorts, L",
                                    "1": "2012-05-30 00:00:00.000",
                                    "2": "4"
                                },
                                {
                                    "0": "Men's Sports Shorts, M",
                                    "1": "2012-05-30 00:00:00.000",
                                    "2": "4"
                                },
                                {
                                    "0": "Men's Sports Shorts, S",
                                    "1": "2012-05-30 00:00:00.000",
                                    "2": "4"
                                },
                                {
                                    "0": "Men's Sports Shorts, XL",
                                    "1": "2012-05-30 00:00:00.000",
                                    "2": "4"
                                },
                                {
                                    "0": "Minipump",
                                    "1": "2012-05-30 00:00:00.000",
                                    "2": "4"
                                },
                                {
                                    "0": "ML Fork",
                                    "1": "2012-05-30 00:00:00.000",
                                    "2": "4"
                                },
                                {
                                    "0": "ML Headset",
                                    "1": "2012-05-30 00:00:00.000",
                                    "2": "4"
                                },
                                {
                                    "0": "ML Mountain Frame - Black, 38",
                                    "1": "2012-05-30 00:00:00.000",
                                    "2": "4"
                                },
                                {
                                    "0": "ML Mountain Frame - Black, 40",
                                    "1": "2012-05-30 00:00:00.000",
                                    "2": "4"
                                },
                                {
                                    "0": "ML Mountain Frame - Black, 44",
                                    "1": "2012-05-30 00:00:00.000",
                                    "2": "4"
                                },
                                {
                                    "0": "ML Mountain Frame - Black, 48",
                                    "1": "2012-05-30 00:00:00.000",
                                    "2": "4"
                                },
                                {
                                    "0": "ML Mountain Front Wheel",
                                    "1": "2012-05-30 00:00:00.000",
                                    "2": "4"
                                },
                                {
                                    "0": "ML Mountain Handlebars",
                                    "1": "2012-05-30 00:00:00.000",
                                    "2": "4"
                                },
                                {
                                    "0": "ML Mountain Rear Wheel",
                                    "1": "2012-05-30 00:00:00.000",
                                    "2": "4"
                                },
                                {
                                    "0": "ML Road Frame-W - Yellow, 38",
                                    "1": "2012-05-30 00:00:00.000",
                                    "2": "4"
                                },
                                {
                                    "0": "ML Road Frame-W - Yellow, 40",
                                    "1": "2012-05-30 00:00:00.000",
                                    "2": "4"
                                },
                                {
                                    "0": "ML Road Frame-W - Yellow, 42",
                                    "1": "2012-05-30 00:00:00.000",
                                    "2": "4"
                                },
                                {
                                    "0": "ML Road Frame-W - Yellow, 44",
                                    "1": "2012-05-30 00:00:00.000",
                                    "2": "4"
                                },
                                {
                                    "0": "ML Road Frame-W - Yellow, 48",
                                    "1": "2012-05-30 00:00:00.000",
                                    "2": "4"
                                },
                                {
                                    "0": "ML Road Front Wheel",
                                    "1": "2012-05-30 00:00:00.000",
                                    "2": "4"
                                },
                                {
                                    "0": "ML Road Handlebars",
                                    "1": "2012-05-30 00:00:00.000",
                                    "2": "4"
                                },
                                {
                                    "0": "ML Road Rear Wheel",
                                    "1": "2012-05-30 00:00:00.000",
                                    "2": "4"
                                },
                                {
                                    "0": "Mountain Pump",
                                    "1": "2012-05-30 00:00:00.000",
                                    "2": "4"
                                },
                                {
                                    "0": "Mountain-200 Black, 38",
                                    "1": "2012-05-30 00:00:00.000",
                                    "2": "4"
                                },
                                {
                                    "0": "Mountain-200 Black, 42",
                                    "1": "2012-05-30 00:00:00.000",
                                    "2": "4"
                                },
                                {
                                    "0": "Mountain-200 Black, 46",
                                    "1": "2012-05-30 00:00:00.000",
                                    "2": "4"
                                },
                                {
                                    "0": "Mountain-200 Silver, 38",
                                    "1": "2012-05-30 00:00:00.000",
                                    "2": "4"
                                },
                                {
                                    "0": "Mountain-200 Silver, 42",
                                    "1": "2012-05-30 00:00:00.000",
                                    "2": "4"
                                },
                                {
                                    "0": "Mountain-200 Silver, 46",
                                    "1": "2012-05-30 00:00:00.000",
                                    "2": "4"
                                },
                                {
                                    "0": "Mountain-300 Black, 38",
                                    "1": "2012-05-30 00:00:00.000",
                                    "2": "4"
                                },
                                {
                                    "0": "Mountain-300 Black, 40",
                                    "1": "2012-05-30 00:00:00.000",
                                    "2": "4"
                                },
                                {
                                    "0": "Mountain-300 Black, 44",
                                    "1": "2012-05-30 00:00:00.000",
                                    "2": "4"
                                },
                                {
                                    "0": "Mountain-300 Black, 48",
                                    "1": "2012-05-30 00:00:00.000",
                                    "2": "4"
                                },
                                {
                                    "0": "Road-250 Black, 44",
                                    "1": "2012-05-30 00:00:00.000",
                                    "2": "4"
                                },
                                {
                                    "0": "Road-250 Black, 48",
                                    "1": "2012-05-30 00:00:00.000",
                                    "2": "4"
                                },
                                {
                                    "0": "Road-250 Black, 52",
                                    "1": "2012-05-30 00:00:00.000",
                                    "2": "4"
                                },
                                {
                                    "0": "Road-250 Black, 58",
                                    "1": "2012-05-30 00:00:00.000",
                                    "2": "4"
                                },
                                {
                                    "0": "Road-250 Red, 44",
                                    "1": "2012-05-30 00:00:00.000",
                                    "2": "4"
                                },
                                {
                                    "0": "Road-250 Red, 48",
                                    "1": "2012-05-30 00:00:00.000",
                                    "2": "4"
                                },
                                {
                                    "0": "Road-250 Red, 52",
                                    "1": "2012-05-30 00:00:00.000",
                                    "2": "4"
                                },
                                {
                                    "0": "Road-250 Red, 58",
                                    "1": "2012-05-30 00:00:00.000",
                                    "2": "4"
                                },
                                {
                                    "0": "Road-550-W Yellow, 38",
                                    "1": "2012-05-30 00:00:00.000",
                                    "2": "4"
                                },
                                {
                                    "0": "Road-550-W Yellow, 40",
                                    "1": "2012-05-30 00:00:00.000",
                                    "2": "4"
                                },
                                {
                                    "0": "Road-550-W Yellow, 42",
                                    "1": "2012-05-30 00:00:00.000",
                                    "2": "4"
                                },
                                {
                                    "0": "Road-550-W Yellow, 44",
                                    "1": "2012-05-30 00:00:00.000",
                                    "2": "4"
                                },
                                {
                                    "0": "Road-550-W Yellow, 48",
                                    "1": "2012-05-30 00:00:00.000",
                                    "2": "4"
                                },
                                {
                                    "0": "Taillights - Battery-Powered",
                                    "1": "2012-05-30 00:00:00.000",
                                    "2": "4"
                                },
                                {
                                    "0": "Touring Front Wheel",
                                    "1": "2012-05-30 00:00:00.000",
                                    "2": "4"
                                },
                                {
                                    "0": "Touring Rear Wheel",
                                    "1": "2012-05-30 00:00:00.000",
                                    "2": "4"
                                },
                                {
                                    "0": "Touring-Panniers, Large",
                                    "1": "2012-05-30 00:00:00.000",
                                    "2": "4"
                                },
                                {
                                    "0": "Women's Tights, L",
                                    "1": "2012-05-30 00:00:00.000",
                                    "2": "4"
                                },
                                {
                                    "0": "Women's Tights, M",
                                    "1": "2012-05-30 00:00:00.000",
                                    "2": "4"
                                },
                                {
                                    "0": "Women's Tights, S",
                                    "1": "2012-05-30 00:00:00.000",
                                    "2": "4"
                                },
                                {
                                    "0": "All-Purpose Bike Stand",
                                    "1": "2013-05-30 00:00:00.000",
                                    "2": "5"
                                },
                                {
                                    "0": "Bike Wash - Dissolver",
                                    "1": "2013-05-30 00:00:00.000",
                                    "2": "5"
                                },
                                {
                                    "0": "Chain",
                                    "1": "2013-05-30 00:00:00.000",
                                    "2": "5"
                                },
                                {
                                    "0": "Classic Vest, L",
                                    "1": "2013-05-30 00:00:00.000",
                                    "2": "5"
                                },
                                {
                                    "0": "Classic Vest, M",
                                    "1": "2013-05-30 00:00:00.000",
                                    "2": "5"
                                },
                                {
                                    "0": "Classic Vest, S",
                                    "1": "2013-05-30 00:00:00.000",
                                    "2": "5"
                                },
                                {
                                    "0": "Fender Set - Mountain",
                                    "1": "2013-05-30 00:00:00.000",
                                    "2": "5"
                                },
                                {
                                    "0": "Front Brakes",
                                    "1": "2013-05-30 00:00:00.000",
                                    "2": "5"
                                },
                                {
                                    "0": "Front Derailleur",
                                    "1": "2013-05-30 00:00:00.000",
                                    "2": "5"
                                },
                                {
                                    "0": "Hitch Rack - 4-Bike",
                                    "1": "2013-05-30 00:00:00.000",
                                    "2": "5"
                                },
                                {
                                    "0": "HL Bottom Bracket",
                                    "1": "2013-05-30 00:00:00.000",
                                    "2": "5"
                                },
                                {
                                    "0": "HL Crankset",
                                    "1": "2013-05-30 00:00:00.000",
                                    "2": "5"
                                },
                                {
                                    "0": "HL Mountain Pedal",
                                    "1": "2013-05-30 00:00:00.000",
                                    "2": "5"
                                },
                                {
                                    "0": "HL Mountain Seat/Saddle",
                                    "1": "2013-05-30 00:00:00.000",
                                    "2": "5"
                                },
                                {
                                    "0": "HL Mountain Tire",
                                    "1": "2013-05-30 00:00:00.000",
                                    "2": "5"
                                },
                                {
                                    "0": "HL Road Pedal",
                                    "1": "2013-05-30 00:00:00.000",
                                    "2": "5"
                                },
                                {
                                    "0": "HL Road Seat/Saddle",
                                    "1": "2013-05-30 00:00:00.000",
                                    "2": "5"
                                },
                                {
                                    "0": "HL Road Tire",
                                    "1": "2013-05-30 00:00:00.000",
                                    "2": "5"
                                },
                                {
                                    "0": "HL Touring Frame - Blue, 46",
                                    "1": "2013-05-30 00:00:00.000",
                                    "2": "5"
                                },
                                {
                                    "0": "HL Touring Frame - Blue, 50",
                                    "1": "2013-05-30 00:00:00.000",
                                    "2": "5"
                                },
                                {
                                    "0": "HL Touring Frame - Blue, 54",
                                    "1": "2013-05-30 00:00:00.000",
                                    "2": "5"
                                },
                                {
                                    "0": "HL Touring Frame - Blue, 60",
                                    "1": "2013-05-30 00:00:00.000",
                                    "2": "5"
                                },
                                {
                                    "0": "HL Touring Frame - Yellow, 46",
                                    "1": "2013-05-30 00:00:00.000",
                                    "2": "5"
                                },
                                {
                                    "0": "HL Touring Frame - Yellow, 50",
                                    "1": "2013-05-30 00:00:00.000",
                                    "2": "5"
                                },
                                {
                                    "0": "HL Touring Frame - Yellow, 54",
                                    "1": "2013-05-30 00:00:00.000",
                                    "2": "5"
                                },
                                {
                                    "0": "HL Touring Frame - Yellow, 60",
                                    "1": "2013-05-30 00:00:00.000",
                                    "2": "5"
                                },
                                {
                                    "0": "HL Touring Handlebars",
                                    "1": "2013-05-30 00:00:00.000",
                                    "2": "5"
                                },
                                {
                                    "0": "HL Touring Seat/Saddle",
                                    "1": "2013-05-30 00:00:00.000",
                                    "2": "5"
                                },
                                {
                                    "0": "Hydration Pack - 70 oz.",
                                    "1": "2013-05-30 00:00:00.000",
                                    "2": "5"
                                },
                                {
                                    "0": "LL Bottom Bracket",
                                    "1": "2013-05-30 00:00:00.000",
                                    "2": "5"
                                },
                                {
                                    "0": "LL Crankset",
                                    "1": "2013-05-30 00:00:00.000",
                                    "2": "5"
                                },
                                {
                                    "0": "LL Mountain Frame - Black, 40",
                                    "1": "2013-05-30 00:00:00.000",
                                    "2": "5"
                                },
                                {
                                    "0": "LL Mountain Frame - Black, 42",
                                    "1": "2013-05-30 00:00:00.000",
                                    "2": "5"
                                },
                                {
                                    "0": "LL Mountain Frame - Black, 44",
                                    "1": "2013-05-30 00:00:00.000",
                                    "2": "5"
                                },
                                {
                                    "0": "LL Mountain Frame - Black, 48",
                                    "1": "2013-05-30 00:00:00.000",
                                    "2": "5"
                                },
                                {
                                    "0": "LL Mountain Frame - Black, 52",
                                    "1": "2013-05-30 00:00:00.000",
                                    "2": "5"
                                },
                                {
                                    "0": "LL Mountain Frame - Silver, 40",
                                    "1": "2013-05-30 00:00:00.000",
                                    "2": "5"
                                },
                                {
                                    "0": "LL Mountain Frame - Silver, 42",
                                    "1": "2013-05-30 00:00:00.000",
                                    "2": "5"
                                },
                                {
                                    "0": "LL Mountain Frame - Silver, 44",
                                    "1": "2013-05-30 00:00:00.000",
                                    "2": "5"
                                },
                                {
                                    "0": "LL Mountain Frame - Silver, 48",
                                    "1": "2013-05-30 00:00:00.000",
                                    "2": "5"
                                },
                                {
                                    "0": "LL Mountain Frame - Silver, 52",
                                    "1": "2013-05-30 00:00:00.000",
                                    "2": "5"
                                },
                                {
                                    "0": "LL Mountain Pedal",
                                    "1": "2013-05-30 00:00:00.000",
                                    "2": "5"
                                },
                                {
                                    "0": "LL Mountain Seat/Saddle",
                                    "1": "2013-05-30 00:00:00.000",
                                    "2": "5"
                                },
                                {
                                    "0": "LL Mountain Tire",
                                    "1": "2013-05-30 00:00:00.000",
                                    "2": "5"
                                },
                                {
                                    "0": "LL Road Pedal",
                                    "1": "2013-05-30 00:00:00.000",
                                    "2": "5"
                                },
                                {
                                    "0": "LL Road Seat/Saddle",
                                    "1": "2013-05-30 00:00:00.000",
                                    "2": "5"
                                },
                                {
                                    "0": "LL Road Tire",
                                    "1": "2013-05-30 00:00:00.000",
                                    "2": "5"
                                },
                                {
                                    "0": "LL Touring Frame - Blue, 44",
                                    "1": "2013-05-30 00:00:00.000",
                                    "2": "5"
                                },
                                {
                                    "0": "LL Touring Frame - Blue, 50",
                                    "1": "2013-05-30 00:00:00.000",
                                    "2": "5"
                                },
                                {
                                    "0": "LL Touring Frame - Blue, 54",
                                    "1": "2013-05-30 00:00:00.000",
                                    "2": "5"
                                },
                                {
                                    "0": "LL Touring Frame - Blue, 58",
                                    "1": "2013-05-30 00:00:00.000",
                                    "2": "5"
                                },
                                {
                                    "0": "LL Touring Frame - Blue, 62",
                                    "1": "2013-05-30 00:00:00.000",
                                    "2": "5"
                                },
                                {
                                    "0": "LL Touring Frame - Yellow, 44",
                                    "1": "2013-05-30 00:00:00.000",
                                    "2": "5"
                                },
                                {
                                    "0": "LL Touring Frame - Yellow, 50",
                                    "1": "2013-05-30 00:00:00.000",
                                    "2": "5"
                                },
                                {
                                    "0": "LL Touring Frame - Yellow, 54",
                                    "1": "2013-05-30 00:00:00.000",
                                    "2": "5"
                                },
                                {
                                    "0": "LL Touring Frame - Yellow, 58",
                                    "1": "2013-05-30 00:00:00.000",
                                    "2": "5"
                                },
                                {
                                    "0": "LL Touring Frame - Yellow, 62",
                                    "1": "2013-05-30 00:00:00.000",
                                    "2": "5"
                                },
                                {
                                    "0": "LL Touring Handlebars",
                                    "1": "2013-05-30 00:00:00.000",
                                    "2": "5"
                                },
                                {
                                    "0": "LL Touring Seat/Saddle",
                                    "1": "2013-05-30 00:00:00.000",
                                    "2": "5"
                                },
                                {
                                    "0": "ML Bottom Bracket",
                                    "1": "2013-05-30 00:00:00.000",
                                    "2": "5"
                                },
                                {
                                    "0": "ML Crankset",
                                    "1": "2013-05-30 00:00:00.000",
                                    "2": "5"
                                },
                                {
                                    "0": "ML Mountain Frame-W - Silver, 38",
                                    "1": "2013-05-30 00:00:00.000",
                                    "2": "5"
                                },
                                {
                                    "0": "ML Mountain Frame-W - Silver, 40",
                                    "1": "2013-05-30 00:00:00.000",
                                    "2": "5"
                                },
                                {
                                    "0": "ML Mountain Frame-W - Silver, 42",
                                    "1": "2013-05-30 00:00:00.000",
                                    "2": "5"
                                },
                                {
                                    "0": "ML Mountain Frame-W - Silver, 46",
                                    "1": "2013-05-30 00:00:00.000",
                                    "2": "5"
                                },
                                {
                                    "0": "ML Mountain Pedal",
                                    "1": "2013-05-30 00:00:00.000",
                                    "2": "5"
                                },
                                {
                                    "0": "ML Mountain Seat/Saddle",
                                    "1": "2013-05-30 00:00:00.000",
                                    "2": "5"
                                },
                                {
                                    "0": "ML Mountain Tire",
                                    "1": "2013-05-30 00:00:00.000",
                                    "2": "5"
                                },
                                {
                                    "0": "ML Road Pedal",
                                    "1": "2013-05-30 00:00:00.000",
                                    "2": "5"
                                },
                                {
                                    "0": "ML Road Seat/Saddle",
                                    "1": "2013-05-30 00:00:00.000",
                                    "2": "5"
                                },
                                {
                                    "0": "ML Road Tire",
                                    "1": "2013-05-30 00:00:00.000",
                                    "2": "5"
                                },
                                {
                                    "0": "ML Touring Seat/Saddle",
                                    "1": "2013-05-30 00:00:00.000",
                                    "2": "5"
                                },
                                {
                                    "0": "Mountain Bottle Cage",
                                    "1": "2013-05-30 00:00:00.000",
                                    "2": "5"
                                },
                                {
                                    "0": "Mountain Tire Tube",
                                    "1": "2013-05-30 00:00:00.000",
                                    "2": "5"
                                },
                                {
                                    "0": "Mountain-400-W Silver, 38",
                                    "1": "2013-05-30 00:00:00.000",
                                    "2": "5"
                                },
                                {
                                    "0": "Mountain-400-W Silver, 40",
                                    "1": "2013-05-30 00:00:00.000",
                                    "2": "5"
                                },
                                {
                                    "0": "Mountain-400-W Silver, 42",
                                    "1": "2013-05-30 00:00:00.000",
                                    "2": "5"
                                },
                                {
                                    "0": "Mountain-400-W Silver, 46",
                                    "1": "2013-05-30 00:00:00.000",
                                    "2": "5"
                                },
                                {
                                    "0": "Mountain-500 Black, 40",
                                    "1": "2013-05-30 00:00:00.000",
                                    "2": "5"
                                },
                                {
                                    "0": "Mountain-500 Black, 42",
                                    "1": "2013-05-30 00:00:00.000",
                                    "2": "5"
                                },
                                {
                                    "0": "Mountain-500 Black, 44",
                                    "1": "2013-05-30 00:00:00.000",
                                    "2": "5"
                                },
                                {
                                    "0": "Mountain-500 Black, 48",
                                    "1": "2013-05-30 00:00:00.000",
                                    "2": "5"
                                },
                                {
                                    "0": "Mountain-500 Black, 52",
                                    "1": "2013-05-30 00:00:00.000",
                                    "2": "5"
                                },
                                {
                                    "0": "Mountain-500 Silver, 40",
                                    "1": "2013-05-30 00:00:00.000",
                                    "2": "5"
                                },
                                {
                                    "0": "Mountain-500 Silver, 42",
                                    "1": "2013-05-30 00:00:00.000",
                                    "2": "5"
                                },
                                {
                                    "0": "Mountain-500 Silver, 44",
                                    "1": "2013-05-30 00:00:00.000",
                                    "2": "5"
                                },
                                {
                                    "0": "Mountain-500 Silver, 48",
                                    "1": "2013-05-30 00:00:00.000",
                                    "2": "5"
                                },
                                {
                                    "0": "Mountain-500 Silver, 52",
                                    "1": "2013-05-30 00:00:00.000",
                                    "2": "5"
                                },
                                {
                                    "0": "Patch Kit/8 Patches",
                                    "1": "2013-05-30 00:00:00.000",
                                    "2": "5"
                                },
                                {
                                    "0": "Racing Socks, L",
                                    "1": "2013-05-30 00:00:00.000",
                                    "2": "5"
                                },
                                {
                                    "0": "Racing Socks, M",
                                    "1": "2013-05-30 00:00:00.000",
                                    "2": "5"
                                },
                                {
                                    "0": "Rear Brakes",
                                    "1": "2013-05-30 00:00:00.000",
                                    "2": "5"
                                },
                                {
                                    "0": "Rear Derailleur",
                                    "1": "2013-05-30 00:00:00.000",
                                    "2": "5"
                                },
                                {
                                    "0": "Road Bottle Cage",
                                    "1": "2013-05-30 00:00:00.000",
                                    "2": "5"
                                },
                                {
                                    "0": "Road Tire Tube",
                                    "1": "2013-05-30 00:00:00.000",
                                    "2": "5"
                                },
                                {
                                    "0": "Road-350-W Yellow, 40",
                                    "1": "2013-05-30 00:00:00.000",
                                    "2": "5"
                                },
                                {
                                    "0": "Road-350-W Yellow, 42",
                                    "1": "2013-05-30 00:00:00.000",
                                    "2": "5"
                                },
                                {
                                    "0": "Road-350-W Yellow, 44",
                                    "1": "2013-05-30 00:00:00.000",
                                    "2": "5"
                                },
                                {
                                    "0": "Road-350-W Yellow, 48",
                                    "1": "2013-05-30 00:00:00.000",
                                    "2": "5"
                                },
                                {
                                    "0": "Road-750 Black, 44",
                                    "1": "2013-05-30 00:00:00.000",
                                    "2": "5"
                                },
                                {
                                    "0": "Road-750 Black, 48",
                                    "1": "2013-05-30 00:00:00.000",
                                    "2": "5"
                                },
                                {
                                    "0": "Road-750 Black, 52",
                                    "1": "2013-05-30 00:00:00.000",
                                    "2": "5"
                                },
                                {
                                    "0": "Road-750 Black, 58",
                                    "1": "2013-05-30 00:00:00.000",
                                    "2": "5"
                                },
                                {
                                    "0": "Short-Sleeve Classic Jersey, L",
                                    "1": "2013-05-30 00:00:00.000",
                                    "2": "5"
                                },
                                {
                                    "0": "Short-Sleeve Classic Jersey, M",
                                    "1": "2013-05-30 00:00:00.000",
                                    "2": "5"
                                },
                                {
                                    "0": "Short-Sleeve Classic Jersey, S",
                                    "1": "2013-05-30 00:00:00.000",
                                    "2": "5"
                                },
                                {
                                    "0": "Short-Sleeve Classic Jersey, XL",
                                    "1": "2013-05-30 00:00:00.000",
                                    "2": "5"
                                },
                                {
                                    "0": "Touring Pedal",
                                    "1": "2013-05-30 00:00:00.000",
                                    "2": "5"
                                },
                                {
                                    "0": "Touring Tire",
                                    "1": "2013-05-30 00:00:00.000",
                                    "2": "5"
                                },
                                {
                                    "0": "Touring Tire Tube",
                                    "1": "2013-05-30 00:00:00.000",
                                    "2": "5"
                                },
                                {
                                    "0": "Touring-1000 Blue, 46",
                                    "1": "2013-05-30 00:00:00.000",
                                    "2": "5"
                                },
                                {
                                    "0": "Touring-1000 Blue, 50",
                                    "1": "2013-05-30 00:00:00.000",
                                    "2": "5"
                                },
                                {
                                    "0": "Touring-1000 Blue, 54",
                                    "1": "2013-05-30 00:00:00.000",
                                    "2": "5"
                                },
                                {
                                    "0": "Touring-1000 Blue, 60",
                                    "1": "2013-05-30 00:00:00.000",
                                    "2": "5"
                                },
                                {
                                    "0": "Touring-1000 Yellow, 46",
                                    "1": "2013-05-30 00:00:00.000",
                                    "2": "5"
                                },
                                {
                                    "0": "Touring-1000 Yellow, 50",
                                    "1": "2013-05-30 00:00:00.000",
                                    "2": "5"
                                },
                                {
                                    "0": "Touring-1000 Yellow, 54",
                                    "1": "2013-05-30 00:00:00.000",
                                    "2": "5"
                                },
                                {
                                    "0": "Touring-1000 Yellow, 60",
                                    "1": "2013-05-30 00:00:00.000",
                                    "2": "5"
                                },
                                {
                                    "0": "Touring-2000 Blue, 46",
                                    "1": "2013-05-30 00:00:00.000",
                                    "2": "5"
                                },
                                {
                                    "0": "Touring-2000 Blue, 50",
                                    "1": "2013-05-30 00:00:00.000",
                                    "2": "5"
                                },
                                {
                                    "0": "Touring-2000 Blue, 54",
                                    "1": "2013-05-30 00:00:00.000",
                                    "2": "5"
                                },
                                {
                                    "0": "Touring-2000 Blue, 60",
                                    "1": "2013-05-30 00:00:00.000",
                                    "2": "5"
                                },
                                {
                                    "0": "Touring-3000 Blue, 44",
                                    "1": "2013-05-30 00:00:00.000",
                                    "2": "5"
                                },
                                {
                                    "0": "Touring-3000 Blue, 50",
                                    "1": "2013-05-30 00:00:00.000",
                                    "2": "5"
                                },
                                {
                                    "0": "Touring-3000 Blue, 54",
                                    "1": "2013-05-30 00:00:00.000",
                                    "2": "5"
                                },
                                {
                                    "0": "Touring-3000 Blue, 58",
                                    "1": "2013-05-30 00:00:00.000",
                                    "2": "5"
                                },
                                {
                                    "0": "Touring-3000 Blue, 62",
                                    "1": "2013-05-30 00:00:00.000",
                                    "2": "5"
                                },
                                {
                                    "0": "Touring-3000 Yellow, 44",
                                    "1": "2013-05-30 00:00:00.000",
                                    "2": "5"
                                },
                                {
                                    "0": "Touring-3000 Yellow, 50",
                                    "1": "2013-05-30 00:00:00.000",
                                    "2": "5"
                                },
                                {
                                    "0": "Touring-3000 Yellow, 54",
                                    "1": "2013-05-30 00:00:00.000",
                                    "2": "5"
                                },
                                {
                                    "0": "Touring-3000 Yellow, 58",
                                    "1": "2013-05-30 00:00:00.000",
                                    "2": "5"
                                },
                                {
                                    "0": "Touring-3000 Yellow, 62",
                                    "1": "2013-05-30 00:00:00.000",
                                    "2": "5"
                                },
                                {
                                    "0": "Water Bottle - 30 oz.",
                                    "1": "2013-05-30 00:00:00.000",
                                    "2": "5"
                                },
                                {
                                    "0": "Women's Mountain Shorts, L",
                                    "1": "2013-05-30 00:00:00.000",
                                    "2": "5"
                                },
                                {
                                    "0": "Women's Mountain Shorts, M",
                                    "1": "2013-05-30 00:00:00.000",
                                    "2": "5"
                                },
                                {
                                    "0": "Women's Mountain Shorts, S",
                                    "1": "2013-05-30 00:00:00.000",
                                    "2": "5"
                                }
                            ]
                        },
                        "text/html": [
                            "<table>",
                            "<tr><th>Product Name</th><th>SellStartDate</th><th>Day of the week</th></tr>",
                            "<tr><td>Adjustable Race</td><td>2008-04-30 00:00:00.000</td><td>4</td></tr>",
                            "<tr><td>BB Ball Bearing</td><td>2008-04-30 00:00:00.000</td><td>4</td></tr>",
                            "<tr><td>Bearing Ball</td><td>2008-04-30 00:00:00.000</td><td>4</td></tr>",
                            "<tr><td>Blade</td><td>2008-04-30 00:00:00.000</td><td>4</td></tr>",
                            "<tr><td>Chain Stays</td><td>2008-04-30 00:00:00.000</td><td>4</td></tr>",
                            "<tr><td>Chainring</td><td>2008-04-30 00:00:00.000</td><td>4</td></tr>",
                            "<tr><td>Chainring Bolts</td><td>2008-04-30 00:00:00.000</td><td>4</td></tr>",
                            "<tr><td>Chainring Nut</td><td>2008-04-30 00:00:00.000</td><td>4</td></tr>",
                            "<tr><td>Cone-Shaped Race</td><td>2008-04-30 00:00:00.000</td><td>4</td></tr>",
                            "<tr><td>Crown Race</td><td>2008-04-30 00:00:00.000</td><td>4</td></tr>",
                            "<tr><td>Cup-Shaped Race</td><td>2008-04-30 00:00:00.000</td><td>4</td></tr>",
                            "<tr><td>Decal 1</td><td>2008-04-30 00:00:00.000</td><td>4</td></tr>",
                            "<tr><td>Decal 2</td><td>2008-04-30 00:00:00.000</td><td>4</td></tr>",
                            "<tr><td>Down Tube</td><td>2008-04-30 00:00:00.000</td><td>4</td></tr>",
                            "<tr><td>External Lock Washer 1</td><td>2008-04-30 00:00:00.000</td><td>4</td></tr>",
                            "<tr><td>External Lock Washer 2</td><td>2008-04-30 00:00:00.000</td><td>4</td></tr>",
                            "<tr><td>External Lock Washer 3</td><td>2008-04-30 00:00:00.000</td><td>4</td></tr>",
                            "<tr><td>External Lock Washer 4</td><td>2008-04-30 00:00:00.000</td><td>4</td></tr>",
                            "<tr><td>External Lock Washer 5</td><td>2008-04-30 00:00:00.000</td><td>4</td></tr>",
                            "<tr><td>External Lock Washer 6</td><td>2008-04-30 00:00:00.000</td><td>4</td></tr>",
                            "<tr><td>External Lock Washer 7</td><td>2008-04-30 00:00:00.000</td><td>4</td></tr>",
                            "<tr><td>External Lock Washer 8</td><td>2008-04-30 00:00:00.000</td><td>4</td></tr>",
                            "<tr><td>External Lock Washer 9</td><td>2008-04-30 00:00:00.000</td><td>4</td></tr>",
                            "<tr><td>Flat Washer 1</td><td>2008-04-30 00:00:00.000</td><td>4</td></tr>",
                            "<tr><td>Flat Washer 2</td><td>2008-04-30 00:00:00.000</td><td>4</td></tr>",
                            "<tr><td>Flat Washer 3</td><td>2008-04-30 00:00:00.000</td><td>4</td></tr>",
                            "<tr><td>Flat Washer 4</td><td>2008-04-30 00:00:00.000</td><td>4</td></tr>",
                            "<tr><td>Flat Washer 5</td><td>2008-04-30 00:00:00.000</td><td>4</td></tr>",
                            "<tr><td>Flat Washer 6</td><td>2008-04-30 00:00:00.000</td><td>4</td></tr>",
                            "<tr><td>Flat Washer 7</td><td>2008-04-30 00:00:00.000</td><td>4</td></tr>",
                            "<tr><td>Flat Washer 8</td><td>2008-04-30 00:00:00.000</td><td>4</td></tr>",
                            "<tr><td>Flat Washer 9</td><td>2008-04-30 00:00:00.000</td><td>4</td></tr>",
                            "<tr><td>Fork Crown</td><td>2008-04-30 00:00:00.000</td><td>4</td></tr>",
                            "<tr><td>Fork End</td><td>2008-04-30 00:00:00.000</td><td>4</td></tr>",
                            "<tr><td>Freewheel</td><td>2008-04-30 00:00:00.000</td><td>4</td></tr>",
                            "<tr><td>Front Derailleur Cage</td><td>2008-04-30 00:00:00.000</td><td>4</td></tr>",
                            "<tr><td>Front Derailleur Linkage</td><td>2008-04-30 00:00:00.000</td><td>4</td></tr>",
                            "<tr><td>Guide Pulley</td><td>2008-04-30 00:00:00.000</td><td>4</td></tr>",
                            "<tr><td>Handlebar Tube</td><td>2008-04-30 00:00:00.000</td><td>4</td></tr>",
                            "<tr><td>Head Tube</td><td>2008-04-30 00:00:00.000</td><td>4</td></tr>",
                            "<tr><td>Headset Ball Bearings</td><td>2008-04-30 00:00:00.000</td><td>4</td></tr>",
                            "<tr><td>Hex Nut 1</td><td>2008-04-30 00:00:00.000</td><td>4</td></tr>",
                            "<tr><td>Hex Nut 10</td><td>2008-04-30 00:00:00.000</td><td>4</td></tr>",
                            "<tr><td>Hex Nut 11</td><td>2008-04-30 00:00:00.000</td><td>4</td></tr>",
                            "<tr><td>Hex Nut 12</td><td>2008-04-30 00:00:00.000</td><td>4</td></tr>",
                            "<tr><td>Hex Nut 13</td><td>2008-04-30 00:00:00.000</td><td>4</td></tr>",
                            "<tr><td>Hex Nut 14</td><td>2008-04-30 00:00:00.000</td><td>4</td></tr>",
                            "<tr><td>Hex Nut 15</td><td>2008-04-30 00:00:00.000</td><td>4</td></tr>",
                            "<tr><td>Hex Nut 16</td><td>2008-04-30 00:00:00.000</td><td>4</td></tr>",
                            "<tr><td>Hex Nut 17</td><td>2008-04-30 00:00:00.000</td><td>4</td></tr>",
                            "<tr><td>Hex Nut 18</td><td>2008-04-30 00:00:00.000</td><td>4</td></tr>",
                            "<tr><td>Hex Nut 19</td><td>2008-04-30 00:00:00.000</td><td>4</td></tr>",
                            "<tr><td>Hex Nut 2</td><td>2008-04-30 00:00:00.000</td><td>4</td></tr>",
                            "<tr><td>Hex Nut 20</td><td>2008-04-30 00:00:00.000</td><td>4</td></tr>",
                            "<tr><td>Hex Nut 21</td><td>2008-04-30 00:00:00.000</td><td>4</td></tr>",
                            "<tr><td>Hex Nut 22</td><td>2008-04-30 00:00:00.000</td><td>4</td></tr>",
                            "<tr><td>Hex Nut 23</td><td>2008-04-30 00:00:00.000</td><td>4</td></tr>",
                            "<tr><td>Hex Nut 3</td><td>2008-04-30 00:00:00.000</td><td>4</td></tr>",
                            "<tr><td>Hex Nut 4</td><td>2008-04-30 00:00:00.000</td><td>4</td></tr>",
                            "<tr><td>Hex Nut 5</td><td>2008-04-30 00:00:00.000</td><td>4</td></tr>",
                            "<tr><td>Hex Nut 6</td><td>2008-04-30 00:00:00.000</td><td>4</td></tr>",
                            "<tr><td>Hex Nut 7</td><td>2008-04-30 00:00:00.000</td><td>4</td></tr>",
                            "<tr><td>Hex Nut 8</td><td>2008-04-30 00:00:00.000</td><td>4</td></tr>",
                            "<tr><td>Hex Nut 9</td><td>2008-04-30 00:00:00.000</td><td>4</td></tr>",
                            "<tr><td>HL Crankarm</td><td>2008-04-30 00:00:00.000</td><td>4</td></tr>",
                            "<tr><td>HL Grip Tape</td><td>2008-04-30 00:00:00.000</td><td>4</td></tr>",
                            "<tr><td>HL Hub</td><td>2008-04-30 00:00:00.000</td><td>4</td></tr>",
                            "<tr><td>HL Mountain Rim</td><td>2008-04-30 00:00:00.000</td><td>4</td></tr>",
                            "<tr><td>HL Mountain Seat Assembly</td><td>2008-04-30 00:00:00.000</td><td>4</td></tr>",
                            "<tr><td>HL Nipple</td><td>2008-04-30 00:00:00.000</td><td>4</td></tr>",
                            "<tr><td>HL Road Frame - Black, 58</td><td>2008-04-30 00:00:00.000</td><td>4</td></tr>",
                            "<tr><td>HL Road Frame - Red, 58</td><td>2008-04-30 00:00:00.000</td><td>4</td></tr>",
                            "<tr><td>HL Road Rim</td><td>2008-04-30 00:00:00.000</td><td>4</td></tr>",
                            "<tr><td>HL Road Seat Assembly</td><td>2008-04-30 00:00:00.000</td><td>4</td></tr>",
                            "<tr><td>HL Shell</td><td>2008-04-30 00:00:00.000</td><td>4</td></tr>",
                            "<tr><td>HL Spindle/Axle</td><td>2008-04-30 00:00:00.000</td><td>4</td></tr>",
                            "<tr><td>HL Touring Seat Assembly</td><td>2008-04-30 00:00:00.000</td><td>4</td></tr>",
                            "<tr><td>Internal Lock Washer 1</td><td>2008-04-30 00:00:00.000</td><td>4</td></tr>",
                            "<tr><td>Internal Lock Washer 10</td><td>2008-04-30 00:00:00.000</td><td>4</td></tr>",
                            "<tr><td>Internal Lock Washer 2</td><td>2008-04-30 00:00:00.000</td><td>4</td></tr>",
                            "<tr><td>Internal Lock Washer 3</td><td>2008-04-30 00:00:00.000</td><td>4</td></tr>",
                            "<tr><td>Internal Lock Washer 4</td><td>2008-04-30 00:00:00.000</td><td>4</td></tr>",
                            "<tr><td>Internal Lock Washer 5</td><td>2008-04-30 00:00:00.000</td><td>4</td></tr>",
                            "<tr><td>Internal Lock Washer 6</td><td>2008-04-30 00:00:00.000</td><td>4</td></tr>",
                            "<tr><td>Internal Lock Washer 7</td><td>2008-04-30 00:00:00.000</td><td>4</td></tr>",
                            "<tr><td>Internal Lock Washer 8</td><td>2008-04-30 00:00:00.000</td><td>4</td></tr>",
                            "<tr><td>Internal Lock Washer 9</td><td>2008-04-30 00:00:00.000</td><td>4</td></tr>",
                            "<tr><td>Keyed Washer</td><td>2008-04-30 00:00:00.000</td><td>4</td></tr>",
                            "<tr><td>LL Crankarm</td><td>2008-04-30 00:00:00.000</td><td>4</td></tr>",
                            "<tr><td>LL Grip Tape</td><td>2008-04-30 00:00:00.000</td><td>4</td></tr>",
                            "<tr><td>LL Hub</td><td>2008-04-30 00:00:00.000</td><td>4</td></tr>",
                            "<tr><td>LL Mountain Rim</td><td>2008-04-30 00:00:00.000</td><td>4</td></tr>",
                            "<tr><td>LL Mountain Seat Assembly</td><td>2008-04-30 00:00:00.000</td><td>4</td></tr>",
                            "<tr><td>LL Nipple</td><td>2008-04-30 00:00:00.000</td><td>4</td></tr>",
                            "<tr><td>LL Road Rim</td><td>2008-04-30 00:00:00.000</td><td>4</td></tr>",
                            "<tr><td>LL Road Seat Assembly</td><td>2008-04-30 00:00:00.000</td><td>4</td></tr>",
                            "<tr><td>LL Shell</td><td>2008-04-30 00:00:00.000</td><td>4</td></tr>",
                            "<tr><td>LL Spindle/Axle</td><td>2008-04-30 00:00:00.000</td><td>4</td></tr>",
                            "<tr><td>LL Touring Seat Assembly</td><td>2008-04-30 00:00:00.000</td><td>4</td></tr>",
                            "<tr><td>Lock Nut 1</td><td>2008-04-30 00:00:00.000</td><td>4</td></tr>",
                            "<tr><td>Lock Nut 10</td><td>2008-04-30 00:00:00.000</td><td>4</td></tr>",
                            "<tr><td>Lock Nut 11</td><td>2008-04-30 00:00:00.000</td><td>4</td></tr>",
                            "<tr><td>Lock Nut 12</td><td>2008-04-30 00:00:00.000</td><td>4</td></tr>",
                            "<tr><td>Lock Nut 13</td><td>2008-04-30 00:00:00.000</td><td>4</td></tr>",
                            "<tr><td>Lock Nut 14</td><td>2008-04-30 00:00:00.000</td><td>4</td></tr>",
                            "<tr><td>Lock Nut 15</td><td>2008-04-30 00:00:00.000</td><td>4</td></tr>",
                            "<tr><td>Lock Nut 16</td><td>2008-04-30 00:00:00.000</td><td>4</td></tr>",
                            "<tr><td>Lock Nut 17</td><td>2008-04-30 00:00:00.000</td><td>4</td></tr>",
                            "<tr><td>Lock Nut 18</td><td>2008-04-30 00:00:00.000</td><td>4</td></tr>",
                            "<tr><td>Lock Nut 19</td><td>2008-04-30 00:00:00.000</td><td>4</td></tr>",
                            "<tr><td>Lock Nut 2</td><td>2008-04-30 00:00:00.000</td><td>4</td></tr>",
                            "<tr><td>Lock Nut 20</td><td>2008-04-30 00:00:00.000</td><td>4</td></tr>",
                            "<tr><td>Lock Nut 21</td><td>2008-04-30 00:00:00.000</td><td>4</td></tr>",
                            "<tr><td>Lock Nut 22</td><td>2008-04-30 00:00:00.000</td><td>4</td></tr>",
                            "<tr><td>Lock Nut 23</td><td>2008-04-30 00:00:00.000</td><td>4</td></tr>",
                            "<tr><td>Lock Nut 3</td><td>2008-04-30 00:00:00.000</td><td>4</td></tr>",
                            "<tr><td>Lock Nut 4</td><td>2008-04-30 00:00:00.000</td><td>4</td></tr>",
                            "<tr><td>Lock Nut 5</td><td>2008-04-30 00:00:00.000</td><td>4</td></tr>",
                            "<tr><td>Lock Nut 6</td><td>2008-04-30 00:00:00.000</td><td>4</td></tr>",
                            "<tr><td>Lock Nut 7</td><td>2008-04-30 00:00:00.000</td><td>4</td></tr>",
                            "<tr><td>Lock Nut 8</td><td>2008-04-30 00:00:00.000</td><td>4</td></tr>",
                            "<tr><td>Lock Nut 9</td><td>2008-04-30 00:00:00.000</td><td>4</td></tr>",
                            "<tr><td>Lock Ring</td><td>2008-04-30 00:00:00.000</td><td>4</td></tr>",
                            "<tr><td>Lock Washer 1</td><td>2008-04-30 00:00:00.000</td><td>4</td></tr>",
                            "<tr><td>Lock Washer 10</td><td>2008-04-30 00:00:00.000</td><td>4</td></tr>",
                            "<tr><td>Lock Washer 11</td><td>2008-04-30 00:00:00.000</td><td>4</td></tr>",
                            "<tr><td>Lock Washer 12</td><td>2008-04-30 00:00:00.000</td><td>4</td></tr>",
                            "<tr><td>Lock Washer 13</td><td>2008-04-30 00:00:00.000</td><td>4</td></tr>",
                            "<tr><td>Lock Washer 2</td><td>2008-04-30 00:00:00.000</td><td>4</td></tr>",
                            "<tr><td>Lock Washer 3</td><td>2008-04-30 00:00:00.000</td><td>4</td></tr>",
                            "<tr><td>Lock Washer 4</td><td>2008-04-30 00:00:00.000</td><td>4</td></tr>",
                            "<tr><td>Lock Washer 5</td><td>2008-04-30 00:00:00.000</td><td>4</td></tr>",
                            "<tr><td>Lock Washer 6</td><td>2008-04-30 00:00:00.000</td><td>4</td></tr>",
                            "<tr><td>Lock Washer 7</td><td>2008-04-30 00:00:00.000</td><td>4</td></tr>",
                            "<tr><td>Lock Washer 8</td><td>2008-04-30 00:00:00.000</td><td>4</td></tr>",
                            "<tr><td>Lock Washer 9</td><td>2008-04-30 00:00:00.000</td><td>4</td></tr>",
                            "<tr><td>Lower Head Race</td><td>2008-04-30 00:00:00.000</td><td>4</td></tr>",
                            "<tr><td>Metal Angle</td><td>2008-04-30 00:00:00.000</td><td>4</td></tr>",
                            "<tr><td>Metal Bar 1</td><td>2008-04-30 00:00:00.000</td><td>4</td></tr>",
                            "<tr><td>Metal Bar 2</td><td>2008-04-30 00:00:00.000</td><td>4</td></tr>",
                            "<tr><td>Metal Plate 1</td><td>2008-04-30 00:00:00.000</td><td>4</td></tr>",
                            "<tr><td>Metal Plate 2</td><td>2008-04-30 00:00:00.000</td><td>4</td></tr>",
                            "<tr><td>Metal Plate 3</td><td>2008-04-30 00:00:00.000</td><td>4</td></tr>",
                            "<tr><td>Metal Sheet 1</td><td>2008-04-30 00:00:00.000</td><td>4</td></tr>",
                            "<tr><td>Metal Sheet 2</td><td>2008-04-30 00:00:00.000</td><td>4</td></tr>",
                            "<tr><td>Metal Sheet 3</td><td>2008-04-30 00:00:00.000</td><td>4</td></tr>",
                            "<tr><td>Metal Sheet 4</td><td>2008-04-30 00:00:00.000</td><td>4</td></tr>",
                            "<tr><td>Metal Sheet 5</td><td>2008-04-30 00:00:00.000</td><td>4</td></tr>",
                            "<tr><td>Metal Sheet 6</td><td>2008-04-30 00:00:00.000</td><td>4</td></tr>",
                            "<tr><td>Metal Sheet 7</td><td>2008-04-30 00:00:00.000</td><td>4</td></tr>",
                            "<tr><td>Metal Tread Plate</td><td>2008-04-30 00:00:00.000</td><td>4</td></tr>",
                            "<tr><td>ML Crankarm</td><td>2008-04-30 00:00:00.000</td><td>4</td></tr>",
                            "<tr><td>ML Grip Tape</td><td>2008-04-30 00:00:00.000</td><td>4</td></tr>",
                            "<tr><td>ML Mountain Rim</td><td>2008-04-30 00:00:00.000</td><td>4</td></tr>",
                            "<tr><td>ML Mountain Seat Assembly</td><td>2008-04-30 00:00:00.000</td><td>4</td></tr>",
                            "<tr><td>ML Road Rim</td><td>2008-04-30 00:00:00.000</td><td>4</td></tr>",
                            "<tr><td>ML Road Seat Assembly</td><td>2008-04-30 00:00:00.000</td><td>4</td></tr>",
                            "<tr><td>ML Touring Seat Assembly</td><td>2008-04-30 00:00:00.000</td><td>4</td></tr>",
                            "<tr><td>Mountain End Caps</td><td>2008-04-30 00:00:00.000</td><td>4</td></tr>",
                            "<tr><td>Paint - Black</td><td>2008-04-30 00:00:00.000</td><td>4</td></tr>",
                            "<tr><td>Paint - Blue</td><td>2008-04-30 00:00:00.000</td><td>4</td></tr>",
                            "<tr><td>Paint - Red</td><td>2008-04-30 00:00:00.000</td><td>4</td></tr>",
                            "<tr><td>Paint - Silver</td><td>2008-04-30 00:00:00.000</td><td>4</td></tr>",
                            "<tr><td>Paint - Yellow</td><td>2008-04-30 00:00:00.000</td><td>4</td></tr>",
                            "<tr><td>Pinch Bolt</td><td>2008-04-30 00:00:00.000</td><td>4</td></tr>",
                            "<tr><td>Rear Derailleur Cage</td><td>2008-04-30 00:00:00.000</td><td>4</td></tr>",
                            "<tr><td>Reflector</td><td>2008-04-30 00:00:00.000</td><td>4</td></tr>",
                            "<tr><td>Road End Caps</td><td>2008-04-30 00:00:00.000</td><td>4</td></tr>",
                            "<tr><td>Seat Lug</td><td>2008-04-30 00:00:00.000</td><td>4</td></tr>",
                            "<tr><td>Seat Post</td><td>2008-04-30 00:00:00.000</td><td>4</td></tr>",
                            "<tr><td>Seat Stays</td><td>2008-04-30 00:00:00.000</td><td>4</td></tr>",
                            "<tr><td>Seat Tube</td><td>2008-04-30 00:00:00.000</td><td>4</td></tr>",
                            "<tr><td>Spokes</td><td>2008-04-30 00:00:00.000</td><td>4</td></tr>",
                            "<tr><td>Steerer</td><td>2008-04-30 00:00:00.000</td><td>4</td></tr>",
                            "<tr><td>Stem</td><td>2008-04-30 00:00:00.000</td><td>4</td></tr>",
                            "<tr><td>Tension Pulley</td><td>2008-04-30 00:00:00.000</td><td>4</td></tr>",
                            "<tr><td>Thin-Jam Hex Nut 1</td><td>2008-04-30 00:00:00.000</td><td>4</td></tr>",
                            "<tr><td>Thin-Jam Hex Nut 10</td><td>2008-04-30 00:00:00.000</td><td>4</td></tr>",
                            "<tr><td>Thin-Jam Hex Nut 11</td><td>2008-04-30 00:00:00.000</td><td>4</td></tr>",
                            "<tr><td>Thin-Jam Hex Nut 12</td><td>2008-04-30 00:00:00.000</td><td>4</td></tr>",
                            "<tr><td>Thin-Jam Hex Nut 13</td><td>2008-04-30 00:00:00.000</td><td>4</td></tr>",
                            "<tr><td>Thin-Jam Hex Nut 14</td><td>2008-04-30 00:00:00.000</td><td>4</td></tr>",
                            "<tr><td>Thin-Jam Hex Nut 15</td><td>2008-04-30 00:00:00.000</td><td>4</td></tr>",
                            "<tr><td>Thin-Jam Hex Nut 16</td><td>2008-04-30 00:00:00.000</td><td>4</td></tr>",
                            "<tr><td>Thin-Jam Hex Nut 2</td><td>2008-04-30 00:00:00.000</td><td>4</td></tr>",
                            "<tr><td>Thin-Jam Hex Nut 3</td><td>2008-04-30 00:00:00.000</td><td>4</td></tr>",
                            "<tr><td>Thin-Jam Hex Nut 4</td><td>2008-04-30 00:00:00.000</td><td>4</td></tr>",
                            "<tr><td>Thin-Jam Hex Nut 5</td><td>2008-04-30 00:00:00.000</td><td>4</td></tr>",
                            "<tr><td>Thin-Jam Hex Nut 6</td><td>2008-04-30 00:00:00.000</td><td>4</td></tr>",
                            "<tr><td>Thin-Jam Hex Nut 7</td><td>2008-04-30 00:00:00.000</td><td>4</td></tr>",
                            "<tr><td>Thin-Jam Hex Nut 8</td><td>2008-04-30 00:00:00.000</td><td>4</td></tr>",
                            "<tr><td>Thin-Jam Hex Nut 9</td><td>2008-04-30 00:00:00.000</td><td>4</td></tr>",
                            "<tr><td>Thin-Jam Lock Nut 1</td><td>2008-04-30 00:00:00.000</td><td>4</td></tr>",
                            "<tr><td>Thin-Jam Lock Nut 10</td><td>2008-04-30 00:00:00.000</td><td>4</td></tr>",
                            "<tr><td>Thin-Jam Lock Nut 11</td><td>2008-04-30 00:00:00.000</td><td>4</td></tr>",
                            "<tr><td>Thin-Jam Lock Nut 12</td><td>2008-04-30 00:00:00.000</td><td>4</td></tr>",
                            "<tr><td>Thin-Jam Lock Nut 13</td><td>2008-04-30 00:00:00.000</td><td>4</td></tr>",
                            "<tr><td>Thin-Jam Lock Nut 14</td><td>2008-04-30 00:00:00.000</td><td>4</td></tr>",
                            "<tr><td>Thin-Jam Lock Nut 15</td><td>2008-04-30 00:00:00.000</td><td>4</td></tr>",
                            "<tr><td>Thin-Jam Lock Nut 16</td><td>2008-04-30 00:00:00.000</td><td>4</td></tr>",
                            "<tr><td>Thin-Jam Lock Nut 2</td><td>2008-04-30 00:00:00.000</td><td>4</td></tr>",
                            "<tr><td>Thin-Jam Lock Nut 3</td><td>2008-04-30 00:00:00.000</td><td>4</td></tr>",
                            "<tr><td>Thin-Jam Lock Nut 4</td><td>2008-04-30 00:00:00.000</td><td>4</td></tr>",
                            "<tr><td>Thin-Jam Lock Nut 5</td><td>2008-04-30 00:00:00.000</td><td>4</td></tr>",
                            "<tr><td>Thin-Jam Lock Nut 6</td><td>2008-04-30 00:00:00.000</td><td>4</td></tr>",
                            "<tr><td>Thin-Jam Lock Nut 7</td><td>2008-04-30 00:00:00.000</td><td>4</td></tr>",
                            "<tr><td>Thin-Jam Lock Nut 8</td><td>2008-04-30 00:00:00.000</td><td>4</td></tr>",
                            "<tr><td>Thin-Jam Lock Nut 9</td><td>2008-04-30 00:00:00.000</td><td>4</td></tr>",
                            "<tr><td>Top Tube</td><td>2008-04-30 00:00:00.000</td><td>4</td></tr>",
                            "<tr><td>Touring End Caps</td><td>2008-04-30 00:00:00.000</td><td>4</td></tr>",
                            "<tr><td>Touring Rim</td><td>2008-04-30 00:00:00.000</td><td>4</td></tr>",
                            "<tr><td>Cable Lock</td><td>2012-05-30 00:00:00.000</td><td>4</td></tr>",
                            "<tr><td>Full-Finger Gloves, L</td><td>2012-05-30 00:00:00.000</td><td>4</td></tr>",
                            "<tr><td>Full-Finger Gloves, M</td><td>2012-05-30 00:00:00.000</td><td>4</td></tr>",
                            "<tr><td>Full-Finger Gloves, S</td><td>2012-05-30 00:00:00.000</td><td>4</td></tr>",
                            "<tr><td>Half-Finger Gloves, L</td><td>2012-05-30 00:00:00.000</td><td>4</td></tr>",
                            "<tr><td>Half-Finger Gloves, M</td><td>2012-05-30 00:00:00.000</td><td>4</td></tr>",
                            "<tr><td>Half-Finger Gloves, S</td><td>2012-05-30 00:00:00.000</td><td>4</td></tr>",
                            "<tr><td>Headlights - Dual-Beam</td><td>2012-05-30 00:00:00.000</td><td>4</td></tr>",
                            "<tr><td>Headlights - Weatherproof</td><td>2012-05-30 00:00:00.000</td><td>4</td></tr>",
                            "<tr><td>HL Fork</td><td>2012-05-30 00:00:00.000</td><td>4</td></tr>",
                            "<tr><td>HL Headset</td><td>2012-05-30 00:00:00.000</td><td>4</td></tr>",
                            "<tr><td>HL Mountain Front Wheel</td><td>2012-05-30 00:00:00.000</td><td>4</td></tr>",
                            "<tr><td>HL Mountain Handlebars</td><td>2012-05-30 00:00:00.000</td><td>4</td></tr>",
                            "<tr><td>HL Mountain Rear Wheel</td><td>2012-05-30 00:00:00.000</td><td>4</td></tr>",
                            "<tr><td>HL Road Frame - Black, 44</td><td>2012-05-30 00:00:00.000</td><td>4</td></tr>",
                            "<tr><td>HL Road Frame - Black, 48</td><td>2012-05-30 00:00:00.000</td><td>4</td></tr>",
                            "<tr><td>HL Road Frame - Black, 52</td><td>2012-05-30 00:00:00.000</td><td>4</td></tr>",
                            "<tr><td>HL Road Frame - Black, 62</td><td>2012-05-30 00:00:00.000</td><td>4</td></tr>",
                            "<tr><td>HL Road Front Wheel</td><td>2012-05-30 00:00:00.000</td><td>4</td></tr>",
                            "<tr><td>HL Road Handlebars</td><td>2012-05-30 00:00:00.000</td><td>4</td></tr>",
                            "<tr><td>HL Road Rear Wheel</td><td>2012-05-30 00:00:00.000</td><td>4</td></tr>",
                            "<tr><td>LL Fork</td><td>2012-05-30 00:00:00.000</td><td>4</td></tr>",
                            "<tr><td>LL Headset</td><td>2012-05-30 00:00:00.000</td><td>4</td></tr>",
                            "<tr><td>LL Mountain Front Wheel</td><td>2012-05-30 00:00:00.000</td><td>4</td></tr>",
                            "<tr><td>LL Mountain Handlebars</td><td>2012-05-30 00:00:00.000</td><td>4</td></tr>",
                            "<tr><td>LL Mountain Rear Wheel</td><td>2012-05-30 00:00:00.000</td><td>4</td></tr>",
                            "<tr><td>LL Road Front Wheel</td><td>2012-05-30 00:00:00.000</td><td>4</td></tr>",
                            "<tr><td>LL Road Handlebars</td><td>2012-05-30 00:00:00.000</td><td>4</td></tr>",
                            "<tr><td>LL Road Rear Wheel</td><td>2012-05-30 00:00:00.000</td><td>4</td></tr>",
                            "<tr><td>Men's Bib-Shorts, L</td><td>2012-05-30 00:00:00.000</td><td>4</td></tr>",
                            "<tr><td>Men's Bib-Shorts, M</td><td>2012-05-30 00:00:00.000</td><td>4</td></tr>",
                            "<tr><td>Men's Bib-Shorts, S</td><td>2012-05-30 00:00:00.000</td><td>4</td></tr>",
                            "<tr><td>Men's Sports Shorts, L</td><td>2012-05-30 00:00:00.000</td><td>4</td></tr>",
                            "<tr><td>Men's Sports Shorts, M</td><td>2012-05-30 00:00:00.000</td><td>4</td></tr>",
                            "<tr><td>Men's Sports Shorts, S</td><td>2012-05-30 00:00:00.000</td><td>4</td></tr>",
                            "<tr><td>Men's Sports Shorts, XL</td><td>2012-05-30 00:00:00.000</td><td>4</td></tr>",
                            "<tr><td>Minipump</td><td>2012-05-30 00:00:00.000</td><td>4</td></tr>",
                            "<tr><td>ML Fork</td><td>2012-05-30 00:00:00.000</td><td>4</td></tr>",
                            "<tr><td>ML Headset</td><td>2012-05-30 00:00:00.000</td><td>4</td></tr>",
                            "<tr><td>ML Mountain Frame - Black, 38</td><td>2012-05-30 00:00:00.000</td><td>4</td></tr>",
                            "<tr><td>ML Mountain Frame - Black, 40</td><td>2012-05-30 00:00:00.000</td><td>4</td></tr>",
                            "<tr><td>ML Mountain Frame - Black, 44</td><td>2012-05-30 00:00:00.000</td><td>4</td></tr>",
                            "<tr><td>ML Mountain Frame - Black, 48</td><td>2012-05-30 00:00:00.000</td><td>4</td></tr>",
                            "<tr><td>ML Mountain Front Wheel</td><td>2012-05-30 00:00:00.000</td><td>4</td></tr>",
                            "<tr><td>ML Mountain Handlebars</td><td>2012-05-30 00:00:00.000</td><td>4</td></tr>",
                            "<tr><td>ML Mountain Rear Wheel</td><td>2012-05-30 00:00:00.000</td><td>4</td></tr>",
                            "<tr><td>ML Road Frame-W - Yellow, 38</td><td>2012-05-30 00:00:00.000</td><td>4</td></tr>",
                            "<tr><td>ML Road Frame-W - Yellow, 40</td><td>2012-05-30 00:00:00.000</td><td>4</td></tr>",
                            "<tr><td>ML Road Frame-W - Yellow, 42</td><td>2012-05-30 00:00:00.000</td><td>4</td></tr>",
                            "<tr><td>ML Road Frame-W - Yellow, 44</td><td>2012-05-30 00:00:00.000</td><td>4</td></tr>",
                            "<tr><td>ML Road Frame-W - Yellow, 48</td><td>2012-05-30 00:00:00.000</td><td>4</td></tr>",
                            "<tr><td>ML Road Front Wheel</td><td>2012-05-30 00:00:00.000</td><td>4</td></tr>",
                            "<tr><td>ML Road Handlebars</td><td>2012-05-30 00:00:00.000</td><td>4</td></tr>",
                            "<tr><td>ML Road Rear Wheel</td><td>2012-05-30 00:00:00.000</td><td>4</td></tr>",
                            "<tr><td>Mountain Pump</td><td>2012-05-30 00:00:00.000</td><td>4</td></tr>",
                            "<tr><td>Mountain-200 Black, 38</td><td>2012-05-30 00:00:00.000</td><td>4</td></tr>",
                            "<tr><td>Mountain-200 Black, 42</td><td>2012-05-30 00:00:00.000</td><td>4</td></tr>",
                            "<tr><td>Mountain-200 Black, 46</td><td>2012-05-30 00:00:00.000</td><td>4</td></tr>",
                            "<tr><td>Mountain-200 Silver, 38</td><td>2012-05-30 00:00:00.000</td><td>4</td></tr>",
                            "<tr><td>Mountain-200 Silver, 42</td><td>2012-05-30 00:00:00.000</td><td>4</td></tr>",
                            "<tr><td>Mountain-200 Silver, 46</td><td>2012-05-30 00:00:00.000</td><td>4</td></tr>",
                            "<tr><td>Mountain-300 Black, 38</td><td>2012-05-30 00:00:00.000</td><td>4</td></tr>",
                            "<tr><td>Mountain-300 Black, 40</td><td>2012-05-30 00:00:00.000</td><td>4</td></tr>",
                            "<tr><td>Mountain-300 Black, 44</td><td>2012-05-30 00:00:00.000</td><td>4</td></tr>",
                            "<tr><td>Mountain-300 Black, 48</td><td>2012-05-30 00:00:00.000</td><td>4</td></tr>",
                            "<tr><td>Road-250 Black, 44</td><td>2012-05-30 00:00:00.000</td><td>4</td></tr>",
                            "<tr><td>Road-250 Black, 48</td><td>2012-05-30 00:00:00.000</td><td>4</td></tr>",
                            "<tr><td>Road-250 Black, 52</td><td>2012-05-30 00:00:00.000</td><td>4</td></tr>",
                            "<tr><td>Road-250 Black, 58</td><td>2012-05-30 00:00:00.000</td><td>4</td></tr>",
                            "<tr><td>Road-250 Red, 44</td><td>2012-05-30 00:00:00.000</td><td>4</td></tr>",
                            "<tr><td>Road-250 Red, 48</td><td>2012-05-30 00:00:00.000</td><td>4</td></tr>",
                            "<tr><td>Road-250 Red, 52</td><td>2012-05-30 00:00:00.000</td><td>4</td></tr>",
                            "<tr><td>Road-250 Red, 58</td><td>2012-05-30 00:00:00.000</td><td>4</td></tr>",
                            "<tr><td>Road-550-W Yellow, 38</td><td>2012-05-30 00:00:00.000</td><td>4</td></tr>",
                            "<tr><td>Road-550-W Yellow, 40</td><td>2012-05-30 00:00:00.000</td><td>4</td></tr>",
                            "<tr><td>Road-550-W Yellow, 42</td><td>2012-05-30 00:00:00.000</td><td>4</td></tr>",
                            "<tr><td>Road-550-W Yellow, 44</td><td>2012-05-30 00:00:00.000</td><td>4</td></tr>",
                            "<tr><td>Road-550-W Yellow, 48</td><td>2012-05-30 00:00:00.000</td><td>4</td></tr>",
                            "<tr><td>Taillights - Battery-Powered</td><td>2012-05-30 00:00:00.000</td><td>4</td></tr>",
                            "<tr><td>Touring Front Wheel</td><td>2012-05-30 00:00:00.000</td><td>4</td></tr>",
                            "<tr><td>Touring Rear Wheel</td><td>2012-05-30 00:00:00.000</td><td>4</td></tr>",
                            "<tr><td>Touring-Panniers, Large</td><td>2012-05-30 00:00:00.000</td><td>4</td></tr>",
                            "<tr><td>Women's Tights, L</td><td>2012-05-30 00:00:00.000</td><td>4</td></tr>",
                            "<tr><td>Women's Tights, M</td><td>2012-05-30 00:00:00.000</td><td>4</td></tr>",
                            "<tr><td>Women's Tights, S</td><td>2012-05-30 00:00:00.000</td><td>4</td></tr>",
                            "<tr><td>All-Purpose Bike Stand</td><td>2013-05-30 00:00:00.000</td><td>5</td></tr>",
                            "<tr><td>Bike Wash - Dissolver</td><td>2013-05-30 00:00:00.000</td><td>5</td></tr>",
                            "<tr><td>Chain</td><td>2013-05-30 00:00:00.000</td><td>5</td></tr>",
                            "<tr><td>Classic Vest, L</td><td>2013-05-30 00:00:00.000</td><td>5</td></tr>",
                            "<tr><td>Classic Vest, M</td><td>2013-05-30 00:00:00.000</td><td>5</td></tr>",
                            "<tr><td>Classic Vest, S</td><td>2013-05-30 00:00:00.000</td><td>5</td></tr>",
                            "<tr><td>Fender Set - Mountain</td><td>2013-05-30 00:00:00.000</td><td>5</td></tr>",
                            "<tr><td>Front Brakes</td><td>2013-05-30 00:00:00.000</td><td>5</td></tr>",
                            "<tr><td>Front Derailleur</td><td>2013-05-30 00:00:00.000</td><td>5</td></tr>",
                            "<tr><td>Hitch Rack - 4-Bike</td><td>2013-05-30 00:00:00.000</td><td>5</td></tr>",
                            "<tr><td>HL Bottom Bracket</td><td>2013-05-30 00:00:00.000</td><td>5</td></tr>",
                            "<tr><td>HL Crankset</td><td>2013-05-30 00:00:00.000</td><td>5</td></tr>",
                            "<tr><td>HL Mountain Pedal</td><td>2013-05-30 00:00:00.000</td><td>5</td></tr>",
                            "<tr><td>HL Mountain Seat/Saddle</td><td>2013-05-30 00:00:00.000</td><td>5</td></tr>",
                            "<tr><td>HL Mountain Tire</td><td>2013-05-30 00:00:00.000</td><td>5</td></tr>",
                            "<tr><td>HL Road Pedal</td><td>2013-05-30 00:00:00.000</td><td>5</td></tr>",
                            "<tr><td>HL Road Seat/Saddle</td><td>2013-05-30 00:00:00.000</td><td>5</td></tr>",
                            "<tr><td>HL Road Tire</td><td>2013-05-30 00:00:00.000</td><td>5</td></tr>",
                            "<tr><td>HL Touring Frame - Blue, 46</td><td>2013-05-30 00:00:00.000</td><td>5</td></tr>",
                            "<tr><td>HL Touring Frame - Blue, 50</td><td>2013-05-30 00:00:00.000</td><td>5</td></tr>",
                            "<tr><td>HL Touring Frame - Blue, 54</td><td>2013-05-30 00:00:00.000</td><td>5</td></tr>",
                            "<tr><td>HL Touring Frame - Blue, 60</td><td>2013-05-30 00:00:00.000</td><td>5</td></tr>",
                            "<tr><td>HL Touring Frame - Yellow, 46</td><td>2013-05-30 00:00:00.000</td><td>5</td></tr>",
                            "<tr><td>HL Touring Frame - Yellow, 50</td><td>2013-05-30 00:00:00.000</td><td>5</td></tr>",
                            "<tr><td>HL Touring Frame - Yellow, 54</td><td>2013-05-30 00:00:00.000</td><td>5</td></tr>",
                            "<tr><td>HL Touring Frame - Yellow, 60</td><td>2013-05-30 00:00:00.000</td><td>5</td></tr>",
                            "<tr><td>HL Touring Handlebars</td><td>2013-05-30 00:00:00.000</td><td>5</td></tr>",
                            "<tr><td>HL Touring Seat/Saddle</td><td>2013-05-30 00:00:00.000</td><td>5</td></tr>",
                            "<tr><td>Hydration Pack - 70 oz.</td><td>2013-05-30 00:00:00.000</td><td>5</td></tr>",
                            "<tr><td>LL Bottom Bracket</td><td>2013-05-30 00:00:00.000</td><td>5</td></tr>",
                            "<tr><td>LL Crankset</td><td>2013-05-30 00:00:00.000</td><td>5</td></tr>",
                            "<tr><td>LL Mountain Frame - Black, 40</td><td>2013-05-30 00:00:00.000</td><td>5</td></tr>",
                            "<tr><td>LL Mountain Frame - Black, 42</td><td>2013-05-30 00:00:00.000</td><td>5</td></tr>",
                            "<tr><td>LL Mountain Frame - Black, 44</td><td>2013-05-30 00:00:00.000</td><td>5</td></tr>",
                            "<tr><td>LL Mountain Frame - Black, 48</td><td>2013-05-30 00:00:00.000</td><td>5</td></tr>",
                            "<tr><td>LL Mountain Frame - Black, 52</td><td>2013-05-30 00:00:00.000</td><td>5</td></tr>",
                            "<tr><td>LL Mountain Frame - Silver, 40</td><td>2013-05-30 00:00:00.000</td><td>5</td></tr>",
                            "<tr><td>LL Mountain Frame - Silver, 42</td><td>2013-05-30 00:00:00.000</td><td>5</td></tr>",
                            "<tr><td>LL Mountain Frame - Silver, 44</td><td>2013-05-30 00:00:00.000</td><td>5</td></tr>",
                            "<tr><td>LL Mountain Frame - Silver, 48</td><td>2013-05-30 00:00:00.000</td><td>5</td></tr>",
                            "<tr><td>LL Mountain Frame - Silver, 52</td><td>2013-05-30 00:00:00.000</td><td>5</td></tr>",
                            "<tr><td>LL Mountain Pedal</td><td>2013-05-30 00:00:00.000</td><td>5</td></tr>",
                            "<tr><td>LL Mountain Seat/Saddle</td><td>2013-05-30 00:00:00.000</td><td>5</td></tr>",
                            "<tr><td>LL Mountain Tire</td><td>2013-05-30 00:00:00.000</td><td>5</td></tr>",
                            "<tr><td>LL Road Pedal</td><td>2013-05-30 00:00:00.000</td><td>5</td></tr>",
                            "<tr><td>LL Road Seat/Saddle</td><td>2013-05-30 00:00:00.000</td><td>5</td></tr>",
                            "<tr><td>LL Road Tire</td><td>2013-05-30 00:00:00.000</td><td>5</td></tr>",
                            "<tr><td>LL Touring Frame - Blue, 44</td><td>2013-05-30 00:00:00.000</td><td>5</td></tr>",
                            "<tr><td>LL Touring Frame - Blue, 50</td><td>2013-05-30 00:00:00.000</td><td>5</td></tr>",
                            "<tr><td>LL Touring Frame - Blue, 54</td><td>2013-05-30 00:00:00.000</td><td>5</td></tr>",
                            "<tr><td>LL Touring Frame - Blue, 58</td><td>2013-05-30 00:00:00.000</td><td>5</td></tr>",
                            "<tr><td>LL Touring Frame - Blue, 62</td><td>2013-05-30 00:00:00.000</td><td>5</td></tr>",
                            "<tr><td>LL Touring Frame - Yellow, 44</td><td>2013-05-30 00:00:00.000</td><td>5</td></tr>",
                            "<tr><td>LL Touring Frame - Yellow, 50</td><td>2013-05-30 00:00:00.000</td><td>5</td></tr>",
                            "<tr><td>LL Touring Frame - Yellow, 54</td><td>2013-05-30 00:00:00.000</td><td>5</td></tr>",
                            "<tr><td>LL Touring Frame - Yellow, 58</td><td>2013-05-30 00:00:00.000</td><td>5</td></tr>",
                            "<tr><td>LL Touring Frame - Yellow, 62</td><td>2013-05-30 00:00:00.000</td><td>5</td></tr>",
                            "<tr><td>LL Touring Handlebars</td><td>2013-05-30 00:00:00.000</td><td>5</td></tr>",
                            "<tr><td>LL Touring Seat/Saddle</td><td>2013-05-30 00:00:00.000</td><td>5</td></tr>",
                            "<tr><td>ML Bottom Bracket</td><td>2013-05-30 00:00:00.000</td><td>5</td></tr>",
                            "<tr><td>ML Crankset</td><td>2013-05-30 00:00:00.000</td><td>5</td></tr>",
                            "<tr><td>ML Mountain Frame-W - Silver, 38</td><td>2013-05-30 00:00:00.000</td><td>5</td></tr>",
                            "<tr><td>ML Mountain Frame-W - Silver, 40</td><td>2013-05-30 00:00:00.000</td><td>5</td></tr>",
                            "<tr><td>ML Mountain Frame-W - Silver, 42</td><td>2013-05-30 00:00:00.000</td><td>5</td></tr>",
                            "<tr><td>ML Mountain Frame-W - Silver, 46</td><td>2013-05-30 00:00:00.000</td><td>5</td></tr>",
                            "<tr><td>ML Mountain Pedal</td><td>2013-05-30 00:00:00.000</td><td>5</td></tr>",
                            "<tr><td>ML Mountain Seat/Saddle</td><td>2013-05-30 00:00:00.000</td><td>5</td></tr>",
                            "<tr><td>ML Mountain Tire</td><td>2013-05-30 00:00:00.000</td><td>5</td></tr>",
                            "<tr><td>ML Road Pedal</td><td>2013-05-30 00:00:00.000</td><td>5</td></tr>",
                            "<tr><td>ML Road Seat/Saddle</td><td>2013-05-30 00:00:00.000</td><td>5</td></tr>",
                            "<tr><td>ML Road Tire</td><td>2013-05-30 00:00:00.000</td><td>5</td></tr>",
                            "<tr><td>ML Touring Seat/Saddle</td><td>2013-05-30 00:00:00.000</td><td>5</td></tr>",
                            "<tr><td>Mountain Bottle Cage</td><td>2013-05-30 00:00:00.000</td><td>5</td></tr>",
                            "<tr><td>Mountain Tire Tube</td><td>2013-05-30 00:00:00.000</td><td>5</td></tr>",
                            "<tr><td>Mountain-400-W Silver, 38</td><td>2013-05-30 00:00:00.000</td><td>5</td></tr>",
                            "<tr><td>Mountain-400-W Silver, 40</td><td>2013-05-30 00:00:00.000</td><td>5</td></tr>",
                            "<tr><td>Mountain-400-W Silver, 42</td><td>2013-05-30 00:00:00.000</td><td>5</td></tr>",
                            "<tr><td>Mountain-400-W Silver, 46</td><td>2013-05-30 00:00:00.000</td><td>5</td></tr>",
                            "<tr><td>Mountain-500 Black, 40</td><td>2013-05-30 00:00:00.000</td><td>5</td></tr>",
                            "<tr><td>Mountain-500 Black, 42</td><td>2013-05-30 00:00:00.000</td><td>5</td></tr>",
                            "<tr><td>Mountain-500 Black, 44</td><td>2013-05-30 00:00:00.000</td><td>5</td></tr>",
                            "<tr><td>Mountain-500 Black, 48</td><td>2013-05-30 00:00:00.000</td><td>5</td></tr>",
                            "<tr><td>Mountain-500 Black, 52</td><td>2013-05-30 00:00:00.000</td><td>5</td></tr>",
                            "<tr><td>Mountain-500 Silver, 40</td><td>2013-05-30 00:00:00.000</td><td>5</td></tr>",
                            "<tr><td>Mountain-500 Silver, 42</td><td>2013-05-30 00:00:00.000</td><td>5</td></tr>",
                            "<tr><td>Mountain-500 Silver, 44</td><td>2013-05-30 00:00:00.000</td><td>5</td></tr>",
                            "<tr><td>Mountain-500 Silver, 48</td><td>2013-05-30 00:00:00.000</td><td>5</td></tr>",
                            "<tr><td>Mountain-500 Silver, 52</td><td>2013-05-30 00:00:00.000</td><td>5</td></tr>",
                            "<tr><td>Patch Kit/8 Patches</td><td>2013-05-30 00:00:00.000</td><td>5</td></tr>",
                            "<tr><td>Racing Socks, L</td><td>2013-05-30 00:00:00.000</td><td>5</td></tr>",
                            "<tr><td>Racing Socks, M</td><td>2013-05-30 00:00:00.000</td><td>5</td></tr>",
                            "<tr><td>Rear Brakes</td><td>2013-05-30 00:00:00.000</td><td>5</td></tr>",
                            "<tr><td>Rear Derailleur</td><td>2013-05-30 00:00:00.000</td><td>5</td></tr>",
                            "<tr><td>Road Bottle Cage</td><td>2013-05-30 00:00:00.000</td><td>5</td></tr>",
                            "<tr><td>Road Tire Tube</td><td>2013-05-30 00:00:00.000</td><td>5</td></tr>",
                            "<tr><td>Road-350-W Yellow, 40</td><td>2013-05-30 00:00:00.000</td><td>5</td></tr>",
                            "<tr><td>Road-350-W Yellow, 42</td><td>2013-05-30 00:00:00.000</td><td>5</td></tr>",
                            "<tr><td>Road-350-W Yellow, 44</td><td>2013-05-30 00:00:00.000</td><td>5</td></tr>",
                            "<tr><td>Road-350-W Yellow, 48</td><td>2013-05-30 00:00:00.000</td><td>5</td></tr>",
                            "<tr><td>Road-750 Black, 44</td><td>2013-05-30 00:00:00.000</td><td>5</td></tr>",
                            "<tr><td>Road-750 Black, 48</td><td>2013-05-30 00:00:00.000</td><td>5</td></tr>",
                            "<tr><td>Road-750 Black, 52</td><td>2013-05-30 00:00:00.000</td><td>5</td></tr>",
                            "<tr><td>Road-750 Black, 58</td><td>2013-05-30 00:00:00.000</td><td>5</td></tr>",
                            "<tr><td>Short-Sleeve Classic Jersey, L</td><td>2013-05-30 00:00:00.000</td><td>5</td></tr>",
                            "<tr><td>Short-Sleeve Classic Jersey, M</td><td>2013-05-30 00:00:00.000</td><td>5</td></tr>",
                            "<tr><td>Short-Sleeve Classic Jersey, S</td><td>2013-05-30 00:00:00.000</td><td>5</td></tr>",
                            "<tr><td>Short-Sleeve Classic Jersey, XL</td><td>2013-05-30 00:00:00.000</td><td>5</td></tr>",
                            "<tr><td>Touring Pedal</td><td>2013-05-30 00:00:00.000</td><td>5</td></tr>",
                            "<tr><td>Touring Tire</td><td>2013-05-30 00:00:00.000</td><td>5</td></tr>",
                            "<tr><td>Touring Tire Tube</td><td>2013-05-30 00:00:00.000</td><td>5</td></tr>",
                            "<tr><td>Touring-1000 Blue, 46</td><td>2013-05-30 00:00:00.000</td><td>5</td></tr>",
                            "<tr><td>Touring-1000 Blue, 50</td><td>2013-05-30 00:00:00.000</td><td>5</td></tr>",
                            "<tr><td>Touring-1000 Blue, 54</td><td>2013-05-30 00:00:00.000</td><td>5</td></tr>",
                            "<tr><td>Touring-1000 Blue, 60</td><td>2013-05-30 00:00:00.000</td><td>5</td></tr>",
                            "<tr><td>Touring-1000 Yellow, 46</td><td>2013-05-30 00:00:00.000</td><td>5</td></tr>",
                            "<tr><td>Touring-1000 Yellow, 50</td><td>2013-05-30 00:00:00.000</td><td>5</td></tr>",
                            "<tr><td>Touring-1000 Yellow, 54</td><td>2013-05-30 00:00:00.000</td><td>5</td></tr>",
                            "<tr><td>Touring-1000 Yellow, 60</td><td>2013-05-30 00:00:00.000</td><td>5</td></tr>",
                            "<tr><td>Touring-2000 Blue, 46</td><td>2013-05-30 00:00:00.000</td><td>5</td></tr>",
                            "<tr><td>Touring-2000 Blue, 50</td><td>2013-05-30 00:00:00.000</td><td>5</td></tr>",
                            "<tr><td>Touring-2000 Blue, 54</td><td>2013-05-30 00:00:00.000</td><td>5</td></tr>",
                            "<tr><td>Touring-2000 Blue, 60</td><td>2013-05-30 00:00:00.000</td><td>5</td></tr>",
                            "<tr><td>Touring-3000 Blue, 44</td><td>2013-05-30 00:00:00.000</td><td>5</td></tr>",
                            "<tr><td>Touring-3000 Blue, 50</td><td>2013-05-30 00:00:00.000</td><td>5</td></tr>",
                            "<tr><td>Touring-3000 Blue, 54</td><td>2013-05-30 00:00:00.000</td><td>5</td></tr>",
                            "<tr><td>Touring-3000 Blue, 58</td><td>2013-05-30 00:00:00.000</td><td>5</td></tr>",
                            "<tr><td>Touring-3000 Blue, 62</td><td>2013-05-30 00:00:00.000</td><td>5</td></tr>",
                            "<tr><td>Touring-3000 Yellow, 44</td><td>2013-05-30 00:00:00.000</td><td>5</td></tr>",
                            "<tr><td>Touring-3000 Yellow, 50</td><td>2013-05-30 00:00:00.000</td><td>5</td></tr>",
                            "<tr><td>Touring-3000 Yellow, 54</td><td>2013-05-30 00:00:00.000</td><td>5</td></tr>",
                            "<tr><td>Touring-3000 Yellow, 58</td><td>2013-05-30 00:00:00.000</td><td>5</td></tr>",
                            "<tr><td>Touring-3000 Yellow, 62</td><td>2013-05-30 00:00:00.000</td><td>5</td></tr>",
                            "<tr><td>Water Bottle - 30 oz.</td><td>2013-05-30 00:00:00.000</td><td>5</td></tr>",
                            "<tr><td>Women's Mountain Shorts, L</td><td>2013-05-30 00:00:00.000</td><td>5</td></tr>",
                            "<tr><td>Women's Mountain Shorts, M</td><td>2013-05-30 00:00:00.000</td><td>5</td></tr>",
                            "<tr><td>Women's Mountain Shorts, S</td><td>2013-05-30 00:00:00.000</td><td>5</td></tr>",
                            "</table>"
                        ]
                    }
                }
            ],
            "execution_count": 148
        }
    ]
}